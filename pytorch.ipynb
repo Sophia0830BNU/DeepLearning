{
 "cells": [
  {
   "cell_type": "markdown",
   "id": "cf0eb32c",
   "metadata": {
    "papermill": {
     "duration": 0.019146,
     "end_time": "2023-11-10T13:50:48.296087",
     "exception": false,
     "start_time": "2023-11-10T13:50:48.276941",
     "status": "completed"
    },
    "tags": []
   },
   "source": [
    "# 第3章 Pytorch 基本开发步骤——用逻辑回归拟合二维数据"
   ]
  },
  {
   "cell_type": "code",
   "execution_count": 1,
   "id": "796c9664",
   "metadata": {
    "execution": {
     "iopub.execute_input": "2023-11-10T13:50:48.334964Z",
     "iopub.status.busy": "2023-11-10T13:50:48.334650Z",
     "iopub.status.idle": "2023-11-10T13:50:53.228183Z",
     "shell.execute_reply": "2023-11-10T13:50:53.227342Z"
    },
    "papermill": {
     "duration": 4.915383,
     "end_time": "2023-11-10T13:50:53.230517",
     "exception": false,
     "start_time": "2023-11-10T13:50:48.315134",
     "status": "completed"
    },
    "tags": []
   },
   "outputs": [
    {
     "name": "stderr",
     "output_type": "stream",
     "text": [
      "/opt/conda/lib/python3.10/site-packages/scipy/__init__.py:146: UserWarning: A NumPy version >=1.16.5 and <1.23.0 is required for this version of SciPy (detected version 1.23.5\n",
      "  warnings.warn(f\"A NumPy version >={np_minversion} and <{np_maxversion}\"\n"
     ]
    }
   ],
   "source": [
    "# P20 3.1 实例1：从一组看似混乱的数据中找出规律\n",
    "# 数据集生成\n",
    "#load the required library\n",
    "import sklearn.datasets\n",
    "import torch\n",
    "import numpy as np\n",
    "import matplotlib.pyplot as plt"
   ]
  },
  {
   "cell_type": "code",
   "execution_count": 2,
   "id": "0ef2b66c",
   "metadata": {
    "execution": {
     "iopub.execute_input": "2023-11-10T13:50:53.269538Z",
     "iopub.status.busy": "2023-11-10T13:50:53.269155Z",
     "iopub.status.idle": "2023-11-10T13:50:53.629476Z",
     "shell.execute_reply": "2023-11-10T13:50:53.628576Z"
    },
    "papermill": {
     "duration": 0.382041,
     "end_time": "2023-11-10T13:50:53.631645",
     "exception": false,
     "start_time": "2023-11-10T13:50:53.249604",
     "status": "completed"
    },
    "tags": []
   },
   "outputs": [
    {
     "data": {
      "image/png": "[encoded data removed]",
      "text/plain": [
       "<Figure size 640x480 with 1 Axes>"
      ]
     },
     "metadata": {},
     "output_type": "display_data"
    }
   ],
   "source": [
    "np.random.seed(0)\n",
    "X, Y = sklearn.datasets.make_moons(200, noise=0.2)\n",
    "# X为数据的二维特征，y为标签属性\n",
    "\n",
    "arg = np.squeeze(np.argwhere(Y==0), axis = 1) #获取第1组索引\n",
    "# np.squeeze 将其合并为一行向量\n",
    "arg2 = np.squeeze(np.argwhere(Y==1), axis = 1) #获取第二组索引\n",
    "\n",
    "plt.title(\"moons data\")\n",
    "plt.scatter(X[arg,0], X[arg, 1], s=100, c='b',marker='+',label='data1')\n",
    "plt.scatter(X[arg2,0],X[arg2,1],s=40,c='r',marker='o',label='data2')\n",
    "plt.legend()\n",
    "plt.show()"
   ]
  },
  {
   "cell_type": "code",
   "execution_count": 3,
   "id": "e7501fad",
   "metadata": {
    "execution": {
     "iopub.execute_input": "2023-11-10T13:50:53.672588Z",
     "iopub.status.busy": "2023-11-10T13:50:53.672266Z",
     "iopub.status.idle": "2023-11-10T13:50:53.680885Z",
     "shell.execute_reply": "2023-11-10T13:50:53.680041Z"
    },
    "papermill": {
     "duration": 0.031011,
     "end_time": "2023-11-10T13:50:53.682842",
     "exception": false,
     "start_time": "2023-11-10T13:50:53.651831",
     "status": "completed"
    },
    "tags": []
   },
   "outputs": [],
   "source": [
    "# 定义网络模型 LogicNet\n",
    "import torch.nn as nn\n",
    "import torch\n",
    "import numpy as np\n",
    "import matplotlib.pyplot as plt\n",
    "class LogicNet(nn.Module): ##继承nn.Module类，构建网络模型\n",
    "    def __init__(self,inputdim,hiddendim,outputdim):\n",
    "        super(LogicNet,self).__init__()\n",
    "        self.Linear1 = nn.Linear(inputdim,hiddendim) #定义全连接层\n",
    "        self.Linear2 = nn.Linear(hiddendim, outputdim) #定义全连接层\n",
    "        self.criterion = nn.CrossEntropyLoss() #定义交叉熵函数\n",
    "    def forward(self, x):\n",
    "        x = self.Linear1(x) #输入送入到第一个全连接层\n",
    "        x = torch.tanh(x) #对第一个全连接层的结果进行非线性变换\n",
    "        x = self.Linear2(x)\n",
    "        return x\n",
    "    def predict(self, x): #模型的预测接口\n",
    "        pred = torch.softmax(self.forward(x), dim=1)\n",
    "        return torch.argmax(pred, dim=1)\n",
    "    def getloss(self,x,y):\n",
    "        y_pred = self.forward(x)\n",
    "        loss = self.criterion(y_pred,y)\n",
    "        return loss      "
   ]
  },
  {
   "cell_type": "code",
   "execution_count": 4,
   "id": "9b6682fa",
   "metadata": {
    "execution": {
     "iopub.execute_input": "2023-11-10T13:50:53.721312Z",
     "iopub.status.busy": "2023-11-10T13:50:53.721054Z",
     "iopub.status.idle": "2023-11-10T13:50:53.743415Z",
     "shell.execute_reply": "2023-11-10T13:50:53.742702Z"
    },
    "papermill": {
     "duration": 0.043893,
     "end_time": "2023-11-10T13:50:53.745445",
     "exception": false,
     "start_time": "2023-11-10T13:50:53.701552",
     "status": "completed"
    },
    "tags": []
   },
   "outputs": [],
   "source": [
    "model = LogicNet(inputdim=2,hiddendim=3,outputdim=2) #模型的最终结果有多少个分类，该参数就设置成多少\n",
    "optimizer = torch.optim.Adam(model.parameters(),lr=0.01)"
   ]
  },
  {
   "cell_type": "code",
   "execution_count": 5,
   "id": "61745379",
   "metadata": {
    "execution": {
     "iopub.execute_input": "2023-11-10T13:50:53.783446Z",
     "iopub.status.busy": "2023-11-10T13:50:53.783201Z",
     "iopub.status.idle": "2023-11-10T13:50:54.865172Z",
     "shell.execute_reply": "2023-11-10T13:50:54.864141Z"
    },
    "papermill": {
     "duration": 1.103822,
     "end_time": "2023-11-10T13:50:54.867750",
     "exception": false,
     "start_time": "2023-11-10T13:50:53.763928",
     "status": "completed"
    },
    "tags": []
   },
   "outputs": [],
   "source": [
    "#训练模型\n",
    "xt = torch.from_numpy(X).type(torch.FloatTensor) #将数据转换为张量\n",
    "yt = torch.from_numpy(Y).type(torch.LongTensor)\n",
    "epochs = 1000\n",
    "losses = []\n",
    "for i in range(epochs):\n",
    "    loss = model.getloss(xt, yt)\n",
    "    losses.append(loss.item())\n",
    "    optimizer.zero_grad() #清空之前的梯度\n",
    "    loss.backward() #反向传播损失值\n",
    "    optimizer.step() #更新参数"
   ]
  },
  {
   "cell_type": "code",
   "execution_count": 6,
   "id": "18155204",
   "metadata": {
    "execution": {
     "iopub.execute_input": "2023-11-10T13:50:54.908126Z",
     "iopub.status.busy": "2023-11-10T13:50:54.907217Z",
     "iopub.status.idle": "2023-11-10T13:50:55.149922Z",
     "shell.execute_reply": "2023-11-10T13:50:55.148963Z"
    },
    "papermill": {
     "duration": 0.264519,
     "end_time": "2023-11-10T13:50:55.151944",
     "exception": false,
     "start_time": "2023-11-10T13:50:54.887425",
     "status": "completed"
    },
    "tags": []
   },
   "outputs": [
    {
     "data": {
      "image/png": "[encoded data removed]",
      "text/plain": [
       "<Figure size 640x480 with 1 Axes>"
      ]
     },
     "metadata": {},
     "output_type": "display_data"
    }
   ],
   "source": [
    "#求移动平均值， 不足w个数当前值作为平均值，之后每w个求该窗口内的平均值\n",
    "def moving_average(a, w=10):\n",
    "    if len(a) <w:\n",
    "       return a[:]\n",
    "    return [val if idx<w else sum(a[idx-w:idx])/w for idx,val in enumerate(a)]\n",
    "def plot_losses(losses):\n",
    "    avgloss = moving_average(losses) #获得损失值的移动平均值\n",
    "    plt.figure(1)\n",
    "    plt.subplot(211)\n",
    "    plt.plot(range(len(avgloss)), avgloss, 'b--')\n",
    "    plt.xlabel('step number')\n",
    "    plt.ylabel('Training loss')\n",
    "    plt.title('step number vs Training loss')\n",
    "    plt.show()\n",
    "plot_losses(losses)"
   ]
  },
  {
   "cell_type": "code",
   "execution_count": 7,
   "id": "de12ed5f",
   "metadata": {
    "execution": {
     "iopub.execute_input": "2023-11-10T13:50:55.191691Z",
     "iopub.status.busy": "2023-11-10T13:50:55.191365Z",
     "iopub.status.idle": "2023-11-10T13:50:55.283634Z",
     "shell.execute_reply": "2023-11-10T13:50:55.282525Z"
    },
    "papermill": {
     "duration": 0.114184,
     "end_time": "2023-11-10T13:50:55.285668",
     "exception": false,
     "start_time": "2023-11-10T13:50:55.171484",
     "status": "completed"
    },
    "tags": []
   },
   "outputs": [
    {
     "name": "stdout",
     "output_type": "stream",
     "text": [
      "0.965\n"
     ]
    }
   ],
   "source": [
    "from sklearn.metrics import accuracy_score\n",
    "print(accuracy_score(model.predict(xt),yt))"
   ]
  },
  {
   "cell_type": "code",
   "execution_count": 8,
   "id": "af2212fe",
   "metadata": {
    "execution": {
     "iopub.execute_input": "2023-11-10T13:50:55.368170Z",
     "iopub.status.busy": "2023-11-10T13:50:55.367824Z",
     "iopub.status.idle": "2023-11-10T13:50:55.726060Z",
     "shell.execute_reply": "2023-11-10T13:50:55.724910Z"
    },
    "papermill": {
     "duration": 0.422956,
     "end_time": "2023-11-10T13:50:55.728356",
     "exception": false,
     "start_time": "2023-11-10T13:50:55.305400",
     "status": "completed"
    },
    "tags": []
   },
   "outputs": [
    {
     "data": {
      "image/png": "[encoded data removed]",
      "text/plain": [
       "<Figure size 640x480 with 1 Axes>"
      ]
     },
     "metadata": {},
     "output_type": "display_data"
    }
   ],
   "source": [
    "def predict(x):\n",
    "    x = torch.from_numpy(x).type(torch.FloatTensor)\n",
    "    ans = model.predict(x)\n",
    "    return ans.numpy()\n",
    "\n",
    "#可视化预测结果模型\n",
    "def plot_decision_boundary(pred_func, X, Y):\n",
    "    x_min, x_max = X[:, 0].min() - .5, X[:, 0].max() + .5\n",
    "    y_min, y_max = X[:, 1].min() - .5, X[:, 1].max() + .5\n",
    "    h = 0.01\n",
    "    #在坐标系中采用数据，生成网格矩阵，用于输入模型\n",
    "    xx,yy=np.meshgrid(np.arange(x_min, x_max, h), np.arange(y_min, y_max, h))\n",
    "    #将数据输入并进行预测\n",
    "    Z = pred_func(np.c_[xx.ravel(), yy.ravel()])\n",
    "\n",
    " \n",
    "    Z = Z.reshape(xx.shape)\n",
    "    #将预测的结果可视化\n",
    "    plt.contourf(xx, yy, Z, cmap=plt.cm.Spectral)\n",
    "    plt.title(\"Linear predict\")\n",
    "    arg = np.squeeze(np.argwhere(Y==0),axis = 1)\n",
    "    arg2 = np.squeeze(np.argwhere(Y==1),axis = 1)\n",
    "    plt.scatter(X[arg,0], X[arg,1], s=100,c='b',marker='+')\n",
    "    plt.scatter(X[arg2,0], X[arg2,1],s=40, c='r',marker='o')\n",
    "    plt.show()\n",
    "plot_decision_boundary(lambda x:predict(x), xt, yt)\n",
    "    "
   ]
  },
  {
   "cell_type": "markdown",
   "id": "a62cc354",
   "metadata": {
    "papermill": {
     "duration": 0.020191,
     "end_time": "2023-11-10T13:50:55.769706",
     "exception": false,
     "start_time": "2023-11-10T13:50:55.749515",
     "status": "completed"
    },
    "tags": []
   },
   "source": [
    "# 第4章 Pytorch基础  \n",
    "\n",
    "Pytorch是一个建立在Torch库上的Python包，内部主要是将数据封装成张量（Tensor）（由多个矩阵组成）来进行计算"
   ]
  },
  {
   "cell_type": "code",
   "execution_count": 9,
   "id": "f2170f51",
   "metadata": {
    "execution": {
     "iopub.execute_input": "2023-11-10T13:50:55.809786Z",
     "iopub.status.busy": "2023-11-10T13:50:55.809216Z",
     "iopub.status.idle": "2023-11-10T13:50:55.815954Z",
     "shell.execute_reply": "2023-11-10T13:50:55.815012Z"
    },
    "papermill": {
     "duration": 0.029071,
     "end_time": "2023-11-10T13:50:55.817956",
     "exception": false,
     "start_time": "2023-11-10T13:50:55.788885",
     "status": "completed"
    },
    "tags": []
   },
   "outputs": [
    {
     "name": "stdout",
     "output_type": "stream",
     "text": [
      "tensor(5)\n",
      "tensor([4])\n"
     ]
    }
   ],
   "source": [
    "#将其他类型转化为Tensor类型\n",
    "import torch\n",
    "import numpy as np\n",
    "a = torch.tensor(5)\n",
    "print(a)\n",
    "\n",
    "b = np.asarray([4])\n",
    "a = torch.tensor(b)\n",
    "print(a)"
   ]
  },
  {
   "cell_type": "code",
   "execution_count": 10,
   "id": "13502a9b",
   "metadata": {
    "execution": {
     "iopub.execute_input": "2023-11-10T13:50:55.857606Z",
     "iopub.status.busy": "2023-11-10T13:50:55.857341Z",
     "iopub.status.idle": "2023-11-10T13:50:55.873876Z",
     "shell.execute_reply": "2023-11-10T13:50:55.872698Z"
    },
    "papermill": {
     "duration": 0.038802,
     "end_time": "2023-11-10T13:50:55.876042",
     "exception": false,
     "start_time": "2023-11-10T13:50:55.837240",
     "status": "completed"
    },
    "tags": []
   },
   "outputs": [
    {
     "name": "stdout",
     "output_type": "stream",
     "text": [
      "tensor([-2.0718e+10,  4.3653e-41])\n",
      "tensor([[1.0827e-04, 3.1033e-41]])\n",
      "tensor([2.])\n",
      "tensor([1., 2.])\n",
      "tensor([[0.4684],\n",
      "        [0.1537]])\n"
     ]
    }
   ],
   "source": [
    "# torch 定义一个张量\n",
    "import torch\n",
    "\n",
    "#指定张量的形状（得到的张量是没有初始化的）\n",
    "a = torch.Tensor(2)\n",
    "print(a)\n",
    "\n",
    "b = torch.Tensor(1,2)\n",
    "print(b)\n",
    "\n",
    "#指定张量的内容\n",
    "c = torch.Tensor([2])\n",
    "print(c)\n",
    "\n",
    "d = torch.Tensor([1,2])\n",
    "print(d)\n",
    "\n",
    "x = torch.rand(2,1) #初始化\n",
    "print(x)"
   ]
  },
  {
   "cell_type": "code",
   "execution_count": 11,
   "id": "f0c80435",
   "metadata": {
    "execution": {
     "iopub.execute_input": "2023-11-10T13:50:55.916567Z",
     "iopub.status.busy": "2023-11-10T13:50:55.916255Z",
     "iopub.status.idle": "2023-11-10T13:50:55.922203Z",
     "shell.execute_reply": "2023-11-10T13:50:55.921256Z"
    },
    "papermill": {
     "duration": 0.028609,
     "end_time": "2023-11-10T13:50:55.924591",
     "exception": false,
     "start_time": "2023-11-10T13:50:55.895982",
     "status": "completed"
    },
    "tags": []
   },
   "outputs": [
    {
     "name": "stdout",
     "output_type": "stream",
     "text": [
      "True\n",
      "2\n",
      "torch.float32\n",
      "torch.float32\n",
      "torch.float64\n",
      "torch.float32\n"
     ]
    }
   ],
   "source": [
    "#张量的判断、个数、类型\n",
    "print(torch.is_tensor(a))\n",
    "print(torch.numel(a))\n",
    "print(torch.get_default_dtype())\n",
    "print(torch.Tensor([1,3]).dtype)\n",
    "torch.set_default_dtype(torch.float64)\n",
    "print(torch.get_default_dtype())\n",
    "torch.set_default_dtype(torch.float32)\n",
    "print(torch.get_default_dtype())"
   ]
  },
  {
   "cell_type": "code",
   "execution_count": 12,
   "id": "1e26fd86",
   "metadata": {
    "execution": {
     "iopub.execute_input": "2023-11-10T13:50:55.967012Z",
     "iopub.status.busy": "2023-11-10T13:50:55.966255Z",
     "iopub.status.idle": "2023-11-10T13:50:55.971653Z",
     "shell.execute_reply": "2023-11-10T13:50:55.970725Z"
    },
    "papermill": {
     "duration": 0.029065,
     "end_time": "2023-11-10T13:50:55.973612",
     "exception": false,
     "start_time": "2023-11-10T13:50:55.944547",
     "status": "completed"
    },
    "tags": []
   },
   "outputs": [
    {
     "name": "stdout",
     "output_type": "stream",
     "text": [
      "tensor([4], dtype=torch.int32)\n"
     ]
    }
   ],
   "source": [
    "#指定类型\n",
    "a = torch.FloatTensor([4])\n",
    "print(a.type(torch.IntTensor))"
   ]
  },
  {
   "cell_type": "code",
   "execution_count": 13,
   "id": "3b48e9f4",
   "metadata": {
    "execution": {
     "iopub.execute_input": "2023-11-10T13:50:56.014417Z",
     "iopub.status.busy": "2023-11-10T13:50:56.014160Z",
     "iopub.status.idle": "2023-11-10T13:50:56.021756Z",
     "shell.execute_reply": "2023-11-10T13:50:56.020846Z"
    },
    "papermill": {
     "duration": 0.030297,
     "end_time": "2023-11-10T13:50:56.023748",
     "exception": false,
     "start_time": "2023-11-10T13:50:55.993451",
     "status": "completed"
    },
    "tags": []
   },
   "outputs": [
    {
     "name": "stdout",
     "output_type": "stream",
     "text": [
      "[4.]\n",
      "tensor([4])\n",
      "tensor([4])\n",
      "(1,) 1\n",
      "torch.Size([1]) torch.Size([1])\n"
     ]
    }
   ],
   "source": [
    "#Tensor和numpy数据转换，shape与size的使用\n",
    "import numpy as np\n",
    "a =torch.FloatTensor([4])\n",
    "print(a.numpy())\n",
    "anp = np.asarray([4]) #定义numpy类型的对象\n",
    "print(torch.from_numpy(anp))\n",
    "print(torch.tensor(anp))\n",
    "\n",
    "a = a.numpy()\n",
    "anp = torch.tensor(anp)\n",
    "print(a.shape, a.size)\n",
    "print(anp.shape, anp.size())"
   ]
  },
  {
   "cell_type": "code",
   "execution_count": 14,
   "id": "150eea74",
   "metadata": {
    "execution": {
     "iopub.execute_input": "2023-11-10T13:50:56.065456Z",
     "iopub.status.busy": "2023-11-10T13:50:56.064753Z",
     "iopub.status.idle": "2023-11-10T13:50:56.072977Z",
     "shell.execute_reply": "2023-11-10T13:50:56.072047Z"
    },
    "papermill": {
     "duration": 0.031266,
     "end_time": "2023-11-10T13:50:56.074878",
     "exception": false,
     "start_time": "2023-11-10T13:50:56.043612",
     "status": "completed"
    },
    "tags": []
   },
   "outputs": [
    {
     "name": "stdout",
     "output_type": "stream",
     "text": [
      "tensor([1, 1])\n",
      "tensor([2, 2])\n",
      "tensor([1, 1])\n",
      "tensor([1, 1])\n"
     ]
    }
   ],
   "source": [
    "#张量与Numpy类型数据相互转换间的陷阱\n",
    "nparray = np.array([1,1])\n",
    "x = torch.from_numpy(nparray)\n",
    "print(x)\n",
    "nparray+=1\n",
    "print(x)\n",
    "\n",
    "nparray = np.array([1,1])\n",
    "x = torch.from_numpy(nparray)\n",
    "print(x)\n",
    "nparray = nparray +1 #系统会额外复制一份内存赋值给nparray变量\n",
    "print(x)"
   ]
  },
  {
   "cell_type": "code",
   "execution_count": 15,
   "id": "0431b43a",
   "metadata": {
    "execution": {
     "iopub.execute_input": "2023-11-10T13:50:56.116771Z",
     "iopub.status.busy": "2023-11-10T13:50:56.116461Z",
     "iopub.status.idle": "2023-11-10T13:51:00.607191Z",
     "shell.execute_reply": "2023-11-10T13:51:00.605888Z"
    },
    "papermill": {
     "duration": 4.51502,
     "end_time": "2023-11-10T13:51:00.610125",
     "exception": false,
     "start_time": "2023-11-10T13:50:56.095105",
     "status": "completed"
    },
    "tags": []
   },
   "outputs": [
    {
     "name": "stdout",
     "output_type": "stream",
     "text": [
      "tensor([4.], device='cuda:0')\n",
      "tensor([4.])\n",
      "tensor([4], device='cuda:0')\n",
      "tensor([4], device='cuda:1')\n"
     ]
    }
   ],
   "source": [
    "#CPU内存转化到GPU中\n",
    "a = torch.FloatTensor([4])\n",
    "b = a.cuda()\n",
    "print(b)\n",
    "\n",
    "\n",
    "#GPU 内存转化到CPU中\n",
    "print(b.cpu())\n",
    "\n",
    "#直接在GPU中定义张量\n",
    "a = torch.tensor([4],device=\"cuda\")\n",
    "print(a)\n",
    "\n",
    "#指定设备\n",
    "print(a.to(\"cuda:1\"))"
   ]
  },
  {
   "cell_type": "code",
   "execution_count": 16,
   "id": "eabce316",
   "metadata": {
    "execution": {
     "iopub.execute_input": "2023-11-10T13:51:00.652905Z",
     "iopub.status.busy": "2023-11-10T13:51:00.652519Z",
     "iopub.status.idle": "2023-11-10T13:51:00.656932Z",
     "shell.execute_reply": "2023-11-10T13:51:00.656045Z"
    },
    "papermill": {
     "duration": 0.027666,
     "end_time": "2023-11-10T13:51:00.658831",
     "exception": false,
     "start_time": "2023-11-10T13:51:00.631165",
     "status": "completed"
    },
    "tags": []
   },
   "outputs": [],
   "source": [
    "import os\n",
    "os.environ[\"CUDA_VISIBLE_DEVICES\"] = \"0\" #当前代码在第1个GPU上运行"
   ]
  },
  {
   "cell_type": "code",
   "execution_count": 17,
   "id": "4df9085b",
   "metadata": {
    "execution": {
     "iopub.execute_input": "2023-11-10T13:51:00.704139Z",
     "iopub.status.busy": "2023-11-10T13:51:00.703763Z",
     "iopub.status.idle": "2023-11-10T13:51:00.711720Z",
     "shell.execute_reply": "2023-11-10T13:51:00.710642Z"
    },
    "papermill": {
     "duration": 0.035658,
     "end_time": "2023-11-10T13:51:00.714555",
     "exception": false,
     "start_time": "2023-11-10T13:51:00.678897",
     "status": "completed"
    },
    "tags": []
   },
   "outputs": [
    {
     "name": "stdout",
     "output_type": "stream",
     "text": [
      "7006948022543704245\n",
      "2\n"
     ]
    }
   ],
   "source": [
    "print(torch.initial_seed())\n",
    "torch.manual_seed(2)\n",
    "print(torch.initial_seed())"
   ]
  },
  {
   "cell_type": "code",
   "execution_count": 18,
   "id": "fb9810ee",
   "metadata": {
    "execution": {
     "iopub.execute_input": "2023-11-10T13:51:00.767239Z",
     "iopub.status.busy": "2023-11-10T13:51:00.766952Z",
     "iopub.status.idle": "2023-11-10T13:51:00.779817Z",
     "shell.execute_reply": "2023-11-10T13:51:00.778680Z"
    },
    "papermill": {
     "duration": 0.041023,
     "end_time": "2023-11-10T13:51:00.781882",
     "exception": false,
     "start_time": "2023-11-10T13:51:00.740859",
     "status": "completed"
    },
    "tags": []
   },
   "outputs": [
    {
     "name": "stdout",
     "output_type": "stream",
     "text": [
      "tensor([[ 0.3923, -0.2236, -0.3195],\n",
      "        [-1.2050,  1.0445, -0.6332]])\n",
      "tensor([1, 3, 5, 7, 9])\n",
      "tensor([1., 3., 5., 7., 9.])\n",
      "tensor([1.0000e+01, 1.0000e+03, 1.0000e+05, 1.0000e+07, 1.0000e+09])\n",
      "tensor([[-9.1341e-37,  3.1033e-41]])\n"
     ]
    }
   ],
   "source": [
    "#生成数据\n",
    "print(torch.randn(2,3))\n",
    "print(torch.arange(1,10,step=2)) #步长为2\n",
    "print(torch.linspace(1,9,steps=5)) #均匀地取出5个数值\n",
    "print(torch.logspace(1,9,steps=5))\n",
    "print(torch.empty(1,2))#生成未初始化的矩阵"
   ]
  },
  {
   "cell_type": "code",
   "execution_count": 19,
   "id": "7db3718d",
   "metadata": {
    "execution": {
     "iopub.execute_input": "2023-11-10T13:51:00.824920Z",
     "iopub.status.busy": "2023-11-10T13:51:00.824639Z",
     "iopub.status.idle": "2023-11-10T13:51:00.830959Z",
     "shell.execute_reply": "2023-11-10T13:51:00.829906Z"
    },
    "papermill": {
     "duration": 0.030112,
     "end_time": "2023-11-10T13:51:00.833002",
     "exception": false,
     "start_time": "2023-11-10T13:51:00.802890",
     "status": "completed"
    },
    "tags": []
   },
   "outputs": [
    {
     "name": "stdout",
     "output_type": "stream",
     "text": [
      "tensor([8.])\n",
      "\n"
     ]
    }
   ],
   "source": [
    "#pytorch运算\n",
    "a = torch.FloatTensor([4])\n",
    "\n",
    "torch.add(a,a,out=c) #指定最后结果为b\n",
    "print(c)\n",
    "\n",
    "#自变化运算 即在变量本身基础上做运算\n",
    "a.add_(c)\n",
    "print()\n"
   ]
  },
  {
   "cell_type": "code",
   "execution_count": 20,
   "id": "294a088d",
   "metadata": {
    "execution": {
     "iopub.execute_input": "2023-11-10T13:51:00.875324Z",
     "iopub.status.busy": "2023-11-10T13:51:00.875037Z",
     "iopub.status.idle": "2023-11-10T13:51:00.884910Z",
     "shell.execute_reply": "2023-11-10T13:51:00.884008Z"
    },
    "papermill": {
     "duration": 0.033273,
     "end_time": "2023-11-10T13:51:00.886763",
     "exception": false,
     "start_time": "2023-11-10T13:51:00.853490",
     "status": "completed"
    },
    "tags": []
   },
   "outputs": [
    {
     "name": "stdout",
     "output_type": "stream",
     "text": [
      "tensor([[1, 2, 3, 4]])\n",
      "tensor([[1, 2, 3, 4]])\n",
      "tensor([1, 2, 3, 4])\n",
      "tensor([[1, 2, 3, 4]])\n"
     ]
    }
   ],
   "source": [
    "#张量的reshape方法和torch.reshape结果一致\n",
    "a = torch.tensor([[1,2],[3,4]])\n",
    "print(torch.reshape(a,(1,-1)))\n",
    "print(a.reshape(1,-1))\n",
    "\n",
    "#去掉值为1的维度\n",
    "print(torch.squeeze(torch.reshape(a,(1,-1))))\n",
    "\n",
    "#增加值为1的维度\n",
    "print(torch.unsqueeze(torch.squeeze(torch.reshape(a,(1,-1))),dim=0))"
   ]
  },
  {
   "cell_type": "code",
   "execution_count": 21,
   "id": "37284dc5",
   "metadata": {
    "execution": {
     "iopub.execute_input": "2023-11-10T13:51:00.929557Z",
     "iopub.status.busy": "2023-11-10T13:51:00.929242Z",
     "iopub.status.idle": "2023-11-10T13:51:00.936646Z",
     "shell.execute_reply": "2023-11-10T13:51:00.935531Z"
    },
    "papermill": {
     "duration": 0.031123,
     "end_time": "2023-11-10T13:51:00.938722",
     "exception": false,
     "start_time": "2023-11-10T13:51:00.907599",
     "status": "completed"
    },
    "tags": []
   },
   "outputs": [
    {
     "name": "stdout",
     "output_type": "stream",
     "text": [
      "(tensor([[5],\n",
      "        [2]]), tensor([[6, 7],\n",
      "        [8, 0]]))\n",
      "(tensor([[5, 6],\n",
      "        [2, 8]]), tensor([[7],\n",
      "        [0]]))\n"
     ]
    }
   ],
   "source": [
    "#数据不均匀分割\n",
    "b = torch.tensor([[5,6,7],[2,8,0]])\n",
    "print(torch.split(b,split_size_or_sections = (1,2), dim=1)) #维度为1的两个部分，第一部分一个元素，第二部分两个元素\n",
    "print(torch.split(b,split_size_or_sections = 2, dim=1)) #每部分两个元素，最后不足两个元素单独列出来"
   ]
  },
  {
   "cell_type": "code",
   "execution_count": 22,
   "id": "c01df1e7",
   "metadata": {
    "execution": {
     "iopub.execute_input": "2023-11-10T13:51:00.984870Z",
     "iopub.status.busy": "2023-11-10T13:51:00.984570Z",
     "iopub.status.idle": "2023-11-10T13:51:00.993225Z",
     "shell.execute_reply": "2023-11-10T13:51:00.992310Z"
    },
    "papermill": {
     "duration": 0.0345,
     "end_time": "2023-11-10T13:51:00.995259",
     "exception": false,
     "start_time": "2023-11-10T13:51:00.960759",
     "status": "completed"
    },
    "tags": []
   },
   "outputs": [
    {
     "name": "stdout",
     "output_type": "stream",
     "text": [
      "tensor([[False,  True],\n",
      "        [ True,  True]])\n"
     ]
    },
    {
     "data": {
      "text/plain": [
       "tensor([2, 3, 4])"
      ]
     },
     "execution_count": 22,
     "metadata": {},
     "output_type": "execute_result"
    }
   ],
   "source": [
    "a = torch.tensor([[1,2],[3,4]])\n",
    "mask = a.ge(2)\n",
    "print(mask)  \n",
    "torch.masked_select(a,mask)"
   ]
  },
  {
   "cell_type": "code",
   "execution_count": 23,
   "id": "b404ccc0",
   "metadata": {
    "execution": {
     "iopub.execute_input": "2023-11-10T13:51:01.041344Z",
     "iopub.status.busy": "2023-11-10T13:51:01.041057Z",
     "iopub.status.idle": "2023-11-10T13:51:01.048304Z",
     "shell.execute_reply": "2023-11-10T13:51:01.047426Z"
    },
    "papermill": {
     "duration": 0.032366,
     "end_time": "2023-11-10T13:51:01.050359",
     "exception": false,
     "start_time": "2023-11-10T13:51:01.017993",
     "status": "completed"
    },
    "tags": []
   },
   "outputs": [
    {
     "data": {
      "text/plain": [
       "tensor([[[2, 2],\n",
       "         [3, 3]]])"
      ]
     },
     "execution_count": 23,
     "metadata": {},
     "output_type": "execute_result"
    }
   ],
   "source": [
    "#根据阈值进行数据截断\n",
    "a = torch.tensor([[[1,2],[3,4]]])\n",
    "torch.clamp(a, min=2,max=3)"
   ]
  },
  {
   "cell_type": "code",
   "execution_count": 24,
   "id": "bcd158d9",
   "metadata": {
    "execution": {
     "iopub.execute_input": "2023-11-10T13:51:01.095873Z",
     "iopub.status.busy": "2023-11-10T13:51:01.095571Z",
     "iopub.status.idle": "2023-11-10T13:51:01.110189Z",
     "shell.execute_reply": "2023-11-10T13:51:01.109205Z"
    },
    "papermill": {
     "duration": 0.039936,
     "end_time": "2023-11-10T13:51:01.112136",
     "exception": false,
     "start_time": "2023-11-10T13:51:01.072200",
     "status": "completed"
    },
    "tags": []
   },
   "outputs": [
    {
     "name": "stdout",
     "output_type": "stream",
     "text": [
      "torch.return_types.max(\n",
      "values=tensor([2, 4]),\n",
      "indices=tensor([1, 1]))\n",
      "torch.return_types.min(\n",
      "values=tensor([1, 2]),\n",
      "indices=tensor([0, 0]))\n"
     ]
    }
   ],
   "source": [
    "#张量维度上的最大最小值\n",
    "a = torch.tensor([[1,2], [3,4]])\n",
    "print(torch.max(a, dim=1))\n",
    "print(torch.min(a, dim=0)) #维度0上其他维度上的最值"
   ]
  },
  {
   "cell_type": "code",
   "execution_count": 25,
   "id": "9cfd00d2",
   "metadata": {
    "execution": {
     "iopub.execute_input": "2023-11-10T13:51:01.157412Z",
     "iopub.status.busy": "2023-11-10T13:51:01.157113Z",
     "iopub.status.idle": "2023-11-10T13:51:01.165135Z",
     "shell.execute_reply": "2023-11-10T13:51:01.164214Z"
    },
    "papermill": {
     "duration": 0.03216,
     "end_time": "2023-11-10T13:51:01.167075",
     "exception": false,
     "start_time": "2023-11-10T13:51:01.134915",
     "status": "completed"
    },
    "tags": []
   },
   "outputs": [
    {
     "name": "stdout",
     "output_type": "stream",
     "text": [
      "tensor([[1., 1.],\n",
      "        [1., 1.]], requires_grad=True) None\n",
      "<AddBackward0 object at 0x79afefb87010>\n",
      "(tensor([[1., 1.],\n",
      "        [1., 1.]], requires_grad=True), None)\n"
     ]
    }
   ],
   "source": [
    "# Variable对象的 grad_fn属性\n",
    "from torch.autograd import Variable\n",
    "x = Variable(torch.ones(2,2), requires_grad=True)\n",
    "print(x, x.grad_fn) #未计算时Variable对象没有grad_fn属性\n",
    "\n",
    "m = x+2\n",
    "print(m.grad_fn)\n",
    "print(m.grad_fn(x))"
   ]
  },
  {
   "cell_type": "markdown",
   "id": "122ecfc9",
   "metadata": {
    "papermill": {
     "duration": 0.020589,
     "end_time": "2023-11-10T13:51:01.209012",
     "exception": false,
     "start_time": "2023-11-10T13:51:01.188423",
     "status": "completed"
    },
    "tags": []
   },
   "source": [
    "**Pytorch在模型的正向运行过程中记录每个张量的由来，最终在内存中形成一个树形结构，该结构可帮助神经网络在优化参数时进行反向链式求导，当反向链式求导遇到叶子节点时，终止递归循环**"
   ]
  },
  {
   "cell_type": "code",
   "execution_count": 26,
   "id": "763f08e5",
   "metadata": {
    "execution": {
     "iopub.execute_input": "2023-11-10T13:51:01.252437Z",
     "iopub.status.busy": "2023-11-10T13:51:01.252154Z",
     "iopub.status.idle": "2023-11-10T13:51:01.260414Z",
     "shell.execute_reply": "2023-11-10T13:51:01.259396Z"
    },
    "papermill": {
     "duration": 0.032377,
     "end_time": "2023-11-10T13:51:01.262540",
     "exception": false,
     "start_time": "2023-11-10T13:51:01.230163",
     "status": "completed"
    },
    "tags": []
   },
   "outputs": [
    {
     "name": "stdout",
     "output_type": "stream",
     "text": [
      "True\n",
      "False\n",
      "tensor(3., grad_fn=<MeanBackward0>) tensor([[0.2500, 0.2500],\n",
      "        [0.2500, 0.2500]])\n"
     ]
    }
   ],
   "source": [
    "x = torch.ones(2,2,requires_grad=True)\n",
    "print(x.is_leaf) #自定义的为叶子节点\n",
    "m = x+2\n",
    "print(m.is_leaf) #非自定义的不为叶子节点\n",
    "\n",
    "\n",
    "#利用backward自动求导，该方法会自动调用每个需要求导变量的grad_fn()函数，并将结果放到该变量的grad属性中\n",
    "f = m.mean()\n",
    "f.backward() #backward方法一定要在当前变量内容为标量的情况下使用\n",
    "print(f,x.grad)"
   ]
  },
  {
   "cell_type": "code",
   "execution_count": 27,
   "id": "99572bcc",
   "metadata": {
    "execution": {
     "iopub.execute_input": "2023-11-10T13:51:01.305703Z",
     "iopub.status.busy": "2023-11-10T13:51:01.305411Z",
     "iopub.status.idle": "2023-11-10T13:51:01.311804Z",
     "shell.execute_reply": "2023-11-10T13:51:01.310869Z"
    },
    "papermill": {
     "duration": 0.030263,
     "end_time": "2023-11-10T13:51:01.313787",
     "exception": false,
     "start_time": "2023-11-10T13:51:01.283524",
     "status": "completed"
    },
    "tags": []
   },
   "outputs": [
    {
     "name": "stdout",
     "output_type": "stream",
     "text": [
      "Linear(in_features=2, out_features=3, bias=True)\n",
      "Linear(in_features=3, out_features=2, bias=True)\n",
      "CrossEntropyLoss()\n"
     ]
    }
   ],
   "source": [
    "model = LogicNet(inputdim =2, hiddendim=3,outputdim=2)\n",
    "optimizer = torch.optim.Adam(model.parameters(),lr=0.01)\n",
    "for sub_module in model.children():\n",
    "    print(sub_module)"
   ]
  },
  {
   "cell_type": "code",
   "execution_count": 28,
   "id": "5035e593",
   "metadata": {
    "execution": {
     "iopub.execute_input": "2023-11-10T13:51:01.357136Z",
     "iopub.status.busy": "2023-11-10T13:51:01.356884Z",
     "iopub.status.idle": "2023-11-10T13:51:01.362379Z",
     "shell.execute_reply": "2023-11-10T13:51:01.361293Z"
    },
    "papermill": {
     "duration": 0.029433,
     "end_time": "2023-11-10T13:51:01.364301",
     "exception": false,
     "start_time": "2023-11-10T13:51:01.334868",
     "status": "completed"
    },
    "tags": []
   },
   "outputs": [
    {
     "name": "stdout",
     "output_type": "stream",
     "text": [
      "<class 'torch.Tensor'> torch.Size([3, 2])\n",
      "<class 'torch.Tensor'> torch.Size([3])\n",
      "<class 'torch.Tensor'> torch.Size([2, 3])\n",
      "<class 'torch.Tensor'> torch.Size([2])\n"
     ]
    }
   ],
   "source": [
    "for param in model.parameters():\n",
    "    print(type(param.data),param.size())\n",
    "#前两条为模型第一层Linear1的参数\n",
    "#后两条为模型第二个全连接层Linear2的参数"
   ]
  },
  {
   "cell_type": "code",
   "execution_count": 29,
   "id": "eb2b439f",
   "metadata": {
    "execution": {
     "iopub.execute_input": "2023-11-10T13:51:01.408173Z",
     "iopub.status.busy": "2023-11-10T13:51:01.407892Z",
     "iopub.status.idle": "2023-11-10T13:51:01.413014Z",
     "shell.execute_reply": "2023-11-10T13:51:01.412062Z"
    },
    "papermill": {
     "duration": 0.02888,
     "end_time": "2023-11-10T13:51:01.414841",
     "exception": false,
     "start_time": "2023-11-10T13:51:01.385961",
     "status": "completed"
    },
    "tags": []
   },
   "outputs": [
    {
     "name": "stdout",
     "output_type": "stream",
     "text": [
      "<class 'torch.nn.parameter.Parameter'> torch.Size([3, 2]) Linear1.weight\n",
      "<class 'torch.nn.parameter.Parameter'> torch.Size([3]) Linear1.bias\n",
      "<class 'torch.nn.parameter.Parameter'> torch.Size([2, 3]) Linear2.weight\n",
      "<class 'torch.nn.parameter.Parameter'> torch.Size([2]) Linear2.bias\n"
     ]
    }
   ],
   "source": [
    "#获取模型参数的名字 param[0]为名字 param[1]为上述参数一致7\n",
    "for param in model.named_parameters(): \n",
    "    print(type(param[1]),param[1].size(),param[0])"
   ]
  },
  {
   "cell_type": "code",
   "execution_count": 30,
   "id": "2fd867d4",
   "metadata": {
    "execution": {
     "iopub.execute_input": "2023-11-10T13:51:01.458383Z",
     "iopub.status.busy": "2023-11-10T13:51:01.458106Z",
     "iopub.status.idle": "2023-11-10T13:51:01.463080Z",
     "shell.execute_reply": "2023-11-10T13:51:01.462198Z"
    },
    "papermill": {
     "duration": 0.028986,
     "end_time": "2023-11-10T13:51:01.464943",
     "exception": false,
     "start_time": "2023-11-10T13:51:01.435957",
     "status": "completed"
    },
    "tags": []
   },
   "outputs": [],
   "source": [
    "# #保存模型\n",
    "# torch.save(model.state_dict(),'./model1.pth')\n",
    "# #载入模型\n",
    "# model.load_state_dict(torch.load('./model.pth',map_location={'cuda:1':'cuda:0'}))"
   ]
  },
  {
   "cell_type": "code",
   "execution_count": 31,
   "id": "c447afe8",
   "metadata": {
    "execution": {
     "iopub.execute_input": "2023-11-10T13:51:01.510079Z",
     "iopub.status.busy": "2023-11-10T13:51:01.509734Z",
     "iopub.status.idle": "2023-11-10T13:51:01.520877Z",
     "shell.execute_reply": "2023-11-10T13:51:01.519735Z"
    },
    "papermill": {
     "duration": 0.036711,
     "end_time": "2023-11-10T13:51:01.522980",
     "exception": false,
     "start_time": "2023-11-10T13:51:01.486269",
     "status": "completed"
    },
    "tags": []
   },
   "outputs": [
    {
     "name": "stdout",
     "output_type": "stream",
     "text": [
      "tensor([0.9537, 0.3547])\n",
      "tensor([0.7219, 0.5877])\n",
      "tensor([-0.3259, -0.5315])\n",
      "tensor([0.7414, 0.3405])\n"
     ]
    }
   ],
   "source": [
    "import torch\n",
    "input = torch.autograd.Variable(torch.randn(2))\n",
    "print(input)\n",
    "print(nn.Sigmoid()(input))\n",
    "print(nn.LogSigmoid()(input))\n",
    "print(torch.tanh(input,out=None))"
   ]
  },
  {
   "cell_type": "code",
   "execution_count": 32,
   "id": "2be9be3c",
   "metadata": {
    "execution": {
     "iopub.execute_input": "2023-11-10T13:51:01.572435Z",
     "iopub.status.busy": "2023-11-10T13:51:01.572137Z",
     "iopub.status.idle": "2023-11-10T13:51:02.649706Z",
     "shell.execute_reply": "2023-11-10T13:51:02.648792Z"
    },
    "papermill": {
     "duration": 1.104572,
     "end_time": "2023-11-10T13:51:02.652000",
     "exception": false,
     "start_time": "2023-11-10T13:51:01.547428",
     "status": "completed"
    },
    "tags": []
   },
   "outputs": [
    {
     "data": {
      "image/png": "[encoded data removed]",
      "text/plain": [
       "<Figure size 640x480 with 1 Axes>"
      ]
     },
     "metadata": {},
     "output_type": "display_data"
    }
   ],
   "source": [
    "losses = []\n",
    "lr_list = []\n",
    "for i in range(epochs):\n",
    "    loss = model.getloss(xt,yt)\n",
    "    losses.append(loss.item())\n",
    "    optimizer.zero_grad()\n",
    "    loss.backward()\n",
    "    optimizer.step()\n",
    "    if i% 50 == 0:\n",
    "        for p in optimizer.param_groups:\n",
    "            p['lr'] *=0.99\n",
    "    \n",
    "    lr_list.append(optimizer.state_dict()['param_groups'][0]['lr'])\n",
    "plt.plot(range(epochs), lr_list, color ='r')\n",
    "plt.show()"
   ]
  },
  {
   "cell_type": "code",
   "execution_count": 33,
   "id": "75eb1988",
   "metadata": {
    "execution": {
     "iopub.execute_input": "2023-11-10T13:51:02.698217Z",
     "iopub.status.busy": "2023-11-10T13:51:02.697937Z",
     "iopub.status.idle": "2023-11-10T13:51:03.838249Z",
     "shell.execute_reply": "2023-11-10T13:51:03.837340Z"
    },
    "papermill": {
     "duration": 1.165377,
     "end_time": "2023-11-10T13:51:03.840425",
     "exception": false,
     "start_time": "2023-11-10T13:51:02.675048",
     "status": "completed"
    },
    "tags": []
   },
   "outputs": [
    {
     "data": {
      "image/png": "[encoded data removed]",
      "text/plain": [
       "<Figure size 640x480 with 1 Axes>"
      ]
     },
     "metadata": {},
     "output_type": "display_data"
    }
   ],
   "source": [
    "# 退化学习率的接口\n",
    "scheduler = torch.optim.lr_scheduler.StepLR(optimizer,step_size=50,gamma = 0.99)\n",
    "losses = []\n",
    "lr_list = []\n",
    "for i in range(epochs):\n",
    "    loss = model.getloss(xt,yt)\n",
    "    losses.append(loss.item())\n",
    "    optimizer.zero_grad()\n",
    "    loss.backward()\n",
    "    optimizer.step()\n",
    "    scheduler.step()    \n",
    "    lr_list.append(optimizer.state_dict()['param_groups'][0]['lr'])\n",
    "plt.plot(range(epochs), lr_list, color ='r')\n",
    "plt.show()\n"
   ]
  },
  {
   "cell_type": "markdown",
   "id": "67264864",
   "metadata": {
    "papermill": {
     "duration": 0.022506,
     "end_time": "2023-11-10T13:51:03.886090",
     "exception": false,
     "start_time": "2023-11-10T13:51:03.863584",
     "status": "completed"
    },
    "tags": []
   },
   "source": [
    "# 第5章 实例 4： 预测泰坦尼克号船上的生存乘客 "
   ]
  },
  {
   "cell_type": "code",
   "execution_count": 34,
   "id": "e4fa35e6",
   "metadata": {
    "execution": {
     "iopub.execute_input": "2023-11-10T13:51:03.933342Z",
     "iopub.status.busy": "2023-11-10T13:51:03.933012Z",
     "iopub.status.idle": "2023-11-10T13:51:04.795985Z",
     "shell.execute_reply": "2023-11-10T13:51:04.794865Z"
    },
    "papermill": {
     "duration": 0.88986,
     "end_time": "2023-11-10T13:51:04.798530",
     "exception": false,
     "start_time": "2023-11-10T13:51:03.908670",
     "status": "completed"
    },
    "tags": []
   },
   "outputs": [
    {
     "name": "stdout",
     "output_type": "stream",
     "text": [
      "Index(['pclass', 'survived', 'name', 'sex', 'age', 'sibsp', 'parch', 'ticket',\n",
      "       'fare', 'cabin', 'embarked', 'boat', 'body', 'home.dest'],\n",
      "      dtype='object')\n"
     ]
    }
   ],
   "source": [
    "import pandas as pd\n",
    "titanic_data = pd.read_csv(\"../input/titanic/titanic3.csv\")\n",
    "print(titanic_data.columns)"
   ]
  },
  {
   "cell_type": "code",
   "execution_count": 35,
   "id": "4683fa40",
   "metadata": {
    "execution": {
     "iopub.execute_input": "2023-11-10T13:51:04.844784Z",
     "iopub.status.busy": "2023-11-10T13:51:04.844450Z",
     "iopub.status.idle": "2023-11-10T13:51:04.870036Z",
     "shell.execute_reply": "2023-11-10T13:51:04.868845Z"
    },
    "papermill": {
     "duration": 0.050797,
     "end_time": "2023-11-10T13:51:04.872111",
     "exception": false,
     "start_time": "2023-11-10T13:51:04.821314",
     "status": "completed"
    },
    "tags": []
   },
   "outputs": [
    {
     "name": "stdout",
     "output_type": "stream",
     "text": [
      "Index(['pclass', 'survived', 'name', 'sex', 'age', 'sibsp', 'parch', 'ticket',\n",
      "       'fare', 'cabin', 'embarked', 'boat', 'body', 'home.dest', 'female',\n",
      "       'male', 'embark_C', 'embark_Q', 'embark_S', 'class_1', 'class_2',\n",
      "       'class_3'],\n",
      "      dtype='object')\n",
      "0       female\n",
      "1         male\n",
      "2       female\n",
      "3         male\n",
      "4       female\n",
      "         ...  \n",
      "1304    female\n",
      "1305    female\n",
      "1306      male\n",
      "1307      male\n",
      "1308      male\n",
      "Name: sex, Length: 1309, dtype: object\n",
      "0        True\n",
      "1       False\n",
      "2        True\n",
      "3       False\n",
      "4        True\n",
      "        ...  \n",
      "1304     True\n",
      "1305     True\n",
      "1306    False\n",
      "1307    False\n",
      "1308    False\n",
      "Name: female, Length: 1309, dtype: bool\n"
     ]
    }
   ],
   "source": [
    "# 将离散数据转为 one-hot 编码\n",
    "titanic_data = pd.concat([titanic_data,\n",
    "                         pd.get_dummies(titanic_data['sex']),\n",
    "                         pd.get_dummies(titanic_data['embarked'],prefix = \"embark\"),\n",
    "                         pd.get_dummies(titanic_data['pclass'],prefix=\"class\")],axis = 1)\n",
    "print(titanic_data.columns)\n",
    "print(titanic_data['sex'])\n",
    "print(titanic_data['female'])"
   ]
  },
  {
   "cell_type": "code",
   "execution_count": 36,
   "id": "3ea05986",
   "metadata": {
    "execution": {
     "iopub.execute_input": "2023-11-10T13:51:04.919942Z",
     "iopub.status.busy": "2023-11-10T13:51:04.919604Z",
     "iopub.status.idle": "2023-11-10T13:51:04.927100Z",
     "shell.execute_reply": "2023-11-10T13:51:04.926161Z"
    },
    "papermill": {
     "duration": 0.033534,
     "end_time": "2023-11-10T13:51:04.929121",
     "exception": false,
     "start_time": "2023-11-10T13:51:04.895587",
     "status": "completed"
    },
    "tags": []
   },
   "outputs": [],
   "source": [
    "#对Nan值进行过滤填充\n",
    "titanic_data['age'] = titanic_data['age'].fillna(titanic_data[\"age\"].mean())"
   ]
  },
  {
   "cell_type": "code",
   "execution_count": 37,
   "id": "41168312",
   "metadata": {
    "execution": {
     "iopub.execute_input": "2023-11-10T13:51:04.976172Z",
     "iopub.status.busy": "2023-11-10T13:51:04.975853Z",
     "iopub.status.idle": "2023-11-10T13:51:04.981572Z",
     "shell.execute_reply": "2023-11-10T13:51:04.980653Z"
    },
    "papermill": {
     "duration": 0.031902,
     "end_time": "2023-11-10T13:51:04.983720",
     "exception": false,
     "start_time": "2023-11-10T13:51:04.951818",
     "status": "completed"
    },
    "tags": []
   },
   "outputs": [],
   "source": [
    "titanic_data['fare'] = titanic_data['fare'].fillna(titanic_data['fare'].mean())"
   ]
  },
  {
   "cell_type": "code",
   "execution_count": 38,
   "id": "8b3f9fe1",
   "metadata": {
    "execution": {
     "iopub.execute_input": "2023-11-10T13:51:05.031681Z",
     "iopub.status.busy": "2023-11-10T13:51:05.031270Z",
     "iopub.status.idle": "2023-11-10T13:51:05.049838Z",
     "shell.execute_reply": "2023-11-10T13:51:05.048710Z"
    },
    "papermill": {
     "duration": 0.044099,
     "end_time": "2023-11-10T13:51:05.051806",
     "exception": false,
     "start_time": "2023-11-10T13:51:05.007707",
     "status": "completed"
    },
    "tags": []
   },
   "outputs": [
    {
     "name": "stdout",
     "output_type": "stream",
     "text": [
      "      survived        age  sibsp  parch      fare  female   male  embark_C  \\\n",
      "0            1  29.000000      0      0  211.3375    True  False     False   \n",
      "1            1   0.920000      1      2  151.5500   False   True     False   \n",
      "2            0   2.000000      1      2  151.5500    True  False     False   \n",
      "3            0  30.000000      1      2  151.5500   False   True     False   \n",
      "4            0  25.000000      1      2  151.5500    True  False     False   \n",
      "...        ...        ...    ...    ...       ...     ...    ...       ...   \n",
      "1304         0  14.500000      1      0   14.4542    True  False      True   \n",
      "1305         0  29.881138      1      0   14.4542    True  False      True   \n",
      "1306         0  26.500000      0      0    7.2250   False   True      True   \n",
      "1307         0  27.000000      0      0    7.2250   False   True      True   \n",
      "1308         0  29.000000      0      0    7.8750   False   True     False   \n",
      "\n",
      "      embark_Q  embark_S  class_1  class_2  class_3  \n",
      "0        False      True     True    False    False  \n",
      "1        False      True     True    False    False  \n",
      "2        False      True     True    False    False  \n",
      "3        False      True     True    False    False  \n",
      "4        False      True     True    False    False  \n",
      "...        ...       ...      ...      ...      ...  \n",
      "1304     False     False    False    False     True  \n",
      "1305     False     False    False    False     True  \n",
      "1306     False     False    False    False     True  \n",
      "1307     False     False    False    False     True  \n",
      "1308     False      True    False    False     True  \n",
      "\n",
      "[1309 rows x 13 columns]\n"
     ]
    }
   ],
   "source": [
    "#删除无用的列（包含前面使用get_dummy原始列）\n",
    "titanic_data = titanic_data.drop(['name','ticket','cabin','boat','body','home.dest','sex','embarked','pclass'],axis=1)\n",
    "print(titanic_data)"
   ]
  },
  {
   "cell_type": "code",
   "execution_count": 39,
   "id": "d8c076bd",
   "metadata": {
    "execution": {
     "iopub.execute_input": "2023-11-10T13:51:05.100215Z",
     "iopub.status.busy": "2023-11-10T13:51:05.099424Z",
     "iopub.status.idle": "2023-11-10T13:51:05.113242Z",
     "shell.execute_reply": "2023-11-10T13:51:05.112132Z"
    },
    "papermill": {
     "duration": 0.04039,
     "end_time": "2023-11-10T13:51:05.115383",
     "exception": false,
     "start_time": "2023-11-10T13:51:05.074993",
     "status": "completed"
    },
    "tags": []
   },
   "outputs": [
    {
     "name": "stdout",
     "output_type": "stream",
     "text": [
      "            age  sibsp  parch      fare  female   male  embark_C  embark_Q  \\\n",
      "0     29.000000      0      0  211.3375    True  False     False     False   \n",
      "1      0.920000      1      2  151.5500   False   True     False     False   \n",
      "2      2.000000      1      2  151.5500    True  False     False     False   \n",
      "3     30.000000      1      2  151.5500   False   True     False     False   \n",
      "4     25.000000      1      2  151.5500    True  False     False     False   \n",
      "...         ...    ...    ...       ...     ...    ...       ...       ...   \n",
      "1304  14.500000      1      0   14.4542    True  False      True     False   \n",
      "1305  29.881138      1      0   14.4542    True  False      True     False   \n",
      "1306  26.500000      0      0    7.2250   False   True      True     False   \n",
      "1307  27.000000      0      0    7.2250   False   True      True     False   \n",
      "1308  29.000000      0      0    7.8750   False   True     False     False   \n",
      "\n",
      "      embark_S  class_1  class_2  class_3  \n",
      "0         True     True    False    False  \n",
      "1         True     True    False    False  \n",
      "2         True     True    False    False  \n",
      "3         True     True    False    False  \n",
      "4         True     True    False    False  \n",
      "...        ...      ...      ...      ...  \n",
      "1304     False    False    False     True  \n",
      "1305     False    False    False     True  \n",
      "1306     False    False    False     True  \n",
      "1307     False    False    False     True  \n",
      "1308      True    False    False     True  \n",
      "\n",
      "[1309 rows x 12 columns]\n"
     ]
    }
   ],
   "source": [
    "#分离样本和标签\n",
    "labels = titanic_data[\"survived\"].to_numpy()\n",
    "titanic_data = titanic_data.drop(['survived'],axis=1)\n",
    "print(titanic_data)\n",
    "data = titanic_data.to_numpy()"
   ]
  },
  {
   "cell_type": "code",
   "execution_count": 40,
   "id": "2731b17c",
   "metadata": {
    "execution": {
     "iopub.execute_input": "2023-11-10T13:51:05.163723Z",
     "iopub.status.busy": "2023-11-10T13:51:05.162905Z",
     "iopub.status.idle": "2023-11-10T13:51:05.175295Z",
     "shell.execute_reply": "2023-11-10T13:51:05.174312Z"
    },
    "papermill": {
     "duration": 0.039013,
     "end_time": "2023-11-10T13:51:05.177450",
     "exception": false,
     "start_time": "2023-11-10T13:51:05.138437",
     "status": "completed"
    },
    "tags": []
   },
   "outputs": [
    {
     "name": "stdout",
     "output_type": "stream",
     "text": [
      "            age  sibsp  parch      fare  female   male  embark_C  embark_Q  \\\n",
      "0     29.000000      0      0  211.3375    True  False     False     False   \n",
      "1      0.920000      1      2  151.5500   False   True     False     False   \n",
      "2      2.000000      1      2  151.5500    True  False     False     False   \n",
      "3     30.000000      1      2  151.5500   False   True     False     False   \n",
      "4     25.000000      1      2  151.5500    True  False     False     False   \n",
      "...         ...    ...    ...       ...     ...    ...       ...       ...   \n",
      "1304  14.500000      1      0   14.4542    True  False      True     False   \n",
      "1305  29.881138      1      0   14.4542    True  False      True     False   \n",
      "1306  26.500000      0      0    7.2250   False   True      True     False   \n",
      "1307  27.000000      0      0    7.2250   False   True      True     False   \n",
      "1308  29.000000      0      0    7.8750   False   True     False     False   \n",
      "\n",
      "      embark_S  class_1  class_2  class_3  \n",
      "0         True     True    False    False  \n",
      "1         True     True    False    False  \n",
      "2         True     True    False    False  \n",
      "3         True     True    False    False  \n",
      "4         True     True    False    False  \n",
      "...        ...      ...      ...      ...  \n",
      "1304     False    False    False     True  \n",
      "1305     False    False    False     True  \n",
      "1306     False    False    False     True  \n",
      "1307     False    False    False     True  \n",
      "1308      True    False    False     True  \n",
      "\n",
      "[1309 rows x 12 columns]\n"
     ]
    }
   ],
   "source": [
    "print(titanic_data)"
   ]
  },
  {
   "cell_type": "code",
   "execution_count": 41,
   "id": "390f0cbc",
   "metadata": {
    "execution": {
     "iopub.execute_input": "2023-11-10T13:51:05.224226Z",
     "iopub.status.busy": "2023-11-10T13:51:05.223269Z",
     "iopub.status.idle": "2023-11-10T13:51:05.229247Z",
     "shell.execute_reply": "2023-11-10T13:51:05.228379Z"
    },
    "papermill": {
     "duration": 0.031188,
     "end_time": "2023-11-10T13:51:05.231210",
     "exception": false,
     "start_time": "2023-11-10T13:51:05.200022",
     "status": "completed"
    },
    "tags": []
   },
   "outputs": [],
   "source": [
    "import numpy as np\n",
    "np.random.seed(10)\n",
    "train_indices = np.random.choice(len(labels), int(0.7*len(labels)),replace = False)\n",
    "test_indices = list(set(range(len(labels))) - set(range(len(train_indices))))"
   ]
  },
  {
   "cell_type": "code",
   "execution_count": 42,
   "id": "abe420cc",
   "metadata": {
    "execution": {
     "iopub.execute_input": "2023-11-10T13:51:05.278688Z",
     "iopub.status.busy": "2023-11-10T13:51:05.278022Z",
     "iopub.status.idle": "2023-11-10T13:51:05.284066Z",
     "shell.execute_reply": "2023-11-10T13:51:05.283105Z"
    },
    "papermill": {
     "duration": 0.032181,
     "end_time": "2023-11-10T13:51:05.286126",
     "exception": false,
     "start_time": "2023-11-10T13:51:05.253945",
     "status": "completed"
    },
    "tags": []
   },
   "outputs": [
    {
     "name": "stdout",
     "output_type": "stream",
     "text": [
      "1309 393\n"
     ]
    }
   ],
   "source": [
    "train_features = data[train_indices]\n",
    "train_labels = labels[train_indices]\n",
    "test_features = data[test_indices]\n",
    "test_labels = labels[test_indices]\n",
    "print(len(labels),len(test_labels))"
   ]
  },
  {
   "cell_type": "code",
   "execution_count": 43,
   "id": "792a28fd",
   "metadata": {
    "execution": {
     "iopub.execute_input": "2023-11-10T13:51:05.334647Z",
     "iopub.status.busy": "2023-11-10T13:51:05.334291Z",
     "iopub.status.idle": "2023-11-10T13:51:05.340126Z",
     "shell.execute_reply": "2023-11-10T13:51:05.339390Z"
    },
    "papermill": {
     "duration": 0.032417,
     "end_time": "2023-11-10T13:51:05.342074",
     "exception": false,
     "start_time": "2023-11-10T13:51:05.309657",
     "status": "completed"
    },
    "tags": []
   },
   "outputs": [],
   "source": [
    "#Mish 激活函数\n",
    "import torch.nn as nn\n",
    "class Mish(nn.Module):\n",
    "    def __init__(self):\n",
    "        super().__init__()\n",
    "        print(\"Mish activation loaded..\")\n",
    "    def forward(self,x):\n",
    "        x = x *(torch.tanh(nn.Softplus()(x)))\n",
    "        return x"
   ]
  },
  {
   "cell_type": "code",
   "execution_count": 44,
   "id": "7e567bb4",
   "metadata": {
    "execution": {
     "iopub.execute_input": "2023-11-10T13:51:05.389176Z",
     "iopub.status.busy": "2023-11-10T13:51:05.388887Z",
     "iopub.status.idle": "2023-11-10T13:51:05.394652Z",
     "shell.execute_reply": "2023-11-10T13:51:05.393788Z"
    },
    "papermill": {
     "duration": 0.032211,
     "end_time": "2023-11-10T13:51:05.396855",
     "exception": false,
     "start_time": "2023-11-10T13:51:05.364644",
     "status": "completed"
    },
    "tags": []
   },
   "outputs": [
    {
     "data": {
      "text/plain": [
       "<torch._C.Generator at 0x79b081f06750>"
      ]
     },
     "execution_count": 44,
     "metadata": {},
     "output_type": "execute_result"
    }
   ],
   "source": [
    "torch.manual_seed(0) #设置随机种子"
   ]
  },
  {
   "cell_type": "code",
   "execution_count": 45,
   "id": "8bfd3d00",
   "metadata": {
    "execution": {
     "iopub.execute_input": "2023-11-10T13:51:05.445866Z",
     "iopub.status.busy": "2023-11-10T13:51:05.445572Z",
     "iopub.status.idle": "2023-11-10T13:51:08.610249Z",
     "shell.execute_reply": "2023-11-10T13:51:08.609291Z"
    },
    "papermill": {
     "duration": 3.19165,
     "end_time": "2023-11-10T13:51:08.612443",
     "exception": false,
     "start_time": "2023-11-10T13:51:05.420793",
     "status": "completed"
    },
    "tags": []
   },
   "outputs": [
    {
     "name": "stdout",
     "output_type": "stream",
     "text": [
      "Mish activation loaded..\n",
      "Mish activation loaded..\n",
      "[[24.0 1 0 ... True False False]\n",
      " [28.0 0 0 ... False True False]\n",
      " [29.881137667304014 0 0 ... False False True]\n",
      " ...\n",
      " [29.881137667304014 0 2 ... False False True]\n",
      " [29.881137667304014 0 0 ... True False False]\n",
      " [29.881137667304014 1 0 ... False False True]]\n"
     ]
    },
    {
     "data": {
      "image/png": "[encoded data removed]",
      "text/plain": [
       "<Figure size 640x480 with 1 Axes>"
      ]
     },
     "metadata": {},
     "output_type": "display_data"
    }
   ],
   "source": [
    "class ThreelinearModel(nn.Module):\n",
    "    def __init__(self):\n",
    "        super().__init__()\n",
    "        self.linear1 = nn.Linear(12,12)\n",
    "        self.mish1 = Mish()\n",
    "        self.linear2 = nn.Linear(12, 8)\n",
    "        self.mish2 = Mish()\n",
    "        self.linear3 = nn.Linear(8,2)\n",
    "        self.softmax = nn.Softmax(dim=1)\n",
    "        self.criterion = nn.CrossEntropyLoss()\n",
    "    def forward(self,x):\n",
    "        lin1_out = self.linear1(x)\n",
    "        out1 = self.mish1(lin1_out)\n",
    "        out2 = self.mish2(self.linear2(out1))\n",
    "        return self.softmax(self.linear3(out2))\n",
    "    def getloss(self,x,y):\n",
    "        y_pred = self.forward(x)\n",
    "        loss = self.criterion(y_pred, y)\n",
    "        return loss\n",
    "device = torch.device('cuda') if torch.cuda.is_available() else torch.device('cpu')   \n",
    "net = ThreelinearModel().to(device)\n",
    "\n",
    "num_epochs = 200\n",
    "optimizer = torch.optim.Adam(net.parameters(),lr=0.04)\n",
    "print(train_features)\n",
    "train_features = train_features.astype(np.float64) \n",
    "input_tensor = torch.from_numpy(train_features).type(torch.FloatTensor).to(device)\n",
    "label_tensor = torch.from_numpy(train_labels).to(device)\n",
    "\n",
    "\n",
    "\n",
    "losses = []\n",
    "for epoch in range(num_epochs):\n",
    "    loss = net.getloss(input_tensor,label_tensor)\n",
    "    losses.append(loss.item())\n",
    "    optimizer.zero_grad()\n",
    "    loss.backward()\n",
    "    optimizer.step() #更新参数\n",
    "    #if epoch % 20 ==0:\n",
    "        #print('Epoch {}/{} => Loss: {:.2f}'.format(epoch+1, num_epochs, loss.item()))\n",
    "\n",
    "#torch.save(net.state_dict(),'model/titanic_model.pt')\n",
    "\n",
    "plot_losses(losses)"
   ]
  },
  {
   "cell_type": "code",
   "execution_count": 46,
   "id": "48bb2875",
   "metadata": {
    "execution": {
     "iopub.execute_input": "2023-11-10T13:51:08.666452Z",
     "iopub.status.busy": "2023-11-10T13:51:08.666138Z",
     "iopub.status.idle": "2023-11-10T13:51:08.673660Z",
     "shell.execute_reply": "2023-11-10T13:51:08.672635Z"
    },
    "papermill": {
     "duration": 0.037974,
     "end_time": "2023-11-10T13:51:08.675940",
     "exception": false,
     "start_time": "2023-11-10T13:51:08.637966",
     "status": "completed"
    },
    "tags": []
   },
   "outputs": [
    {
     "name": "stdout",
     "output_type": "stream",
     "text": [
      "Train Accuracy: 0.82\n"
     ]
    }
   ],
   "source": [
    "#输出训练结果\n",
    "out_prob = net(input_tensor).cpu().detach().numpy()\n",
    "out_class = np.argmax(out_prob, axis = 1)\n",
    "print('Train Accuracy: {:.2f}'.format(sum(train_labels == out_class) /len(train_labels)))\n"
   ]
  },
  {
   "cell_type": "code",
   "execution_count": 47,
   "id": "ef94c8c5",
   "metadata": {
    "execution": {
     "iopub.execute_input": "2023-11-10T13:51:08.729136Z",
     "iopub.status.busy": "2023-11-10T13:51:08.728828Z",
     "iopub.status.idle": "2023-11-10T13:51:08.737262Z",
     "shell.execute_reply": "2023-11-10T13:51:08.736356Z"
    },
    "papermill": {
     "duration": 0.03623,
     "end_time": "2023-11-10T13:51:08.739331",
     "exception": false,
     "start_time": "2023-11-10T13:51:08.703101",
     "status": "completed"
    },
    "tags": []
   },
   "outputs": [
    {
     "name": "stdout",
     "output_type": "stream",
     "text": [
      "Test Accuracy: 0.79\n"
     ]
    }
   ],
   "source": [
    "#测试模型\n",
    "test_features = test_features.astype(np.float64) \n",
    "test_tensor = torch.from_numpy(test_features).type(torch.FloatTensor).to(device)\n",
    "test_label_tensor = torch.from_numpy(test_labels).to(device)\n",
    "test_prob = net(test_tensor).cpu().detach().numpy()\n",
    "test_class =np.argmax(test_prob,axis=1)\n",
    "print('Test Accuracy: {:.2f}'.format(sum(test_labels == test_class) /len(test_labels)))"
   ]
  },
  {
   "cell_type": "markdown",
   "id": "c4223cec",
   "metadata": {
    "papermill": {
     "duration": 0.024447,
     "end_time": "2023-11-10T13:51:08.788599",
     "exception": false,
     "start_time": "2023-11-10T13:51:08.764152",
     "status": "completed"
    },
    "tags": []
   },
   "source": [
    "# 第6章 Fashion-MNIST数据集"
   ]
  },
  {
   "cell_type": "code",
   "execution_count": 48,
   "id": "1234c9f8",
   "metadata": {
    "execution": {
     "iopub.execute_input": "2023-11-10T13:51:08.836540Z",
     "iopub.status.busy": "2023-11-10T13:51:08.836240Z",
     "iopub.status.idle": "2023-11-10T13:51:14.436867Z",
     "shell.execute_reply": "2023-11-10T13:51:14.435451Z"
    },
    "papermill": {
     "duration": 5.627155,
     "end_time": "2023-11-10T13:51:14.439236",
     "exception": false,
     "start_time": "2023-11-10T13:51:08.812081",
     "status": "completed"
    },
    "tags": []
   },
   "outputs": [
    {
     "name": "stdout",
     "output_type": "stream",
     "text": [
      "Downloading http://fashion-mnist.s3-website.eu-central-1.amazonaws.com/train-images-idx3-ubyte.gz\n",
      "Downloading http://fashion-mnist.s3-website.eu-central-1.amazonaws.com/train-images-idx3-ubyte.gz to ./fashion_mnist/FashionMNIST/raw/train-images-idx3-ubyte.gz\n"
     ]
    },
    {
     "name": "stderr",
     "output_type": "stream",
     "text": [
      "100%|██████████| 26421880/26421880 [00:01<00:00, 17305541.07it/s]\n"
     ]
    },
    {
     "name": "stdout",
     "output_type": "stream",
     "text": [
      "Extracting ./fashion_mnist/FashionMNIST/raw/train-images-idx3-ubyte.gz to ./fashion_mnist/FashionMNIST/raw\n",
      "\n",
      "Downloading http://fashion-mnist.s3-website.eu-central-1.amazonaws.com/train-labels-idx1-ubyte.gz\n",
      "Downloading http://fashion-mnist.s3-website.eu-central-1.amazonaws.com/train-labels-idx1-ubyte.gz to ./fashion_mnist/FashionMNIST/raw/train-labels-idx1-ubyte.gz\n"
     ]
    },
    {
     "name": "stderr",
     "output_type": "stream",
     "text": [
      "100%|██████████| 29515/29515 [00:00<00:00, 277199.68it/s]\n"
     ]
    },
    {
     "name": "stdout",
     "output_type": "stream",
     "text": [
      "Extracting ./fashion_mnist/FashionMNIST/raw/train-labels-idx1-ubyte.gz to ./fashion_mnist/FashionMNIST/raw\n",
      "\n",
      "Downloading http://fashion-mnist.s3-website.eu-central-1.amazonaws.com/t10k-images-idx3-ubyte.gz\n",
      "Downloading http://fashion-mnist.s3-website.eu-central-1.amazonaws.com/t10k-images-idx3-ubyte.gz to ./fashion_mnist/FashionMNIST/raw/t10k-images-idx3-ubyte.gz\n"
     ]
    },
    {
     "name": "stderr",
     "output_type": "stream",
     "text": [
      "100%|██████████| 4422102/4422102 [00:00<00:00, 4914069.70it/s]\n"
     ]
    },
    {
     "name": "stdout",
     "output_type": "stream",
     "text": [
      "Extracting ./fashion_mnist/FashionMNIST/raw/t10k-images-idx3-ubyte.gz to ./fashion_mnist/FashionMNIST/raw\n",
      "\n",
      "Downloading http://fashion-mnist.s3-website.eu-central-1.amazonaws.com/t10k-labels-idx1-ubyte.gz\n",
      "Downloading http://fashion-mnist.s3-website.eu-central-1.amazonaws.com/t10k-labels-idx1-ubyte.gz to ./fashion_mnist/FashionMNIST/raw/t10k-labels-idx1-ubyte.gz\n"
     ]
    },
    {
     "name": "stderr",
     "output_type": "stream",
     "text": [
      "100%|██████████| 5148/5148 [00:00<00:00, 10615672.07it/s]"
     ]
    },
    {
     "name": "stdout",
     "output_type": "stream",
     "text": [
      "Extracting ./fashion_mnist/FashionMNIST/raw/t10k-labels-idx1-ubyte.gz to ./fashion_mnist/FashionMNIST/raw\n",
      "\n"
     ]
    },
    {
     "name": "stderr",
     "output_type": "stream",
     "text": [
      "\n"
     ]
    }
   ],
   "source": [
    "#代码自动下载数据集\n",
    "import torchvision\n",
    "import torchvision.transforms as transforms\n",
    "data_dir = './fashion_mnist/'\n",
    "transform = transforms.Compose([transforms.ToTensor()]) #将图片转为PyTorch支持的形状[通道，高，宽]\n",
    "train_dataset = torchvision.datasets.FashionMNIST(data_dir,train=True, transform=transform, download=True)\n"
   ]
  },
  {
   "cell_type": "code",
   "execution_count": 49,
   "id": "955cce84",
   "metadata": {
    "execution": {
     "iopub.execute_input": "2023-11-10T13:51:14.495585Z",
     "iopub.status.busy": "2023-11-10T13:51:14.495235Z",
     "iopub.status.idle": "2023-11-10T13:51:14.504707Z",
     "shell.execute_reply": "2023-11-10T13:51:14.503459Z"
    },
    "papermill": {
     "duration": 0.03981,
     "end_time": "2023-11-10T13:51:14.506705",
     "exception": false,
     "start_time": "2023-11-10T13:51:14.466895",
     "status": "completed"
    },
    "tags": []
   },
   "outputs": [
    {
     "name": "stdout",
     "output_type": "stream",
     "text": [
      "Dataset FashionMNIST\n",
      "    Number of datapoints: 60000\n",
      "    Root location: ./fashion_mnist/\n",
      "    Split: Train\n",
      "    StandardTransform\n",
      "Transform: Compose(\n",
      "               ToTensor()\n",
      "           )\n",
      "Dataset FashionMNIST\n",
      "    Number of datapoints: 10000\n",
      "    Root location: ./fashion_mnist/\n",
      "    Split: Test\n",
      "    StandardTransform\n",
      "Transform: Compose(\n",
      "               ToTensor()\n",
      "           )\n"
     ]
    }
   ],
   "source": [
    "print(train_dataset)\n",
    "val_dataset = torchvision.datasets.FashionMNIST(root=data_dir, train=False, transform = transform)\n",
    "print(val_dataset)"
   ]
  },
  {
   "cell_type": "code",
   "execution_count": 50,
   "id": "3bc0569b",
   "metadata": {
    "execution": {
     "iopub.execute_input": "2023-11-10T13:51:14.565135Z",
     "iopub.status.busy": "2023-11-10T13:51:14.564831Z",
     "iopub.status.idle": "2023-11-10T13:51:14.776087Z",
     "shell.execute_reply": "2023-11-10T13:51:14.775182Z"
    },
    "papermill": {
     "duration": 0.243644,
     "end_time": "2023-11-10T13:51:14.778044",
     "exception": false,
     "start_time": "2023-11-10T13:51:14.534400",
     "status": "completed"
    },
    "tags": []
   },
   "outputs": [
    {
     "name": "stdout",
     "output_type": "stream",
     "text": [
      "tensor([[[0.0000, 0.0000, 0.0000, 0.0000, 0.0000, 0.0000, 0.0000, 0.0000,\n",
      "          0.0000, 0.0000, 0.0000, 0.0000, 0.0000, 0.0000, 0.0000, 0.0000,\n",
      "          0.0000, 0.0000, 0.0000, 0.0000, 0.0000, 0.0000, 0.0000, 0.0000,\n",
      "          0.0000, 0.0000, 0.0000, 0.0000],\n",
      "         [0.0000, 0.0000, 0.0000, 0.0000, 0.0000, 0.0000, 0.0000, 0.0000,\n",
      "          0.0000, 0.0000, 0.0000, 0.0000, 0.0000, 0.0000, 0.0000, 0.0000,\n",
      "          0.0000, 0.0000, 0.0000, 0.0000, 0.0000, 0.0000, 0.0000, 0.0000,\n",
      "          0.0000, 0.0000, 0.0000, 0.0000],\n",
      "         [0.0000, 0.0000, 0.0000, 0.0000, 0.0000, 0.0000, 0.0000, 0.0000,\n",
      "          0.0000, 0.0000, 0.0000, 0.0000, 0.0000, 0.0000, 0.0000, 0.0000,\n",
      "          0.0000, 0.0000, 0.0000, 0.0000, 0.0000, 0.0000, 0.0000, 0.0000,\n",
      "          0.0000, 0.0000, 0.0000, 0.0000],\n",
      "         [0.0000, 0.0000, 0.0000, 0.0000, 0.0000, 0.0000, 0.0000, 0.0000,\n",
      "          0.0000, 0.0000, 0.0000, 0.0000, 0.0039, 0.0000, 0.0000, 0.0510,\n",
      "          0.2863, 0.0000, 0.0000, 0.0039, 0.0157, 0.0000, 0.0000, 0.0000,\n",
      "          0.0000, 0.0039, 0.0039, 0.0000],\n",
      "         [0.0000, 0.0000, 0.0000, 0.0000, 0.0000, 0.0000, 0.0000, 0.0000,\n",
      "          0.0000, 0.0000, 0.0000, 0.0000, 0.0118, 0.0000, 0.1412, 0.5333,\n",
      "          0.4980, 0.2431, 0.2118, 0.0000, 0.0000, 0.0000, 0.0039, 0.0118,\n",
      "          0.0157, 0.0000, 0.0000, 0.0118],\n",
      "         [0.0000, 0.0000, 0.0000, 0.0000, 0.0000, 0.0000, 0.0000, 0.0000,\n",
      "          0.0000, 0.0000, 0.0000, 0.0000, 0.0235, 0.0000, 0.4000, 0.8000,\n",
      "          0.6902, 0.5255, 0.5647, 0.4824, 0.0902, 0.0000, 0.0000, 0.0000,\n",
      "          0.0000, 0.0471, 0.0392, 0.0000],\n",
      "         [0.0000, 0.0000, 0.0000, 0.0000, 0.0000, 0.0000, 0.0000, 0.0000,\n",
      "          0.0000, 0.0000, 0.0000, 0.0000, 0.0000, 0.0000, 0.6078, 0.9255,\n",
      "          0.8118, 0.6980, 0.4196, 0.6118, 0.6314, 0.4275, 0.2510, 0.0902,\n",
      "          0.3020, 0.5098, 0.2824, 0.0588],\n",
      "         [0.0000, 0.0000, 0.0000, 0.0000, 0.0000, 0.0000, 0.0000, 0.0000,\n",
      "          0.0000, 0.0000, 0.0000, 0.0039, 0.0000, 0.2706, 0.8118, 0.8745,\n",
      "          0.8549, 0.8471, 0.8471, 0.6392, 0.4980, 0.4745, 0.4784, 0.5725,\n",
      "          0.5529, 0.3451, 0.6745, 0.2588],\n",
      "         [0.0000, 0.0000, 0.0000, 0.0000, 0.0000, 0.0000, 0.0000, 0.0000,\n",
      "          0.0000, 0.0039, 0.0039, 0.0039, 0.0000, 0.7843, 0.9098, 0.9098,\n",
      "          0.9137, 0.8980, 0.8745, 0.8745, 0.8431, 0.8353, 0.6431, 0.4980,\n",
      "          0.4824, 0.7686, 0.8980, 0.0000],\n",
      "         [0.0000, 0.0000, 0.0000, 0.0000, 0.0000, 0.0000, 0.0000, 0.0000,\n",
      "          0.0000, 0.0000, 0.0000, 0.0000, 0.0000, 0.7176, 0.8824, 0.8471,\n",
      "          0.8745, 0.8941, 0.9216, 0.8902, 0.8784, 0.8706, 0.8784, 0.8667,\n",
      "          0.8745, 0.9608, 0.6784, 0.0000],\n",
      "         [0.0000, 0.0000, 0.0000, 0.0000, 0.0000, 0.0000, 0.0000, 0.0000,\n",
      "          0.0000, 0.0000, 0.0000, 0.0000, 0.0000, 0.7569, 0.8941, 0.8549,\n",
      "          0.8353, 0.7765, 0.7059, 0.8314, 0.8235, 0.8275, 0.8353, 0.8745,\n",
      "          0.8627, 0.9529, 0.7922, 0.0000],\n",
      "         [0.0000, 0.0000, 0.0000, 0.0000, 0.0000, 0.0000, 0.0000, 0.0000,\n",
      "          0.0000, 0.0039, 0.0118, 0.0000, 0.0471, 0.8588, 0.8627, 0.8314,\n",
      "          0.8549, 0.7529, 0.6627, 0.8902, 0.8157, 0.8549, 0.8784, 0.8314,\n",
      "          0.8863, 0.7725, 0.8196, 0.2039],\n",
      "         [0.0000, 0.0000, 0.0000, 0.0000, 0.0000, 0.0000, 0.0000, 0.0000,\n",
      "          0.0000, 0.0000, 0.0235, 0.0000, 0.3882, 0.9569, 0.8706, 0.8627,\n",
      "          0.8549, 0.7961, 0.7765, 0.8667, 0.8431, 0.8353, 0.8706, 0.8627,\n",
      "          0.9608, 0.4667, 0.6549, 0.2196],\n",
      "         [0.0000, 0.0000, 0.0000, 0.0000, 0.0000, 0.0000, 0.0000, 0.0000,\n",
      "          0.0000, 0.0157, 0.0000, 0.0000, 0.2157, 0.9255, 0.8941, 0.9020,\n",
      "          0.8941, 0.9412, 0.9098, 0.8353, 0.8549, 0.8745, 0.9176, 0.8510,\n",
      "          0.8510, 0.8196, 0.3608, 0.0000],\n",
      "         [0.0000, 0.0000, 0.0039, 0.0157, 0.0235, 0.0275, 0.0078, 0.0000,\n",
      "          0.0000, 0.0000, 0.0000, 0.0000, 0.9294, 0.8863, 0.8510, 0.8745,\n",
      "          0.8706, 0.8588, 0.8706, 0.8667, 0.8471, 0.8745, 0.8980, 0.8431,\n",
      "          0.8549, 1.0000, 0.3020, 0.0000],\n",
      "         [0.0000, 0.0118, 0.0000, 0.0000, 0.0000, 0.0000, 0.0000, 0.0000,\n",
      "          0.0000, 0.2431, 0.5686, 0.8000, 0.8941, 0.8118, 0.8353, 0.8667,\n",
      "          0.8549, 0.8157, 0.8275, 0.8549, 0.8784, 0.8745, 0.8588, 0.8431,\n",
      "          0.8784, 0.9569, 0.6235, 0.0000],\n",
      "         [0.0000, 0.0000, 0.0000, 0.0000, 0.0706, 0.1725, 0.3216, 0.4196,\n",
      "          0.7412, 0.8941, 0.8627, 0.8706, 0.8510, 0.8863, 0.7843, 0.8039,\n",
      "          0.8275, 0.9020, 0.8784, 0.9176, 0.6902, 0.7373, 0.9804, 0.9725,\n",
      "          0.9137, 0.9333, 0.8431, 0.0000],\n",
      "         [0.0000, 0.2235, 0.7333, 0.8157, 0.8784, 0.8667, 0.8784, 0.8157,\n",
      "          0.8000, 0.8392, 0.8157, 0.8196, 0.7843, 0.6235, 0.9608, 0.7569,\n",
      "          0.8078, 0.8745, 1.0000, 1.0000, 0.8667, 0.9176, 0.8667, 0.8275,\n",
      "          0.8627, 0.9098, 0.9647, 0.0000],\n",
      "         [0.0118, 0.7922, 0.8941, 0.8784, 0.8667, 0.8275, 0.8275, 0.8392,\n",
      "          0.8039, 0.8039, 0.8039, 0.8627, 0.9412, 0.3137, 0.5882, 1.0000,\n",
      "          0.8980, 0.8667, 0.7373, 0.6039, 0.7490, 0.8235, 0.8000, 0.8196,\n",
      "          0.8706, 0.8941, 0.8824, 0.0000],\n",
      "         [0.3843, 0.9137, 0.7765, 0.8235, 0.8706, 0.8980, 0.8980, 0.9176,\n",
      "          0.9765, 0.8627, 0.7608, 0.8431, 0.8510, 0.9451, 0.2549, 0.2863,\n",
      "          0.4157, 0.4588, 0.6588, 0.8588, 0.8667, 0.8431, 0.8510, 0.8745,\n",
      "          0.8745, 0.8784, 0.8980, 0.1137],\n",
      "         [0.2941, 0.8000, 0.8314, 0.8000, 0.7569, 0.8039, 0.8275, 0.8824,\n",
      "          0.8471, 0.7255, 0.7725, 0.8078, 0.7765, 0.8353, 0.9412, 0.7647,\n",
      "          0.8902, 0.9608, 0.9373, 0.8745, 0.8549, 0.8314, 0.8196, 0.8706,\n",
      "          0.8627, 0.8667, 0.9020, 0.2627],\n",
      "         [0.1882, 0.7961, 0.7176, 0.7608, 0.8353, 0.7725, 0.7255, 0.7451,\n",
      "          0.7608, 0.7529, 0.7922, 0.8392, 0.8588, 0.8667, 0.8627, 0.9255,\n",
      "          0.8824, 0.8471, 0.7804, 0.8078, 0.7294, 0.7098, 0.6941, 0.6745,\n",
      "          0.7098, 0.8039, 0.8078, 0.4510],\n",
      "         [0.0000, 0.4784, 0.8588, 0.7569, 0.7020, 0.6706, 0.7176, 0.7686,\n",
      "          0.8000, 0.8235, 0.8353, 0.8118, 0.8275, 0.8235, 0.7843, 0.7686,\n",
      "          0.7608, 0.7490, 0.7647, 0.7490, 0.7765, 0.7529, 0.6902, 0.6118,\n",
      "          0.6549, 0.6941, 0.8235, 0.3608],\n",
      "         [0.0000, 0.0000, 0.2902, 0.7412, 0.8314, 0.7490, 0.6863, 0.6745,\n",
      "          0.6863, 0.7098, 0.7255, 0.7373, 0.7412, 0.7373, 0.7569, 0.7765,\n",
      "          0.8000, 0.8196, 0.8235, 0.8235, 0.8275, 0.7373, 0.7373, 0.7608,\n",
      "          0.7529, 0.8471, 0.6667, 0.0000],\n",
      "         [0.0078, 0.0000, 0.0000, 0.0000, 0.2588, 0.7843, 0.8706, 0.9294,\n",
      "          0.9373, 0.9490, 0.9647, 0.9529, 0.9569, 0.8667, 0.8627, 0.7569,\n",
      "          0.7490, 0.7020, 0.7137, 0.7137, 0.7098, 0.6902, 0.6510, 0.6588,\n",
      "          0.3882, 0.2275, 0.0000, 0.0000],\n",
      "         [0.0000, 0.0000, 0.0000, 0.0000, 0.0000, 0.0000, 0.0000, 0.1569,\n",
      "          0.2392, 0.1725, 0.2824, 0.1608, 0.1373, 0.0000, 0.0000, 0.0000,\n",
      "          0.0000, 0.0000, 0.0000, 0.0000, 0.0000, 0.0000, 0.0000, 0.0000,\n",
      "          0.0000, 0.0000, 0.0000, 0.0000],\n",
      "         [0.0000, 0.0000, 0.0000, 0.0000, 0.0000, 0.0000, 0.0000, 0.0000,\n",
      "          0.0000, 0.0000, 0.0000, 0.0000, 0.0000, 0.0000, 0.0000, 0.0000,\n",
      "          0.0000, 0.0000, 0.0000, 0.0000, 0.0000, 0.0000, 0.0000, 0.0000,\n",
      "          0.0000, 0.0000, 0.0000, 0.0000],\n",
      "         [0.0000, 0.0000, 0.0000, 0.0000, 0.0000, 0.0000, 0.0000, 0.0000,\n",
      "          0.0000, 0.0000, 0.0000, 0.0000, 0.0000, 0.0000, 0.0000, 0.0000,\n",
      "          0.0000, 0.0000, 0.0000, 0.0000, 0.0000, 0.0000, 0.0000, 0.0000,\n",
      "          0.0000, 0.0000, 0.0000, 0.0000]]])\n",
      "9\n"
     ]
    },
    {
     "data": {
      "image/png": "[encoded data removed]",
      "text/plain": [
       "<Figure size 640x480 with 1 Axes>"
      ]
     },
     "metadata": {},
     "output_type": "display_data"
    }
   ],
   "source": [
    "import pylab\n",
    "\n",
    "print(train_dataset[0][0]) #图片的像素信息 28*28\n",
    "print(train_dataset[0][1]) #图片所属类别标签\n",
    "im = train_dataset[0][0].numpy()\n",
    "im = im.reshape(-1,28)\n",
    "pylab.imshow(im)\n",
    "pylab.show()"
   ]
  },
  {
   "cell_type": "code",
   "execution_count": 51,
   "id": "f3b70b59",
   "metadata": {
    "execution": {
     "iopub.execute_input": "2023-11-10T13:51:14.833853Z",
     "iopub.status.busy": "2023-11-10T13:51:14.833547Z",
     "iopub.status.idle": "2023-11-10T13:51:14.838607Z",
     "shell.execute_reply": "2023-11-10T13:51:14.837831Z"
    },
    "papermill": {
     "duration": 0.034926,
     "end_time": "2023-11-10T13:51:14.840535",
     "exception": false,
     "start_time": "2023-11-10T13:51:14.805609",
     "status": "completed"
    },
    "tags": []
   },
   "outputs": [],
   "source": [
    "import torch\n",
    "batch_size =10\n",
    "train_loader = torch.utils.data.DataLoader(train_dataset,batch_size = batch_size, shuffle = True)\n",
    "test_loader = torch.utils.data.DataLoader(val_dataset, batch_size=batch_size,shuffle = False)"
   ]
  },
  {
   "cell_type": "code",
   "execution_count": 52,
   "id": "fc01f582",
   "metadata": {
    "execution": {
     "iopub.execute_input": "2023-11-10T13:51:14.895934Z",
     "iopub.status.busy": "2023-11-10T13:51:14.895654Z",
     "iopub.status.idle": "2023-11-10T13:51:14.959949Z",
     "shell.execute_reply": "2023-11-10T13:51:14.958397Z"
    },
    "papermill": {
     "duration": 0.095533,
     "end_time": "2023-11-10T13:51:14.963018",
     "exception": false,
     "start_time": "2023-11-10T13:51:14.867485",
     "status": "completed"
    },
    "tags": []
   },
   "outputs": [
    {
     "name": "stdout",
     "output_type": "stream",
     "text": [
      "样本形状: torch.Size([10, 1, 28, 28])\n",
      "样本标签: tensor([1, 8, 9, 7, 8, 0, 6, 8, 7, 9])\n",
      "图片形状: torch.Size([3, 32, 302])\n",
      "Trouser,  Bag,Ankle_Boot,Sneaker,  Bag,T-shirt,Shirt,  Bag,Sneaker,Ankle_Boot\n"
     ]
    },
    {
     "data": {
      "image/png": "[encoded data removed]",
      "text/plain": [
       "<Figure size 640x480 with 1 Axes>"
      ]
     },
     "metadata": {},
     "output_type": "display_data"
    }
   ],
   "source": [
    "from matplotlib import pyplot as plt\n",
    "import numpy as np\n",
    "def imshow(img):\n",
    "    print(\"图片形状:\",np.shape(img))\n",
    "    img = img / 2 +.5\n",
    "    npimg = img.numpy()\n",
    "    plt.axis('off')\n",
    "    plt.imshow(np.transpose(npimg,(1,2,0)))\n",
    "    \n",
    "classes = ('T-shirt', 'Trouser', 'Pullover','Dress','Coat','Sandal','Shirt','Sneaker','Bag','Ankle_Boot')\n",
    "sample = iter(train_loader)\n",
    "images, labels = next(sample)\n",
    "print('样本形状:',np.shape(images)) #10张图片，通道为1，28*28的像素\n",
    "print('样本标签:',labels)\n",
    "imshow(torchvision.utils.make_grid(images,batch_size))#十张图片拼接，一通道转换为三通道\n",
    "print(','.join('%5s'%classes[labels[j]] for j in range(len(images))))"
   ]
  },
  {
   "cell_type": "code",
   "execution_count": 53,
   "id": "83ff2e41",
   "metadata": {
    "execution": {
     "iopub.execute_input": "2023-11-10T13:51:15.082406Z",
     "iopub.status.busy": "2023-11-10T13:51:15.081747Z",
     "iopub.status.idle": "2023-11-10T13:51:57.734135Z",
     "shell.execute_reply": "2023-11-10T13:51:57.732659Z"
    },
    "papermill": {
     "duration": 42.712523,
     "end_time": "2023-11-10T13:51:57.736561",
     "exception": false,
     "start_time": "2023-11-10T13:51:15.024038",
     "status": "completed"
    },
    "tags": []
   },
   "outputs": [
    {
     "name": "stdout",
     "output_type": "stream",
     "text": [
      "myConNet(\n",
      "  (conv1): Conv2d(1, 6, kernel_size=(5, 5), stride=(1, 1))\n",
      "  (conv2): Conv2d(6, 12, kernel_size=(5, 5), stride=(1, 1))\n",
      "  (fc1): Linear(in_features=192, out_features=120, bias=True)\n",
      "  (fc2): Linear(in_features=120, out_features=60, bias=True)\n",
      "  (out): Linear(in_features=60, out_features=10, bias=True)\n",
      ")\n",
      "cuda:0\n",
      "[1,  1000] loss:0.524\n",
      "[1,  2000] loss:0.414\n",
      "[1,  3000] loss:0.398\n",
      "[1,  4000] loss:0.377\n",
      "[1,  5000] loss:0.371\n",
      "[1,  6000] loss:0.375\n",
      "[2,  1000] loss:0.374\n",
      "[2,  2000] loss:0.369\n",
      "[2,  3000] loss:0.358\n",
      "[2,  4000] loss:0.343\n",
      "[2,  5000] loss:0.344\n",
      "[2,  6000] loss:0.336\n",
      "Finished Training\n"
     ]
    }
   ],
   "source": [
    "from torch.nn import functional as F\n",
    "class myConNet(torch.nn.Module):\n",
    "    def __init__(self):\n",
    "        super(myConNet, self).__init__()\n",
    "        #卷积层定义\n",
    "        self.conv1 = torch.nn.Conv2d(in_channels=1, out_channels=6, kernel_size=5)\n",
    "        self.conv2 = torch.nn.Conv2d(in_channels=6, out_channels = 12, kernel_size=5)\n",
    "        #定义全连接层\n",
    "        self.fc1 = torch.nn.Linear(in_features = 12*4*4, out_features = 120)\n",
    "        self.fc2 = torch.nn.Linear(in_features = 120, out_features = 60)\n",
    "        self.out = torch.nn.Linear(in_features = 60, out_features = 10)\n",
    "        \n",
    "    def forward(self, t):\n",
    "        #第一层卷积和池化处理\n",
    "        t = self.conv1(t)\n",
    "        t = F.relu(t)\n",
    "        t = F.max_pool2d(t, kernel_size=2,stride=2)\n",
    "        \n",
    "        #第二层卷积和池化处理\n",
    "        t = self.conv2(t)\n",
    "        t = F.relu(t)\n",
    "        t = F.max_pool2d(t, kernel_size =2, stride=2)\n",
    "        \n",
    "        #搭建全连接网络，第一层全连接\n",
    "        t = t.reshape(-1, 12 * 4 * 4)\n",
    "        t = self.fc1(t)\n",
    "        t = F.relu(t)\n",
    "        \n",
    "        #第二层全连接\n",
    "        t = self.fc2(t)\n",
    "        t = F.relu(t)\n",
    "        \n",
    "        #第三层全连接\n",
    "        t = self.out(t)\n",
    "        return (t)\n",
    "if __name__ == '__main__':\n",
    "    network = myConNet()\n",
    "    print(network)\n",
    "    \n",
    "    device = torch.device(\"cuda:0\" if torch.cuda.is_available() else\"cpu\")\n",
    "    print(device)\n",
    "    network.to(device)\n",
    "    \n",
    "    criterion = torch.nn.CrossEntropyLoss()\n",
    "    optimizer = torch.optim.Adam(network.parameters(),lr=.01)\n",
    "    for epoch in range(2):\n",
    "        running_loss = 0.0\n",
    "        for i,data in enumerate(train_loader, 0):\n",
    "            inputs, labels = data\n",
    "            inputs, labels = inputs.to(device), labels.to(device)\n",
    "            optimizer.zero_grad()\n",
    "            outputs = network(inputs)\n",
    "            loss = criterion(outputs, labels)\n",
    "            loss.backward()\n",
    "            optimizer.step()\n",
    "            running_loss +=loss.item()\n",
    "            if i%1000 == 999:\n",
    "                print('[%d, %5d] loss:%.3f'% \n",
    "                     (epoch+1, i+1, running_loss / 2000))\n",
    "                running_loss = 0.0\n",
    "    print('Finished Training')\n",
    "        "
   ]
  },
  {
   "cell_type": "code",
   "execution_count": 54,
   "id": "6ec88f51",
   "metadata": {
    "execution": {
     "iopub.execute_input": "2023-11-10T13:51:57.799848Z",
     "iopub.status.busy": "2023-11-10T13:51:57.799537Z",
     "iopub.status.idle": "2023-11-10T13:51:57.879536Z",
     "shell.execute_reply": "2023-11-10T13:51:57.878208Z"
    },
    "papermill": {
     "duration": 0.116218,
     "end_time": "2023-11-10T13:51:57.883132",
     "exception": false,
     "start_time": "2023-11-10T13:51:57.766914",
     "status": "completed"
    },
    "tags": []
   },
   "outputs": [
    {
     "name": "stdout",
     "output_type": "stream",
     "text": [
      "图片形状: torch.Size([3, 32, 302])\n",
      "真实标签:  Ankle_Boot Pullover Trouser Trouser Shirt Trouser  Coat Shirt Sandal Sneaker\n",
      "预测结果:  Ankle_Boot  Coat Trouser Trouser Shirt Trouser  Coat Pullover Sandal Sneaker\n"
     ]
    },
    {
     "data": {
      "image/png": "[encoded data removed]",
      "text/plain": [
       "<Figure size 640x480 with 1 Axes>"
      ]
     },
     "metadata": {},
     "output_type": "display_data"
    }
   ],
   "source": [
    "#保存模型\n",
    "torch.save(network.state_dict(),'./CNNFashionMNIST.pth')\n",
    "#加载模型\n",
    "network.load_state_dict(torch.load('./CNNFashionMNIST.pth'))\n",
    "\n",
    "#使用模型预测\n",
    "dataiter = iter(test_loader)\n",
    "images,labels = next(dataiter)\n",
    "inputs, labels = images.to(device), labels.to(device)\n",
    "\n",
    "imshow(torchvision.utils.make_grid(images, nrow=batch_size))\n",
    "print('真实标签: ', ' '.join('%5s'%classes[labels[j]] for j in range(len(images))))\n",
    "outputs = network(inputs)\n",
    "_,predicted = torch.max(outputs, 1)\n",
    "print('预测结果: ', ' '.join('%5s' %classes[predicted[j]]\n",
    "                        for j in range(len(images))))"
   ]
  },
  {
   "cell_type": "code",
   "execution_count": 55,
   "id": "b9db187d",
   "metadata": {
    "execution": {
     "iopub.execute_input": "2023-11-10T13:51:58.000584Z",
     "iopub.status.busy": "2023-11-10T13:51:57.999900Z",
     "iopub.status.idle": "2023-11-10T13:52:00.403630Z",
     "shell.execute_reply": "2023-11-10T13:52:00.402499Z"
    },
    "papermill": {
     "duration": 2.457087,
     "end_time": "2023-11-10T13:52:00.406324",
     "exception": false,
     "start_time": "2023-11-10T13:51:57.949237",
     "status": "completed"
    },
    "tags": []
   },
   "outputs": [
    {
     "name": "stdout",
     "output_type": "stream",
     "text": [
      "Accuracy of T-shirt : 81 % \n",
      "Accuracy of Trouser : 94 % \n",
      "Accuracy of Pullover : 58 % \n",
      "Accuracy of Dress : 73 % \n",
      "Accuracy of  Coat : 63 % \n",
      "Accuracy of Sandal : 76 % \n",
      "Accuracy of Shirt : 26 % \n",
      "Accuracy of Sneaker : 84 % \n",
      "Accuracy of   Bag : 92 % \n",
      "Accuracy of Ankle_Boot : 96 % \n",
      "Accuracy of all :74 %\n"
     ]
    }
   ],
   "source": [
    "class_correct = list(0. for i in range(10))\n",
    "class_total = list(0. for i in range(10))\n",
    "with torch.no_grad():\n",
    "    for data in test_loader:\n",
    "        images, labels = data\n",
    "        inputs, labels = images.to(device),labels.to(device)\n",
    "        outputs = network(inputs)\n",
    "        _, predicted =torch.max(outputs, 1)\n",
    "        predicted = predicted.to(device)\n",
    "        c = (predicted == labels).squeeze()\n",
    "        for i in range(10):\n",
    "            label = labels[i]\n",
    "            class_correct[label] += c[i].item()\n",
    "            class_total[label] += 1\n",
    "            \n",
    "sumacc = 0\n",
    "for i in range(10):\n",
    "    Accuracy = 100*class_correct[i]/class_total[i]\n",
    "    print('Accuracy of %5s : %2d %% '%(classes[i], Accuracy))\n",
    "    sumacc = sumacc +Accuracy\n",
    "    \n",
    "print('Accuracy of all :%2d %%' %(sumacc/10.))\n",
    "    "
   ]
  },
  {
   "cell_type": "code",
   "execution_count": null,
   "id": "0723cd05",
   "metadata": {
    "papermill": {
     "duration": 0.029121,
     "end_time": "2023-11-10T13:52:00.465831",
     "exception": false,
     "start_time": "2023-11-10T13:52:00.436710",
     "status": "completed"
    },
    "tags": []
   },
   "outputs": [],
   "source": []
  },
  {
   "cell_type": "code",
   "execution_count": null,
   "id": "d3ee4005",
   "metadata": {
    "papermill": {
     "duration": 0.029063,
     "end_time": "2023-11-10T13:52:00.524286",
     "exception": false,
     "start_time": "2023-11-10T13:52:00.495223",
     "status": "completed"
    },
    "tags": []
   },
   "outputs": [],
   "source": []
  },
  {
   "cell_type": "code",
   "execution_count": null,
   "id": "76e850c6",
   "metadata": {
    "papermill": {
     "duration": 0.030761,
     "end_time": "2023-11-10T13:52:00.588650",
     "exception": false,
     "start_time": "2023-11-10T13:52:00.557889",
     "status": "completed"
    },
    "tags": []
   },
   "outputs": [],
   "source": []
  },
  {
   "cell_type": "code",
   "execution_count": null,
   "id": "b2a31ebe",
   "metadata": {
    "papermill": {
     "duration": 0.029211,
     "end_time": "2023-11-10T13:52:00.648506",
     "exception": false,
     "start_time": "2023-11-10T13:52:00.619295",
     "status": "completed"
    },
    "tags": []
   },
   "outputs": [],
   "source": []
  },
  {
   "cell_type": "code",
   "execution_count": null,
   "id": "a6cd1892",
   "metadata": {
    "papermill": {
     "duration": 0.035864,
     "end_time": "2023-11-10T13:52:00.714097",
     "exception": false,
     "start_time": "2023-11-10T13:52:00.678233",
     "status": "completed"
    },
    "tags": []
   },
   "outputs": [],
   "source": []
  },
  {
   "cell_type": "code",
   "execution_count": null,
   "id": "c2f0d373",
   "metadata": {
    "papermill": {
     "duration": 0.032024,
     "end_time": "2023-11-10T13:52:00.784064",
     "exception": false,
     "start_time": "2023-11-10T13:52:00.752040",
     "status": "completed"
    },
    "tags": []
   },
   "outputs": [],
   "source": []
  },
  {
   "cell_type": "code",
   "execution_count": null,
   "id": "c2e34b6d",
   "metadata": {
    "papermill": {
     "duration": 0.030025,
     "end_time": "2023-11-10T13:52:00.843162",
     "exception": false,
     "start_time": "2023-11-10T13:52:00.813137",
     "status": "completed"
    },
    "tags": []
   },
   "outputs": [],
   "source": []
  },
  {
   "cell_type": "code",
   "execution_count": null,
   "id": "3aa62daa",
   "metadata": {
    "papermill": {
     "duration": 0.030034,
     "end_time": "2023-11-10T13:52:00.902229",
     "exception": false,
     "start_time": "2023-11-10T13:52:00.872195",
     "status": "completed"
    },
    "tags": []
   },
   "outputs": [],
   "source": []
  },
  {
   "cell_type": "code",
   "execution_count": null,
   "id": "d3d29cb8",
   "metadata": {
    "papermill": {
     "duration": 0.031207,
     "end_time": "2023-11-10T13:52:00.962601",
     "exception": false,
     "start_time": "2023-11-10T13:52:00.931394",
     "status": "completed"
    },
    "tags": []
   },
   "outputs": [],
   "source": []
  },
  {
   "cell_type": "code",
   "execution_count": null,
   "id": "48e4f982",
   "metadata": {
    "papermill": {
     "duration": 0.029668,
     "end_time": "2023-11-10T13:52:01.023024",
     "exception": false,
     "start_time": "2023-11-10T13:52:00.993356",
     "status": "completed"
    },
    "tags": []
   },
   "outputs": [],
   "source": []
  },
  {
   "cell_type": "code",
   "execution_count": null,
   "id": "04175a5b",
   "metadata": {
    "papermill": {
     "duration": 0.029107,
     "end_time": "2023-11-10T13:52:01.082049",
     "exception": false,
     "start_time": "2023-11-10T13:52:01.052942",
     "status": "completed"
    },
    "tags": []
   },
   "outputs": [],
   "source": []
  },
  {
   "cell_type": "code",
   "execution_count": null,
   "id": "7c56db97",
   "metadata": {
    "papermill": {
     "duration": 0.028671,
     "end_time": "2023-11-10T13:52:01.140261",
     "exception": false,
     "start_time": "2023-11-10T13:52:01.111590",
     "status": "completed"
    },
    "tags": []
   },
   "outputs": [],
   "source": []
  },
  {
   "cell_type": "code",
   "execution_count": null,
   "id": "944056d3",
   "metadata": {
    "papermill": {
     "duration": 0.028403,
     "end_time": "2023-11-10T13:52:01.198416",
     "exception": false,
     "start_time": "2023-11-10T13:52:01.170013",
     "status": "completed"
    },
    "tags": []
   },
   "outputs": [],
   "source": []
  },
  {
   "cell_type": "code",
   "execution_count": null,
   "id": "1050ece0",
   "metadata": {
    "papermill": {
     "duration": 0.02953,
     "end_time": "2023-11-10T13:52:01.256875",
     "exception": false,
     "start_time": "2023-11-10T13:52:01.227345",
     "status": "completed"
    },
    "tags": []
   },
   "outputs": [],
   "source": []
  },
  {
   "cell_type": "code",
   "execution_count": null,
   "id": "8156e415",
   "metadata": {
    "papermill": {
     "duration": 0.028528,
     "end_time": "2023-11-10T13:52:01.314401",
     "exception": false,
     "start_time": "2023-11-10T13:52:01.285873",
     "status": "completed"
    },
    "tags": []
   },
   "outputs": [],
   "source": []
  },
  {
   "cell_type": "code",
   "execution_count": null,
   "id": "69bfca15",
   "metadata": {
    "papermill": {
     "duration": 0.028807,
     "end_time": "2023-11-10T13:52:01.372040",
     "exception": false,
     "start_time": "2023-11-10T13:52:01.343233",
     "status": "completed"
    },
    "tags": []
   },
   "outputs": [],
   "source": []
  },
  {
   "cell_type": "code",
   "execution_count": null,
   "id": "eb9b8ed4",
   "metadata": {
    "papermill": {
     "duration": 0.029584,
     "end_time": "2023-11-10T13:52:01.431049",
     "exception": false,
     "start_time": "2023-11-10T13:52:01.401465",
     "status": "completed"
    },
    "tags": []
   },
   "outputs": [],
   "source": []
  },
  {
   "cell_type": "code",
   "execution_count": null,
   "id": "fc050b12",
   "metadata": {
    "papermill": {
     "duration": 0.029281,
     "end_time": "2023-11-10T13:52:01.489952",
     "exception": false,
     "start_time": "2023-11-10T13:52:01.460671",
     "status": "completed"
    },
    "tags": []
   },
   "outputs": [],
   "source": []
  },
  {
   "cell_type": "code",
   "execution_count": null,
   "id": "77d5dbc2",
   "metadata": {
    "papermill": {
     "duration": 0.031219,
     "end_time": "2023-11-10T13:52:01.551381",
     "exception": false,
     "start_time": "2023-11-10T13:52:01.520162",
     "status": "completed"
    },
    "tags": []
   },
   "outputs": [],
   "source": []
  }
 ],
 "metadata": {
  "kernelspec": {
   "display_name": "Python 3",
   "language": "python",
   "name": "python3"
  },
  "language_info": {
   "codemirror_mode": {
    "name": "ipython",
    "version": 3
   },
   "file_extension": ".py",
   "mimetype": "text/x-python",
   "name": "python",
   "nbconvert_exporter": "python",
   "pygments_lexer": "ipython3",
   "version": "3.10.12"
  },
  "papermill": {
   "default_parameters": {},
   "duration": 78.75741,
   "end_time": "2023-11-10T13:52:03.409448",
   "environment_variables": {},
   "exception": null,
   "input_path": "__notebook__.ipynb",
   "output_path": "__notebook__.ipynb",
   "parameters": {},
   "start_time": "2023-11-10T13:50:44.652038",
   "version": "2.4.0"
  }
 },
 "nbformat": 4,
 "nbformat_minor": 5
}
