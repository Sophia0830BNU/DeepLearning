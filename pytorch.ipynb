{
 "cells": [
  {
   "cell_type": "markdown",
   "id": "3c43890f",
   "metadata": {
    "papermill": {
     "duration": 0.018469,
     "end_time": "2023-11-08T02:42:10.786539",
     "exception": false,
     "start_time": "2023-11-08T02:42:10.768070",
     "status": "completed"
    },
    "tags": []
   },
   "source": [
    "# 第3章 Pytorch 基本开发步骤——用逻辑回归拟合二维数据"
   ]
  },
  {
   "cell_type": "code",
   "execution_count": 1,
   "id": "157a9a9f",
   "metadata": {
    "execution": {
     "iopub.execute_input": "2023-11-08T02:42:10.824508Z",
     "iopub.status.busy": "2023-11-08T02:42:10.824118Z",
     "iopub.status.idle": "2023-11-08T02:42:15.830978Z",
     "shell.execute_reply": "2023-11-08T02:42:15.830133Z"
    },
    "papermill": {
     "duration": 5.029528,
     "end_time": "2023-11-08T02:42:15.833620",
     "exception": false,
     "start_time": "2023-11-08T02:42:10.804092",
     "status": "completed"
    },
    "tags": []
   },
   "outputs": [
    {
     "name": "stderr",
     "output_type": "stream",
     "text": [
      "/opt/conda/lib/python3.10/site-packages/scipy/__init__.py:146: UserWarning: A NumPy version >=1.16.5 and <1.23.0 is required for this version of SciPy (detected version 1.23.5\n",
      "  warnings.warn(f\"A NumPy version >={np_minversion} and <{np_maxversion}\"\n"
     ]
    }
   ],
   "source": [
    "# P20 3.1 实例1：从一组看似混乱的数据中找出规律\n",
    "# 数据集生成\n",
    "#load the required library\n",
    "import sklearn.datasets\n",
    "import torch\n",
    "import numpy as np\n",
    "import matplotlib.pyplot as plt"
   ]
  },
  {
   "cell_type": "code",
   "execution_count": 2,
   "id": "e5c1485e",
   "metadata": {
    "execution": {
     "iopub.execute_input": "2023-11-08T02:42:15.875849Z",
     "iopub.status.busy": "2023-11-08T02:42:15.875422Z",
     "iopub.status.idle": "2023-11-08T02:42:16.232095Z",
     "shell.execute_reply": "2023-11-08T02:42:16.231137Z"
    },
    "papermill": {
     "duration": 0.379871,
     "end_time": "2023-11-08T02:42:16.234149",
     "exception": false,
     "start_time": "2023-11-08T02:42:15.854278",
     "status": "completed"
    },
    "tags": []
   },
   "outputs": [
    {
     "data": {
      "image/png": "[encoded data removed]",
      "text/plain": [
       "<Figure size 640x480 with 1 Axes>"
      ]
     },
     "metadata": {},
     "output_type": "display_data"
    }
   ],
   "source": [
    "np.random.seed(0)\n",
    "X, Y = sklearn.datasets.make_moons(200, noise=0.2)\n",
    "# X为数据的二维特征，y为标签属性\n",
    "\n",
    "arg = np.squeeze(np.argwhere(Y==0), axis = 1) #获取第1组索引\n",
    "# np.squeeze 将其合并为一行向量\n",
    "arg2 = np.squeeze(np.argwhere(Y==1), axis = 1) #获取第二组索引\n",
    "\n",
    "plt.title(\"moons data\")\n",
    "plt.scatter(X[arg,0], X[arg, 1], s=100, c='b',marker='+',label='data1')\n",
    "plt.scatter(X[arg2,0],X[arg2,1],s=40,c='r',marker='o',label='data2')\n",
    "plt.legend()\n",
    "plt.show()"
   ]
  },
  {
   "cell_type": "code",
   "execution_count": 3,
   "id": "e73f29f5",
   "metadata": {
    "execution": {
     "iopub.execute_input": "2023-11-08T02:42:16.273611Z",
     "iopub.status.busy": "2023-11-08T02:42:16.273293Z",
     "iopub.status.idle": "2023-11-08T02:42:16.282564Z",
     "shell.execute_reply": "2023-11-08T02:42:16.281585Z"
    },
    "papermill": {
     "duration": 0.030686,
     "end_time": "2023-11-08T02:42:16.284548",
     "exception": false,
     "start_time": "2023-11-08T02:42:16.253862",
     "status": "completed"
    },
    "tags": []
   },
   "outputs": [],
   "source": [
    "# 定义网络模型 LogicNet\n",
    "import torch.nn as nn\n",
    "import torch\n",
    "import numpy as np\n",
    "import matplotlib.pyplot as plt\n",
    "class LogicNet(nn.Module): ##继承nn.Module类，构建网络模型\n",
    "    def __init__(self,inputdim,hiddendim,outputdim):\n",
    "        super(LogicNet,self).__init__()\n",
    "        self.Linear1 = nn.Linear(inputdim,hiddendim) #定义全连接层\n",
    "        self.Linear2 = nn.Linear(hiddendim, outputdim) #定义全连接层\n",
    "        self.criterion = nn.CrossEntropyLoss() #定义交叉熵函数\n",
    "    def forward(self, x):\n",
    "        x = self.Linear1(x) #输入送入到第一个全连接层\n",
    "        x = torch.tanh(x) #对第一个全连接层的结果进行非线性变换\n",
    "        x = self.Linear2(x)\n",
    "        return x\n",
    "    def predict(self, x): #模型的预测接口\n",
    "        pred = torch.softmax(self.forward(x), dim=1)\n",
    "        return torch.argmax(pred, dim=1)\n",
    "    def getloss(self,x,y):\n",
    "        y_pred = self.forward(x)\n",
    "        loss = self.criterion(y_pred,y)\n",
    "        return loss      "
   ]
  },
  {
   "cell_type": "code",
   "execution_count": 4,
   "id": "f38978db",
   "metadata": {
    "execution": {
     "iopub.execute_input": "2023-11-08T02:42:16.324831Z",
     "iopub.status.busy": "2023-11-08T02:42:16.324570Z",
     "iopub.status.idle": "2023-11-08T02:42:16.354080Z",
     "shell.execute_reply": "2023-11-08T02:42:16.353373Z"
    },
    "papermill": {
     "duration": 0.052345,
     "end_time": "2023-11-08T02:42:16.356043",
     "exception": false,
     "start_time": "2023-11-08T02:42:16.303698",
     "status": "completed"
    },
    "tags": []
   },
   "outputs": [],
   "source": [
    "model = LogicNet(inputdim=2,hiddendim=3,outputdim=2) #模型的最终结果有多少个分类，该参数就设置成多少\n",
    "optimizer = torch.optim.Adam(model.parameters(),lr=0.01)"
   ]
  },
  {
   "cell_type": "code",
   "execution_count": 5,
   "id": "39ba37ff",
   "metadata": {
    "execution": {
     "iopub.execute_input": "2023-11-08T02:42:16.396588Z",
     "iopub.status.busy": "2023-11-08T02:42:16.395949Z",
     "iopub.status.idle": "2023-11-08T02:42:17.514843Z",
     "shell.execute_reply": "2023-11-08T02:42:17.513839Z"
    },
    "papermill": {
     "duration": 1.140643,
     "end_time": "2023-11-08T02:42:17.517210",
     "exception": false,
     "start_time": "2023-11-08T02:42:16.376567",
     "status": "completed"
    },
    "tags": []
   },
   "outputs": [],
   "source": [
    "#训练模型\n",
    "xt = torch.from_numpy(X).type(torch.FloatTensor) #将数据转换为张量\n",
    "yt = torch.from_numpy(Y).type(torch.LongTensor)\n",
    "epochs = 1000\n",
    "losses = []\n",
    "for i in range(epochs):\n",
    "    loss = model.getloss(xt, yt)\n",
    "    losses.append(loss.item())\n",
    "    optimizer.zero_grad() #清空之前的梯度\n",
    "    loss.backward() #反向传播损失值\n",
    "    optimizer.step() #更新参数"
   ]
  },
  {
   "cell_type": "code",
   "execution_count": 6,
   "id": "8d15c9fb",
   "metadata": {
    "execution": {
     "iopub.execute_input": "2023-11-08T02:42:17.555687Z",
     "iopub.status.busy": "2023-11-08T02:42:17.555278Z",
     "iopub.status.idle": "2023-11-08T02:42:17.808353Z",
     "shell.execute_reply": "2023-11-08T02:42:17.807410Z"
    },
    "papermill": {
     "duration": 0.274563,
     "end_time": "2023-11-08T02:42:17.810581",
     "exception": false,
     "start_time": "2023-11-08T02:42:17.536018",
     "status": "completed"
    },
    "tags": []
   },
   "outputs": [
    {
     "data": {
      "image/png": "[encoded data removed]",
      "text/plain": [
       "<Figure size 640x480 with 1 Axes>"
      ]
     },
     "metadata": {},
     "output_type": "display_data"
    }
   ],
   "source": [
    "#求移动平均值， 不足w个数当前值作为平均值，之后每w个求该窗口内的平均值\n",
    "def moving_average(a, w=10):\n",
    "    if len(a) <w:\n",
    "       return a[:]\n",
    "    return [val if idx<w else sum(a[idx-w:idx])/w for idx,val in enumerate(a)]\n",
    "def plot_losses(losses):\n",
    "    avgloss = moving_average(losses) #获得损失值的移动平均值\n",
    "    plt.figure(1)\n",
    "    plt.subplot(211)\n",
    "    plt.plot(range(len(avgloss)), avgloss, 'b--')\n",
    "    plt.xlabel('step number')\n",
    "    plt.ylabel('Training loss')\n",
    "    plt.title('step number vs Training loss')\n",
    "    plt.show()\n",
    "plot_losses(losses)"
   ]
  },
  {
   "cell_type": "code",
   "execution_count": 7,
   "id": "30a1dad2",
   "metadata": {
    "execution": {
     "iopub.execute_input": "2023-11-08T02:42:17.850236Z",
     "iopub.status.busy": "2023-11-08T02:42:17.849880Z",
     "iopub.status.idle": "2023-11-08T02:42:17.945683Z",
     "shell.execute_reply": "2023-11-08T02:42:17.944400Z"
    },
    "papermill": {
     "duration": 0.118039,
     "end_time": "2023-11-08T02:42:17.948031",
     "exception": false,
     "start_time": "2023-11-08T02:42:17.829992",
     "status": "completed"
    },
    "tags": []
   },
   "outputs": [
    {
     "name": "stdout",
     "output_type": "stream",
     "text": [
      "0.865\n"
     ]
    }
   ],
   "source": [
    "from sklearn.metrics import accuracy_score\n",
    "print(accuracy_score(model.predict(xt),yt))"
   ]
  },
  {
   "cell_type": "code",
   "execution_count": 8,
   "id": "8849f7d1",
   "metadata": {
    "execution": {
     "iopub.execute_input": "2023-11-08T02:42:17.988290Z",
     "iopub.status.busy": "2023-11-08T02:42:17.987700Z",
     "iopub.status.idle": "2023-11-08T02:42:18.284193Z",
     "shell.execute_reply": "2023-11-08T02:42:18.283288Z"
    },
    "papermill": {
     "duration": 0.318442,
     "end_time": "2023-11-08T02:42:18.286319",
     "exception": false,
     "start_time": "2023-11-08T02:42:17.967877",
     "status": "completed"
    },
    "tags": []
   },
   "outputs": [
    {
     "data": {
      "image/png": "[encoded data removed]",
      "text/plain": [
       "<Figure size 640x480 with 1 Axes>"
      ]
     },
     "metadata": {},
     "output_type": "display_data"
    }
   ],
   "source": [
    "def predict(x):\n",
    "    x = torch.from_numpy(x).type(torch.FloatTensor)\n",
    "    ans = model.predict(x)\n",
    "    return ans.numpy()\n",
    "\n",
    "#可视化预测结果模型\n",
    "def plot_decision_boundary(pred_func, X, Y):\n",
    "    x_min, x_max = X[:, 0].min() - .5, X[:, 0].max() + .5\n",
    "    y_min, y_max = X[:, 1].min() - .5, X[:, 1].max() + .5\n",
    "    h = 0.01\n",
    "    #在坐标系中采用数据，生成网格矩阵，用于输入模型\n",
    "    xx,yy=np.meshgrid(np.arange(x_min, x_max, h), np.arange(y_min, y_max, h))\n",
    "    #将数据输入并进行预测\n",
    "    Z = pred_func(np.c_[xx.ravel(), yy.ravel()])\n",
    "\n",
    " \n",
    "    Z = Z.reshape(xx.shape)\n",
    "    #将预测的结果可视化\n",
    "    plt.contourf(xx, yy, Z, cmap=plt.cm.Spectral)\n",
    "    plt.title(\"Linear predict\")\n",
    "    arg = np.squeeze(np.argwhere(Y==0),axis = 1)\n",
    "    arg2 = np.squeeze(np.argwhere(Y==1),axis = 1)\n",
    "    plt.scatter(X[arg,0], X[arg,1], s=100,c='b',marker='+')\n",
    "    plt.scatter(X[arg2,0], X[arg2,1],s=40, c='r',marker='o')\n",
    "    plt.show()\n",
    "plot_decision_boundary(lambda x:predict(x), xt, yt)\n",
    "    "
   ]
  },
  {
   "cell_type": "markdown",
   "id": "da79fcbc",
   "metadata": {
    "papermill": {
     "duration": 0.063263,
     "end_time": "2023-11-08T02:42:18.369493",
     "exception": false,
     "start_time": "2023-11-08T02:42:18.306230",
     "status": "completed"
    },
    "tags": []
   },
   "source": [
    "# 第4章 Pytorch基础  \n",
    "\n",
    "Pytorch是一个建立在Torch库上的Python包，内部主要是将数据封装成张量（Tensor）（由多个矩阵组成）来进行计算"
   ]
  },
  {
   "cell_type": "code",
   "execution_count": 9,
   "id": "349bace7",
   "metadata": {
    "execution": {
     "iopub.execute_input": "2023-11-08T02:42:18.410482Z",
     "iopub.status.busy": "2023-11-08T02:42:18.409832Z",
     "iopub.status.idle": "2023-11-08T02:42:18.416783Z",
     "shell.execute_reply": "2023-11-08T02:42:18.415779Z"
    },
    "papermill": {
     "duration": 0.0297,
     "end_time": "2023-11-08T02:42:18.418877",
     "exception": false,
     "start_time": "2023-11-08T02:42:18.389177",
     "status": "completed"
    },
    "tags": []
   },
   "outputs": [
    {
     "name": "stdout",
     "output_type": "stream",
     "text": [
      "tensor(5)\n",
      "tensor([4])\n"
     ]
    }
   ],
   "source": [
    "#将其他类型转化为Tensor类型\n",
    "import torch\n",
    "import numpy as np\n",
    "a = torch.tensor(5)\n",
    "print(a)\n",
    "\n",
    "b = np.asarray([4])\n",
    "a = torch.tensor(b)\n",
    "print(a)"
   ]
  },
  {
   "cell_type": "code",
   "execution_count": 10,
   "id": "eae1c329",
   "metadata": {
    "execution": {
     "iopub.execute_input": "2023-11-08T02:42:18.459960Z",
     "iopub.status.busy": "2023-11-08T02:42:18.459694Z",
     "iopub.status.idle": "2023-11-08T02:42:18.475160Z",
     "shell.execute_reply": "2023-11-08T02:42:18.474276Z"
    },
    "papermill": {
     "duration": 0.038463,
     "end_time": "2023-11-08T02:42:18.477127",
     "exception": false,
     "start_time": "2023-11-08T02:42:18.438664",
     "status": "completed"
    },
    "tags": []
   },
   "outputs": [
    {
     "name": "stdout",
     "output_type": "stream",
     "text": [
      "tensor([1.4013e-43, 0.0000e+00])\n",
      "tensor([[-1.0658e-29,  3.3350e-41]])\n",
      "tensor([2.])\n",
      "tensor([1., 2.])\n",
      "tensor([[0.1068],\n",
      "        [0.5159]])\n"
     ]
    }
   ],
   "source": [
    "# torch 定义一个张量\n",
    "import torch\n",
    "\n",
    "#指定张量的形状（得到的张量是没有初始化的）\n",
    "a = torch.Tensor(2)\n",
    "print(a)\n",
    "\n",
    "b = torch.Tensor(1,2)\n",
    "print(b)\n",
    "\n",
    "#指定张量的内容\n",
    "c = torch.Tensor([2])\n",
    "print(c)\n",
    "\n",
    "d = torch.Tensor([1,2])\n",
    "print(d)\n",
    "\n",
    "x = torch.rand(2,1) #初始化\n",
    "print(x)"
   ]
  },
  {
   "cell_type": "code",
   "execution_count": 11,
   "id": "2d7bd20e",
   "metadata": {
    "execution": {
     "iopub.execute_input": "2023-11-08T02:42:18.518225Z",
     "iopub.status.busy": "2023-11-08T02:42:18.517540Z",
     "iopub.status.idle": "2023-11-08T02:42:18.523668Z",
     "shell.execute_reply": "2023-11-08T02:42:18.522759Z"
    },
    "papermill": {
     "duration": 0.028683,
     "end_time": "2023-11-08T02:42:18.525859",
     "exception": false,
     "start_time": "2023-11-08T02:42:18.497176",
     "status": "completed"
    },
    "tags": []
   },
   "outputs": [
    {
     "name": "stdout",
     "output_type": "stream",
     "text": [
      "True\n",
      "2\n",
      "torch.float32\n",
      "torch.float32\n",
      "torch.float64\n",
      "torch.float32\n"
     ]
    }
   ],
   "source": [
    "#张量的判断、个数、类型\n",
    "print(torch.is_tensor(a))\n",
    "print(torch.numel(a))\n",
    "print(torch.get_default_dtype())\n",
    "print(torch.Tensor([1,3]).dtype)\n",
    "torch.set_default_dtype(torch.float64)\n",
    "print(torch.get_default_dtype())\n",
    "torch.set_default_dtype(torch.float32)\n",
    "print(torch.get_default_dtype())"
   ]
  },
  {
   "cell_type": "code",
   "execution_count": 12,
   "id": "e6808feb",
   "metadata": {
    "execution": {
     "iopub.execute_input": "2023-11-08T02:42:18.566943Z",
     "iopub.status.busy": "2023-11-08T02:42:18.566155Z",
     "iopub.status.idle": "2023-11-08T02:42:18.572278Z",
     "shell.execute_reply": "2023-11-08T02:42:18.571279Z"
    },
    "papermill": {
     "duration": 0.029236,
     "end_time": "2023-11-08T02:42:18.574330",
     "exception": false,
     "start_time": "2023-11-08T02:42:18.545094",
     "status": "completed"
    },
    "tags": []
   },
   "outputs": [
    {
     "name": "stdout",
     "output_type": "stream",
     "text": [
      "tensor([4], dtype=torch.int32)\n"
     ]
    }
   ],
   "source": [
    "#指定类型\n",
    "a = torch.FloatTensor([4])\n",
    "print(a.type(torch.IntTensor))"
   ]
  },
  {
   "cell_type": "code",
   "execution_count": 13,
   "id": "dd950cd3",
   "metadata": {
    "execution": {
     "iopub.execute_input": "2023-11-08T02:42:18.615291Z",
     "iopub.status.busy": "2023-11-08T02:42:18.615005Z",
     "iopub.status.idle": "2023-11-08T02:42:18.623088Z",
     "shell.execute_reply": "2023-11-08T02:42:18.622080Z"
    },
    "papermill": {
     "duration": 0.030556,
     "end_time": "2023-11-08T02:42:18.625255",
     "exception": false,
     "start_time": "2023-11-08T02:42:18.594699",
     "status": "completed"
    },
    "tags": []
   },
   "outputs": [
    {
     "name": "stdout",
     "output_type": "stream",
     "text": [
      "[4.]\n",
      "tensor([4])\n",
      "tensor([4])\n",
      "(1,) 1\n",
      "torch.Size([1]) torch.Size([1])\n"
     ]
    }
   ],
   "source": [
    "#Tensor和numpy数据转换，shape与size的使用\n",
    "import numpy as np\n",
    "a =torch.FloatTensor([4])\n",
    "print(a.numpy())\n",
    "anp = np.asarray([4]) #定义numpy类型的对象\n",
    "print(torch.from_numpy(anp))\n",
    "print(torch.tensor(anp))\n",
    "\n",
    "a = a.numpy()\n",
    "anp = torch.tensor(anp)\n",
    "print(a.shape, a.size)\n",
    "print(anp.shape, anp.size())"
   ]
  },
  {
   "cell_type": "code",
   "execution_count": 14,
   "id": "9e822ddf",
   "metadata": {
    "execution": {
     "iopub.execute_input": "2023-11-08T02:42:18.667398Z",
     "iopub.status.busy": "2023-11-08T02:42:18.666793Z",
     "iopub.status.idle": "2023-11-08T02:42:18.675173Z",
     "shell.execute_reply": "2023-11-08T02:42:18.674102Z"
    },
    "papermill": {
     "duration": 0.031753,
     "end_time": "2023-11-08T02:42:18.677217",
     "exception": false,
     "start_time": "2023-11-08T02:42:18.645464",
     "status": "completed"
    },
    "tags": []
   },
   "outputs": [
    {
     "name": "stdout",
     "output_type": "stream",
     "text": [
      "tensor([1, 1])\n",
      "tensor([2, 2])\n",
      "tensor([1, 1])\n",
      "tensor([1, 1])\n"
     ]
    }
   ],
   "source": [
    "#张量与Numpy类型数据相互转换间的陷阱\n",
    "nparray = np.array([1,1])\n",
    "x = torch.from_numpy(nparray)\n",
    "print(x)\n",
    "nparray+=1\n",
    "print(x)\n",
    "\n",
    "nparray = np.array([1,1])\n",
    "x = torch.from_numpy(nparray)\n",
    "print(x)\n",
    "nparray = nparray +1 #系统会额外复制一份内存赋值给nparray变量\n",
    "print(x)"
   ]
  },
  {
   "cell_type": "code",
   "execution_count": 15,
   "id": "26157294",
   "metadata": {
    "execution": {
     "iopub.execute_input": "2023-11-08T02:42:18.718487Z",
     "iopub.status.busy": "2023-11-08T02:42:18.718185Z",
     "iopub.status.idle": "2023-11-08T02:42:23.225863Z",
     "shell.execute_reply": "2023-11-08T02:42:23.224929Z"
    },
    "papermill": {
     "duration": 4.530762,
     "end_time": "2023-11-08T02:42:23.228146",
     "exception": false,
     "start_time": "2023-11-08T02:42:18.697384",
     "status": "completed"
    },
    "tags": []
   },
   "outputs": [
    {
     "name": "stdout",
     "output_type": "stream",
     "text": [
      "tensor([4.], device='cuda:0')\n",
      "tensor([4.])\n",
      "tensor([4], device='cuda:0')\n",
      "tensor([4], device='cuda:1')\n"
     ]
    }
   ],
   "source": [
    "#CPU内存转化到GPU中\n",
    "a = torch.FloatTensor([4])\n",
    "b = a.cuda()\n",
    "print(b)\n",
    "\n",
    "\n",
    "#GPU 内存转化到CPU中\n",
    "print(b.cpu())\n",
    "\n",
    "#直接在GPU中定义张量\n",
    "a = torch.tensor([4],device=\"cuda\")\n",
    "print(a)\n",
    "\n",
    "#指定设备\n",
    "print(a.to(\"cuda:1\"))"
   ]
  },
  {
   "cell_type": "code",
   "execution_count": 16,
   "id": "2e2093f7",
   "metadata": {
    "execution": {
     "iopub.execute_input": "2023-11-08T02:42:23.274652Z",
     "iopub.status.busy": "2023-11-08T02:42:23.273901Z",
     "iopub.status.idle": "2023-11-08T02:42:23.278825Z",
     "shell.execute_reply": "2023-11-08T02:42:23.277894Z"
    },
    "papermill": {
     "duration": 0.032134,
     "end_time": "2023-11-08T02:42:23.281048",
     "exception": false,
     "start_time": "2023-11-08T02:42:23.248914",
     "status": "completed"
    },
    "tags": []
   },
   "outputs": [],
   "source": [
    "import os\n",
    "os.environ[\"CUDA_VISIBLE_DEVICES\"] = \"0\" #当前代码在第1个GPU上运行"
   ]
  },
  {
   "cell_type": "code",
   "execution_count": 17,
   "id": "0467fe68",
   "metadata": {
    "execution": {
     "iopub.execute_input": "2023-11-08T02:42:23.324092Z",
     "iopub.status.busy": "2023-11-08T02:42:23.323489Z",
     "iopub.status.idle": "2023-11-08T02:42:23.330984Z",
     "shell.execute_reply": "2023-11-08T02:42:23.329995Z"
    },
    "papermill": {
     "duration": 0.030922,
     "end_time": "2023-11-08T02:42:23.332929",
     "exception": false,
     "start_time": "2023-11-08T02:42:23.302007",
     "status": "completed"
    },
    "tags": []
   },
   "outputs": [
    {
     "name": "stdout",
     "output_type": "stream",
     "text": [
      "4629704869448837849\n",
      "2\n"
     ]
    }
   ],
   "source": [
    "print(torch.initial_seed())\n",
    "torch.manual_seed(2)\n",
    "print(torch.initial_seed())"
   ]
  },
  {
   "cell_type": "code",
   "execution_count": 18,
   "id": "c48d243e",
   "metadata": {
    "execution": {
     "iopub.execute_input": "2023-11-08T02:42:23.376474Z",
     "iopub.status.busy": "2023-11-08T02:42:23.376197Z",
     "iopub.status.idle": "2023-11-08T02:42:23.390172Z",
     "shell.execute_reply": "2023-11-08T02:42:23.389095Z"
    },
    "papermill": {
     "duration": 0.037258,
     "end_time": "2023-11-08T02:42:23.392166",
     "exception": false,
     "start_time": "2023-11-08T02:42:23.354908",
     "status": "completed"
    },
    "tags": []
   },
   "outputs": [
    {
     "name": "stdout",
     "output_type": "stream",
     "text": [
      "tensor([[ 0.3923, -0.2236, -0.3195],\n",
      "        [-1.2050,  1.0445, -0.6332]])\n",
      "tensor([1, 3, 5, 7, 9])\n",
      "tensor([1., 3., 5., 7., 9.])\n",
      "tensor([1.0000e+01, 1.0000e+03, 1.0000e+05, 1.0000e+07, 1.0000e+09])\n",
      "tensor([[-6.5499e-09,  4.4463e-41]])\n"
     ]
    }
   ],
   "source": [
    "#生成数据\n",
    "print(torch.randn(2,3))\n",
    "print(torch.arange(1,10,step=2)) #步长为2\n",
    "print(torch.linspace(1,9,steps=5)) #均匀地取出5个数值\n",
    "print(torch.logspace(1,9,steps=5))\n",
    "print(torch.empty(1,2))#生成未初始化的矩阵"
   ]
  },
  {
   "cell_type": "code",
   "execution_count": 19,
   "id": "bc3ae067",
   "metadata": {
    "execution": {
     "iopub.execute_input": "2023-11-08T02:42:23.438226Z",
     "iopub.status.busy": "2023-11-08T02:42:23.437704Z",
     "iopub.status.idle": "2023-11-08T02:42:23.447976Z",
     "shell.execute_reply": "2023-11-08T02:42:23.446938Z"
    },
    "papermill": {
     "duration": 0.038613,
     "end_time": "2023-11-08T02:42:23.451460",
     "exception": false,
     "start_time": "2023-11-08T02:42:23.412847",
     "status": "completed"
    },
    "tags": []
   },
   "outputs": [
    {
     "name": "stdout",
     "output_type": "stream",
     "text": [
      "tensor([8.])\n",
      "\n"
     ]
    }
   ],
   "source": [
    "#pytorch运算\n",
    "a = torch.FloatTensor([4])\n",
    "\n",
    "torch.add(a,a,out=c) #指定最后结果为b\n",
    "print(c)\n",
    "\n",
    "#自变化运算 即在变量本身基础上做运算\n",
    "a.add_(c)\n",
    "print()\n"
   ]
  },
  {
   "cell_type": "code",
   "execution_count": 20,
   "id": "4300f43d",
   "metadata": {
    "execution": {
     "iopub.execute_input": "2023-11-08T02:42:23.500330Z",
     "iopub.status.busy": "2023-11-08T02:42:23.499544Z",
     "iopub.status.idle": "2023-11-08T02:42:23.509644Z",
     "shell.execute_reply": "2023-11-08T02:42:23.508784Z"
    },
    "papermill": {
     "duration": 0.036234,
     "end_time": "2023-11-08T02:42:23.511543",
     "exception": false,
     "start_time": "2023-11-08T02:42:23.475309",
     "status": "completed"
    },
    "tags": []
   },
   "outputs": [
    {
     "name": "stdout",
     "output_type": "stream",
     "text": [
      "tensor([[1, 2, 3, 4]])\n",
      "tensor([[1, 2, 3, 4]])\n",
      "tensor([1, 2, 3, 4])\n",
      "tensor([[1, 2, 3, 4]])\n"
     ]
    }
   ],
   "source": [
    "#张量的reshape方法和torch.reshape结果一致\n",
    "a = torch.tensor([[1,2],[3,4]])\n",
    "print(torch.reshape(a,(1,-1)))\n",
    "print(a.reshape(1,-1))\n",
    "\n",
    "#去掉值为1的维度\n",
    "print(torch.squeeze(torch.reshape(a,(1,-1))))\n",
    "\n",
    "#增加值为1的维度\n",
    "print(torch.unsqueeze(torch.squeeze(torch.reshape(a,(1,-1))),dim=0))"
   ]
  },
  {
   "cell_type": "code",
   "execution_count": 21,
   "id": "2ce2e0d6",
   "metadata": {
    "execution": {
     "iopub.execute_input": "2023-11-08T02:42:23.552994Z",
     "iopub.status.busy": "2023-11-08T02:42:23.552731Z",
     "iopub.status.idle": "2023-11-08T02:42:23.560440Z",
     "shell.execute_reply": "2023-11-08T02:42:23.559403Z"
    },
    "papermill": {
     "duration": 0.030358,
     "end_time": "2023-11-08T02:42:23.562281",
     "exception": false,
     "start_time": "2023-11-08T02:42:23.531923",
     "status": "completed"
    },
    "tags": []
   },
   "outputs": [
    {
     "name": "stdout",
     "output_type": "stream",
     "text": [
      "(tensor([[5],\n",
      "        [2]]), tensor([[6, 7],\n",
      "        [8, 0]]))\n",
      "(tensor([[5, 6],\n",
      "        [2, 8]]), tensor([[7],\n",
      "        [0]]))\n"
     ]
    }
   ],
   "source": [
    "#数据不均匀分割\n",
    "b = torch.tensor([[5,6,7],[2,8,0]])\n",
    "print(torch.split(b,split_size_or_sections = (1,2), dim=1)) #维度为1的两个部分，第一部分一个元素，第二部分两个元素\n",
    "print(torch.split(b,split_size_or_sections = 2, dim=1)) #每部分两个元素，最后不足两个元素单独列出来"
   ]
  },
  {
   "cell_type": "code",
   "execution_count": 22,
   "id": "6b5f771c",
   "metadata": {
    "execution": {
     "iopub.execute_input": "2023-11-08T02:42:23.602441Z",
     "iopub.status.busy": "2023-11-08T02:42:23.602154Z",
     "iopub.status.idle": "2023-11-08T02:42:23.609918Z",
     "shell.execute_reply": "2023-11-08T02:42:23.609103Z"
    },
    "papermill": {
     "duration": 0.029926,
     "end_time": "2023-11-08T02:42:23.611728",
     "exception": false,
     "start_time": "2023-11-08T02:42:23.581802",
     "status": "completed"
    },
    "tags": []
   },
   "outputs": [
    {
     "name": "stdout",
     "output_type": "stream",
     "text": [
      "tensor([[False,  True],\n",
      "        [ True,  True]])\n"
     ]
    },
    {
     "data": {
      "text/plain": [
       "tensor([2, 3, 4])"
      ]
     },
     "execution_count": 22,
     "metadata": {},
     "output_type": "execute_result"
    }
   ],
   "source": [
    "a = torch.tensor([[1,2],[3,4]])\n",
    "mask = a.ge(2)\n",
    "print(mask)  \n",
    "torch.masked_select(a,mask)"
   ]
  },
  {
   "cell_type": "code",
   "execution_count": 23,
   "id": "18163af3",
   "metadata": {
    "execution": {
     "iopub.execute_input": "2023-11-08T02:42:23.652875Z",
     "iopub.status.busy": "2023-11-08T02:42:23.652598Z",
     "iopub.status.idle": "2023-11-08T02:42:23.660132Z",
     "shell.execute_reply": "2023-11-08T02:42:23.659307Z"
    },
    "papermill": {
     "duration": 0.030284,
     "end_time": "2023-11-08T02:42:23.662091",
     "exception": false,
     "start_time": "2023-11-08T02:42:23.631807",
     "status": "completed"
    },
    "tags": []
   },
   "outputs": [
    {
     "data": {
      "text/plain": [
       "tensor([[[2, 2],\n",
       "         [3, 3]]])"
      ]
     },
     "execution_count": 23,
     "metadata": {},
     "output_type": "execute_result"
    }
   ],
   "source": [
    "#根据阈值进行数据截断\n",
    "a = torch.tensor([[[1,2],[3,4]]])\n",
    "torch.clamp(a, min=2,max=3)"
   ]
  },
  {
   "cell_type": "code",
   "execution_count": 24,
   "id": "907c5608",
   "metadata": {
    "execution": {
     "iopub.execute_input": "2023-11-08T02:42:23.704800Z",
     "iopub.status.busy": "2023-11-08T02:42:23.704516Z",
     "iopub.status.idle": "2023-11-08T02:42:23.713930Z",
     "shell.execute_reply": "2023-11-08T02:42:23.712892Z"
    },
    "papermill": {
     "duration": 0.032962,
     "end_time": "2023-11-08T02:42:23.715951",
     "exception": false,
     "start_time": "2023-11-08T02:42:23.682989",
     "status": "completed"
    },
    "tags": []
   },
   "outputs": [
    {
     "name": "stdout",
     "output_type": "stream",
     "text": [
      "torch.return_types.max(\n",
      "values=tensor([2, 4]),\n",
      "indices=tensor([1, 1]))\n",
      "torch.return_types.min(\n",
      "values=tensor([1, 2]),\n",
      "indices=tensor([0, 0]))\n"
     ]
    }
   ],
   "source": [
    "#张量维度上的最大最小值\n",
    "a = torch.tensor([[1,2], [3,4]])\n",
    "print(torch.max(a, dim=1))\n",
    "print(torch.min(a, dim=0)) #维度0上其他维度上的最值"
   ]
  },
  {
   "cell_type": "code",
   "execution_count": 25,
   "id": "5d39d1a1",
   "metadata": {
    "execution": {
     "iopub.execute_input": "2023-11-08T02:42:23.758391Z",
     "iopub.status.busy": "2023-11-08T02:42:23.758132Z",
     "iopub.status.idle": "2023-11-08T02:42:23.766456Z",
     "shell.execute_reply": "2023-11-08T02:42:23.765422Z"
    },
    "papermill": {
     "duration": 0.031798,
     "end_time": "2023-11-08T02:42:23.768286",
     "exception": false,
     "start_time": "2023-11-08T02:42:23.736488",
     "status": "completed"
    },
    "tags": []
   },
   "outputs": [
    {
     "name": "stdout",
     "output_type": "stream",
     "text": [
      "tensor([[1., 1.],\n",
      "        [1., 1.]], requires_grad=True) None\n",
      "<AddBackward0 object at 0x7bf1d0f9e890>\n",
      "(tensor([[1., 1.],\n",
      "        [1., 1.]], requires_grad=True), None)\n"
     ]
    }
   ],
   "source": [
    "# Variable对象的 grad_fn属性\n",
    "from torch.autograd import Variable\n",
    "x = Variable(torch.ones(2,2), requires_grad=True)\n",
    "print(x, x.grad_fn) #未计算时Variable对象没有grad_fn属性\n",
    "\n",
    "m = x+2\n",
    "print(m.grad_fn)\n",
    "print(m.grad_fn(x))"
   ]
  },
  {
   "cell_type": "markdown",
   "id": "32f9910e",
   "metadata": {
    "papermill": {
     "duration": 0.020435,
     "end_time": "2023-11-08T02:42:23.809175",
     "exception": false,
     "start_time": "2023-11-08T02:42:23.788740",
     "status": "completed"
    },
    "tags": []
   },
   "source": [
    "**Pytorch在模型的正向运行过程中记录每个张量的由来，最终在内存中形成一个树形结构，该结构可帮助神经网络在优化参数时进行反向链式求导，当反向链式求导遇到叶子节点时，终止递归循环**"
   ]
  },
  {
   "cell_type": "code",
   "execution_count": 26,
   "id": "7ddf23bb",
   "metadata": {
    "execution": {
     "iopub.execute_input": "2023-11-08T02:42:23.852258Z",
     "iopub.status.busy": "2023-11-08T02:42:23.851932Z",
     "iopub.status.idle": "2023-11-08T02:42:23.860837Z",
     "shell.execute_reply": "2023-11-08T02:42:23.859751Z"
    },
    "papermill": {
     "duration": 0.033092,
     "end_time": "2023-11-08T02:42:23.863009",
     "exception": false,
     "start_time": "2023-11-08T02:42:23.829917",
     "status": "completed"
    },
    "tags": []
   },
   "outputs": [
    {
     "name": "stdout",
     "output_type": "stream",
     "text": [
      "True\n",
      "False\n",
      "tensor(3., grad_fn=<MeanBackward0>) tensor([[0.2500, 0.2500],\n",
      "        [0.2500, 0.2500]])\n"
     ]
    }
   ],
   "source": [
    "x = torch.ones(2,2,requires_grad=True)\n",
    "print(x.is_leaf) #自定义的为叶子节点\n",
    "m = x+2\n",
    "print(m.is_leaf) #非自定义的不为叶子节点\n",
    "\n",
    "\n",
    "#利用backward自动求导，该方法会自动调用每个需要求导变量的grad_fn()函数，并将结果放到该变量的grad属性中\n",
    "f = m.mean()\n",
    "f.backward() #backward方法一定要在当前变量内容为标量的情况下使用\n",
    "print(f,x.grad)"
   ]
  },
  {
   "cell_type": "code",
   "execution_count": 27,
   "id": "85ece3e0",
   "metadata": {
    "execution": {
     "iopub.execute_input": "2023-11-08T02:42:23.906953Z",
     "iopub.status.busy": "2023-11-08T02:42:23.906671Z",
     "iopub.status.idle": "2023-11-08T02:42:23.913349Z",
     "shell.execute_reply": "2023-11-08T02:42:23.912338Z"
    },
    "papermill": {
     "duration": 0.031434,
     "end_time": "2023-11-08T02:42:23.915610",
     "exception": false,
     "start_time": "2023-11-08T02:42:23.884176",
     "status": "completed"
    },
    "tags": []
   },
   "outputs": [
    {
     "name": "stdout",
     "output_type": "stream",
     "text": [
      "Linear(in_features=2, out_features=3, bias=True)\n",
      "Linear(in_features=3, out_features=2, bias=True)\n",
      "CrossEntropyLoss()\n"
     ]
    }
   ],
   "source": [
    "model = LogicNet(inputdim =2, hiddendim=3,outputdim=2)\n",
    "optimizer = torch.optim.Adam(model.parameters(),lr=0.01)\n",
    "for sub_module in model.children():\n",
    "    print(sub_module)"
   ]
  },
  {
   "cell_type": "code",
   "execution_count": 28,
   "id": "53a5e7cd",
   "metadata": {
    "execution": {
     "iopub.execute_input": "2023-11-08T02:42:23.959807Z",
     "iopub.status.busy": "2023-11-08T02:42:23.959490Z",
     "iopub.status.idle": "2023-11-08T02:42:23.964913Z",
     "shell.execute_reply": "2023-11-08T02:42:23.963983Z"
    },
    "papermill": {
     "duration": 0.02948,
     "end_time": "2023-11-08T02:42:23.966875",
     "exception": false,
     "start_time": "2023-11-08T02:42:23.937395",
     "status": "completed"
    },
    "tags": []
   },
   "outputs": [
    {
     "name": "stdout",
     "output_type": "stream",
     "text": [
      "<class 'torch.Tensor'> torch.Size([3, 2])\n",
      "<class 'torch.Tensor'> torch.Size([3])\n",
      "<class 'torch.Tensor'> torch.Size([2, 3])\n",
      "<class 'torch.Tensor'> torch.Size([2])\n"
     ]
    }
   ],
   "source": [
    "for param in model.parameters():\n",
    "    print(type(param.data),param.size())\n",
    "#前两条为模型第一层Linear1的参数\n",
    "#后两条为模型第二个全连接层Linear2的参数"
   ]
  },
  {
   "cell_type": "code",
   "execution_count": 29,
   "id": "dce689df",
   "metadata": {
    "execution": {
     "iopub.execute_input": "2023-11-08T02:42:24.009622Z",
     "iopub.status.busy": "2023-11-08T02:42:24.009323Z",
     "iopub.status.idle": "2023-11-08T02:42:24.014537Z",
     "shell.execute_reply": "2023-11-08T02:42:24.013610Z"
    },
    "papermill": {
     "duration": 0.029049,
     "end_time": "2023-11-08T02:42:24.016471",
     "exception": false,
     "start_time": "2023-11-08T02:42:23.987422",
     "status": "completed"
    },
    "tags": []
   },
   "outputs": [
    {
     "name": "stdout",
     "output_type": "stream",
     "text": [
      "<class 'torch.nn.parameter.Parameter'> torch.Size([3, 2]) Linear1.weight\n",
      "<class 'torch.nn.parameter.Parameter'> torch.Size([3]) Linear1.bias\n",
      "<class 'torch.nn.parameter.Parameter'> torch.Size([2, 3]) Linear2.weight\n",
      "<class 'torch.nn.parameter.Parameter'> torch.Size([2]) Linear2.bias\n"
     ]
    }
   ],
   "source": [
    "#获取模型参数的名字 param[0]为名字 param[1]为上述参数一致7\n",
    "for param in model.named_parameters(): \n",
    "    print(type(param[1]),param[1].size(),param[0])"
   ]
  },
  {
   "cell_type": "code",
   "execution_count": 30,
   "id": "100311ea",
   "metadata": {
    "execution": {
     "iopub.execute_input": "2023-11-08T02:42:24.060340Z",
     "iopub.status.busy": "2023-11-08T02:42:24.060059Z",
     "iopub.status.idle": "2023-11-08T02:42:24.063961Z",
     "shell.execute_reply": "2023-11-08T02:42:24.063032Z"
    },
    "papermill": {
     "duration": 0.028528,
     "end_time": "2023-11-08T02:42:24.066105",
     "exception": false,
     "start_time": "2023-11-08T02:42:24.037577",
     "status": "completed"
    },
    "tags": []
   },
   "outputs": [],
   "source": [
    "# #保存模型\n",
    "# torch.save(model.state_dict(),'./model1.pth')\n",
    "# #载入模型\n",
    "# model.load_state_dict(torch.load('./model.pth',map_location={'cuda:1':'cuda:0'}))"
   ]
  },
  {
   "cell_type": "code",
   "execution_count": 31,
   "id": "03296812",
   "metadata": {
    "execution": {
     "iopub.execute_input": "2023-11-08T02:42:24.110328Z",
     "iopub.status.busy": "2023-11-08T02:42:24.109684Z",
     "iopub.status.idle": "2023-11-08T02:42:24.120672Z",
     "shell.execute_reply": "2023-11-08T02:42:24.119655Z"
    },
    "papermill": {
     "duration": 0.035401,
     "end_time": "2023-11-08T02:42:24.122742",
     "exception": false,
     "start_time": "2023-11-08T02:42:24.087341",
     "status": "completed"
    },
    "tags": []
   },
   "outputs": [
    {
     "name": "stdout",
     "output_type": "stream",
     "text": [
      "tensor([0.9537, 0.3547])\n",
      "tensor([0.7219, 0.5877])\n",
      "tensor([-0.3259, -0.5315])\n",
      "tensor([0.7414, 0.3405])\n"
     ]
    }
   ],
   "source": [
    "import torch\n",
    "input = torch.autograd.Variable(torch.randn(2))\n",
    "print(input)\n",
    "print(nn.Sigmoid()(input))\n",
    "print(nn.LogSigmoid()(input))\n",
    "print(torch.tanh(input,out=None))"
   ]
  },
  {
   "cell_type": "code",
   "execution_count": 32,
   "id": "092cabe0",
   "metadata": {
    "execution": {
     "iopub.execute_input": "2023-11-08T02:42:24.167239Z",
     "iopub.status.busy": "2023-11-08T02:42:24.166669Z",
     "iopub.status.idle": "2023-11-08T02:42:25.278280Z",
     "shell.execute_reply": "2023-11-08T02:42:25.277343Z"
    },
    "papermill": {
     "duration": 1.136307,
     "end_time": "2023-11-08T02:42:25.280523",
     "exception": false,
     "start_time": "2023-11-08T02:42:24.144216",
     "status": "completed"
    },
    "tags": []
   },
   "outputs": [
    {
     "data": {
      "image/png": "[encoded data removed]",
      "text/plain": [
       "<Figure size 640x480 with 1 Axes>"
      ]
     },
     "metadata": {},
     "output_type": "display_data"
    }
   ],
   "source": [
    "losses = []\n",
    "lr_list = []\n",
    "for i in range(epochs):\n",
    "    loss = model.getloss(xt,yt)\n",
    "    losses.append(loss.item())\n",
    "    optimizer.zero_grad()\n",
    "    loss.backward()\n",
    "    optimizer.step()\n",
    "    if i% 50 == 0:\n",
    "        for p in optimizer.param_groups:\n",
    "            p['lr'] *=0.99\n",
    "    \n",
    "    lr_list.append(optimizer.state_dict()['param_groups'][0]['lr'])\n",
    "plt.plot(range(epochs), lr_list, color ='r')\n",
    "plt.show()"
   ]
  },
  {
   "cell_type": "code",
   "execution_count": 33,
   "id": "7c667610",
   "metadata": {
    "execution": {
     "iopub.execute_input": "2023-11-08T02:42:25.326179Z",
     "iopub.status.busy": "2023-11-08T02:42:25.325882Z",
     "iopub.status.idle": "2023-11-08T02:42:26.418329Z",
     "shell.execute_reply": "2023-11-08T02:42:26.417328Z"
    },
    "papermill": {
     "duration": 1.117556,
     "end_time": "2023-11-08T02:42:26.420632",
     "exception": false,
     "start_time": "2023-11-08T02:42:25.303076",
     "status": "completed"
    },
    "tags": []
   },
   "outputs": [
    {
     "data": {
      "image/png": "[encoded data removed]",
      "text/plain": [
       "<Figure size 640x480 with 1 Axes>"
      ]
     },
     "metadata": {},
     "output_type": "display_data"
    }
   ],
   "source": [
    "# 退化学习率的接口\n",
    "scheduler = torch.optim.lr_scheduler.StepLR(optimizer,step_size=50,gamma = 0.99)\n",
    "losses = []\n",
    "lr_list = []\n",
    "for i in range(epochs):\n",
    "    loss = model.getloss(xt,yt)\n",
    "    losses.append(loss.item())\n",
    "    optimizer.zero_grad()\n",
    "    loss.backward()\n",
    "    optimizer.step()\n",
    "    scheduler.step()    \n",
    "    lr_list.append(optimizer.state_dict()['param_groups'][0]['lr'])\n",
    "plt.plot(range(epochs), lr_list, color ='r')\n",
    "plt.show()\n"
   ]
  },
  {
   "cell_type": "markdown",
   "id": "7e4529ad",
   "metadata": {
    "papermill": {
     "duration": 0.022208,
     "end_time": "2023-11-08T02:42:26.465307",
     "exception": false,
     "start_time": "2023-11-08T02:42:26.443099",
     "status": "completed"
    },
    "tags": []
   },
   "source": [
    "## 实例 4： 预测泰坦尼克号船上的生存乘客 "
   ]
  },
  {
   "cell_type": "code",
   "execution_count": 34,
   "id": "68399229",
   "metadata": {
    "execution": {
     "iopub.execute_input": "2023-11-08T02:42:26.511296Z",
     "iopub.status.busy": "2023-11-08T02:42:26.510654Z",
     "iopub.status.idle": "2023-11-08T02:42:27.387646Z",
     "shell.execute_reply": "2023-11-08T02:42:27.386419Z"
    },
    "papermill": {
     "duration": 0.902566,
     "end_time": "2023-11-08T02:42:27.389910",
     "exception": false,
     "start_time": "2023-11-08T02:42:26.487344",
     "status": "completed"
    },
    "tags": []
   },
   "outputs": [
    {
     "name": "stdout",
     "output_type": "stream",
     "text": [
      "Index(['pclass', 'survived', 'name', 'sex', 'age', 'sibsp', 'parch', 'ticket',\n",
      "       'fare', 'cabin', 'embarked', 'boat', 'body', 'home.dest'],\n",
      "      dtype='object')\n"
     ]
    }
   ],
   "source": [
    "import pandas as pd\n",
    "titanic_data = pd.read_csv(\"../input/titanic/titanic3.csv\")\n",
    "print(titanic_data.columns)"
   ]
  },
  {
   "cell_type": "code",
   "execution_count": 35,
   "id": "a0740763",
   "metadata": {
    "execution": {
     "iopub.execute_input": "2023-11-08T02:42:27.438091Z",
     "iopub.status.busy": "2023-11-08T02:42:27.437781Z",
     "iopub.status.idle": "2023-11-08T02:42:27.462659Z",
     "shell.execute_reply": "2023-11-08T02:42:27.461533Z"
    },
    "papermill": {
     "duration": 0.051027,
     "end_time": "2023-11-08T02:42:27.464909",
     "exception": false,
     "start_time": "2023-11-08T02:42:27.413882",
     "status": "completed"
    },
    "tags": []
   },
   "outputs": [
    {
     "name": "stdout",
     "output_type": "stream",
     "text": [
      "Index(['pclass', 'survived', 'name', 'sex', 'age', 'sibsp', 'parch', 'ticket',\n",
      "       'fare', 'cabin', 'embarked', 'boat', 'body', 'home.dest', 'female',\n",
      "       'male', 'embark_C', 'embark_Q', 'embark_S', 'class_1', 'class_2',\n",
      "       'class_3'],\n",
      "      dtype='object')\n",
      "0       female\n",
      "1         male\n",
      "2       female\n",
      "3         male\n",
      "4       female\n",
      "         ...  \n",
      "1304    female\n",
      "1305    female\n",
      "1306      male\n",
      "1307      male\n",
      "1308      male\n",
      "Name: sex, Length: 1309, dtype: object\n",
      "0        True\n",
      "1       False\n",
      "2        True\n",
      "3       False\n",
      "4        True\n",
      "        ...  \n",
      "1304     True\n",
      "1305     True\n",
      "1306    False\n",
      "1307    False\n",
      "1308    False\n",
      "Name: female, Length: 1309, dtype: bool\n"
     ]
    }
   ],
   "source": [
    "# 将离散数据转为 one-hot 编码\n",
    "titanic_data = pd.concat([titanic_data,\n",
    "                         pd.get_dummies(titanic_data['sex']),\n",
    "                         pd.get_dummies(titanic_data['embarked'],prefix = \"embark\"),\n",
    "                         pd.get_dummies(titanic_data['pclass'],prefix=\"class\")],axis = 1)\n",
    "print(titanic_data.columns)\n",
    "print(titanic_data['sex'])\n",
    "print(titanic_data['female'])"
   ]
  },
  {
   "cell_type": "code",
   "execution_count": 36,
   "id": "da80680d",
   "metadata": {
    "execution": {
     "iopub.execute_input": "2023-11-08T02:42:27.513941Z",
     "iopub.status.busy": "2023-11-08T02:42:27.513651Z",
     "iopub.status.idle": "2023-11-08T02:42:27.520603Z",
     "shell.execute_reply": "2023-11-08T02:42:27.519847Z"
    },
    "papermill": {
     "duration": 0.03432,
     "end_time": "2023-11-08T02:42:27.522840",
     "exception": false,
     "start_time": "2023-11-08T02:42:27.488520",
     "status": "completed"
    },
    "tags": []
   },
   "outputs": [],
   "source": [
    "#对Nan值进行过滤填充\n",
    "titanic_data['age'] = titanic_data['age'].fillna(titanic_data[\"age\"].mean())"
   ]
  },
  {
   "cell_type": "code",
   "execution_count": 37,
   "id": "c0262cf3",
   "metadata": {
    "execution": {
     "iopub.execute_input": "2023-11-08T02:42:27.571687Z",
     "iopub.status.busy": "2023-11-08T02:42:27.571413Z",
     "iopub.status.idle": "2023-11-08T02:42:27.577006Z",
     "shell.execute_reply": "2023-11-08T02:42:27.576246Z"
    },
    "papermill": {
     "duration": 0.031301,
     "end_time": "2023-11-08T02:42:27.578953",
     "exception": false,
     "start_time": "2023-11-08T02:42:27.547652",
     "status": "completed"
    },
    "tags": []
   },
   "outputs": [],
   "source": [
    "titanic_data['fare'] = titanic_data['fare'].fillna(titanic_data['fare'].mean())"
   ]
  },
  {
   "cell_type": "code",
   "execution_count": 38,
   "id": "e0a5ec04",
   "metadata": {
    "execution": {
     "iopub.execute_input": "2023-11-08T02:42:27.626976Z",
     "iopub.status.busy": "2023-11-08T02:42:27.626569Z",
     "iopub.status.idle": "2023-11-08T02:42:27.646435Z",
     "shell.execute_reply": "2023-11-08T02:42:27.645331Z"
    },
    "papermill": {
     "duration": 0.04668,
     "end_time": "2023-11-08T02:42:27.648804",
     "exception": false,
     "start_time": "2023-11-08T02:42:27.602124",
     "status": "completed"
    },
    "tags": []
   },
   "outputs": [
    {
     "name": "stdout",
     "output_type": "stream",
     "text": [
      "      survived        age  sibsp  parch      fare  female   male  embark_C  \\\n",
      "0            1  29.000000      0      0  211.3375    True  False     False   \n",
      "1            1   0.920000      1      2  151.5500   False   True     False   \n",
      "2            0   2.000000      1      2  151.5500    True  False     False   \n",
      "3            0  30.000000      1      2  151.5500   False   True     False   \n",
      "4            0  25.000000      1      2  151.5500    True  False     False   \n",
      "...        ...        ...    ...    ...       ...     ...    ...       ...   \n",
      "1304         0  14.500000      1      0   14.4542    True  False      True   \n",
      "1305         0  29.881138      1      0   14.4542    True  False      True   \n",
      "1306         0  26.500000      0      0    7.2250   False   True      True   \n",
      "1307         0  27.000000      0      0    7.2250   False   True      True   \n",
      "1308         0  29.000000      0      0    7.8750   False   True     False   \n",
      "\n",
      "      embark_Q  embark_S  class_1  class_2  class_3  \n",
      "0        False      True     True    False    False  \n",
      "1        False      True     True    False    False  \n",
      "2        False      True     True    False    False  \n",
      "3        False      True     True    False    False  \n",
      "4        False      True     True    False    False  \n",
      "...        ...       ...      ...      ...      ...  \n",
      "1304     False     False    False    False     True  \n",
      "1305     False     False    False    False     True  \n",
      "1306     False     False    False    False     True  \n",
      "1307     False     False    False    False     True  \n",
      "1308     False      True    False    False     True  \n",
      "\n",
      "[1309 rows x 13 columns]\n"
     ]
    }
   ],
   "source": [
    "#删除无用的列（包含前面使用get_dummy原始列）\n",
    "titanic_data = titanic_data.drop(['name','ticket','cabin','boat','body','home.dest','sex','embarked','pclass'],axis=1)\n",
    "print(titanic_data)"
   ]
  },
  {
   "cell_type": "code",
   "execution_count": 39,
   "id": "52d30212",
   "metadata": {
    "execution": {
     "iopub.execute_input": "2023-11-08T02:42:27.698777Z",
     "iopub.status.busy": "2023-11-08T02:42:27.698506Z",
     "iopub.status.idle": "2023-11-08T02:42:27.712156Z",
     "shell.execute_reply": "2023-11-08T02:42:27.711008Z"
    },
    "papermill": {
     "duration": 0.039459,
     "end_time": "2023-11-08T02:42:27.714220",
     "exception": false,
     "start_time": "2023-11-08T02:42:27.674761",
     "status": "completed"
    },
    "tags": []
   },
   "outputs": [
    {
     "name": "stdout",
     "output_type": "stream",
     "text": [
      "            age  sibsp  parch      fare  female   male  embark_C  embark_Q  \\\n",
      "0     29.000000      0      0  211.3375    True  False     False     False   \n",
      "1      0.920000      1      2  151.5500   False   True     False     False   \n",
      "2      2.000000      1      2  151.5500    True  False     False     False   \n",
      "3     30.000000      1      2  151.5500   False   True     False     False   \n",
      "4     25.000000      1      2  151.5500    True  False     False     False   \n",
      "...         ...    ...    ...       ...     ...    ...       ...       ...   \n",
      "1304  14.500000      1      0   14.4542    True  False      True     False   \n",
      "1305  29.881138      1      0   14.4542    True  False      True     False   \n",
      "1306  26.500000      0      0    7.2250   False   True      True     False   \n",
      "1307  27.000000      0      0    7.2250   False   True      True     False   \n",
      "1308  29.000000      0      0    7.8750   False   True     False     False   \n",
      "\n",
      "      embark_S  class_1  class_2  class_3  \n",
      "0         True     True    False    False  \n",
      "1         True     True    False    False  \n",
      "2         True     True    False    False  \n",
      "3         True     True    False    False  \n",
      "4         True     True    False    False  \n",
      "...        ...      ...      ...      ...  \n",
      "1304     False    False    False     True  \n",
      "1305     False    False    False     True  \n",
      "1306     False    False    False     True  \n",
      "1307     False    False    False     True  \n",
      "1308      True    False    False     True  \n",
      "\n",
      "[1309 rows x 12 columns]\n"
     ]
    }
   ],
   "source": [
    "#分离样本和标签\n",
    "labels = titanic_data[\"survived\"].to_numpy()\n",
    "titanic_data = titanic_data.drop(['survived'],axis=1)\n",
    "print(titanic_data)\n",
    "data = titanic_data.to_numpy()"
   ]
  },
  {
   "cell_type": "code",
   "execution_count": 40,
   "id": "ad6bdab2",
   "metadata": {
    "execution": {
     "iopub.execute_input": "2023-11-08T02:42:27.759129Z",
     "iopub.status.busy": "2023-11-08T02:42:27.758865Z",
     "iopub.status.idle": "2023-11-08T02:42:27.771248Z",
     "shell.execute_reply": "2023-11-08T02:42:27.770107Z"
    },
    "papermill": {
     "duration": 0.03781,
     "end_time": "2023-11-08T02:42:27.773494",
     "exception": false,
     "start_time": "2023-11-08T02:42:27.735684",
     "status": "completed"
    },
    "tags": []
   },
   "outputs": [
    {
     "name": "stdout",
     "output_type": "stream",
     "text": [
      "            age  sibsp  parch      fare  female   male  embark_C  embark_Q  \\\n",
      "0     29.000000      0      0  211.3375    True  False     False     False   \n",
      "1      0.920000      1      2  151.5500   False   True     False     False   \n",
      "2      2.000000      1      2  151.5500    True  False     False     False   \n",
      "3     30.000000      1      2  151.5500   False   True     False     False   \n",
      "4     25.000000      1      2  151.5500    True  False     False     False   \n",
      "...         ...    ...    ...       ...     ...    ...       ...       ...   \n",
      "1304  14.500000      1      0   14.4542    True  False      True     False   \n",
      "1305  29.881138      1      0   14.4542    True  False      True     False   \n",
      "1306  26.500000      0      0    7.2250   False   True      True     False   \n",
      "1307  27.000000      0      0    7.2250   False   True      True     False   \n",
      "1308  29.000000      0      0    7.8750   False   True     False     False   \n",
      "\n",
      "      embark_S  class_1  class_2  class_3  \n",
      "0         True     True    False    False  \n",
      "1         True     True    False    False  \n",
      "2         True     True    False    False  \n",
      "3         True     True    False    False  \n",
      "4         True     True    False    False  \n",
      "...        ...      ...      ...      ...  \n",
      "1304     False    False    False     True  \n",
      "1305     False    False    False     True  \n",
      "1306     False    False    False     True  \n",
      "1307     False    False    False     True  \n",
      "1308      True    False    False     True  \n",
      "\n",
      "[1309 rows x 12 columns]\n"
     ]
    }
   ],
   "source": [
    "print(titanic_data)"
   ]
  },
  {
   "cell_type": "code",
   "execution_count": 41,
   "id": "089679c9",
   "metadata": {
    "execution": {
     "iopub.execute_input": "2023-11-08T02:42:27.821754Z",
     "iopub.status.busy": "2023-11-08T02:42:27.821502Z",
     "iopub.status.idle": "2023-11-08T02:42:27.827163Z",
     "shell.execute_reply": "2023-11-08T02:42:27.826256Z"
    },
    "papermill": {
     "duration": 0.031188,
     "end_time": "2023-11-08T02:42:27.829151",
     "exception": false,
     "start_time": "2023-11-08T02:42:27.797963",
     "status": "completed"
    },
    "tags": []
   },
   "outputs": [],
   "source": [
    "import numpy as np\n",
    "np.random.seed(10)\n",
    "train_indices = np.random.choice(len(labels), int(0.7*len(labels)),replace = False)\n",
    "test_indices = list(set(range(len(labels))) - set(range(len(train_indices))))"
   ]
  },
  {
   "cell_type": "code",
   "execution_count": 42,
   "id": "14eb804b",
   "metadata": {
    "execution": {
     "iopub.execute_input": "2023-11-08T02:42:27.878052Z",
     "iopub.status.busy": "2023-11-08T02:42:27.877735Z",
     "iopub.status.idle": "2023-11-08T02:42:27.883452Z",
     "shell.execute_reply": "2023-11-08T02:42:27.882565Z"
    },
    "papermill": {
     "duration": 0.033244,
     "end_time": "2023-11-08T02:42:27.885767",
     "exception": false,
     "start_time": "2023-11-08T02:42:27.852523",
     "status": "completed"
    },
    "tags": []
   },
   "outputs": [
    {
     "name": "stdout",
     "output_type": "stream",
     "text": [
      "1309 393\n"
     ]
    }
   ],
   "source": [
    "train_features = data[train_indices]\n",
    "train_labels = labels[train_indices]\n",
    "test_features = data[test_indices]\n",
    "test_labels = labels[test_indices]\n",
    "print(len(labels),len(test_labels))"
   ]
  },
  {
   "cell_type": "code",
   "execution_count": 43,
   "id": "51bd89a1",
   "metadata": {
    "execution": {
     "iopub.execute_input": "2023-11-08T02:42:27.933081Z",
     "iopub.status.busy": "2023-11-08T02:42:27.932795Z",
     "iopub.status.idle": "2023-11-08T02:42:27.938342Z",
     "shell.execute_reply": "2023-11-08T02:42:27.937495Z"
    },
    "papermill": {
     "duration": 0.031646,
     "end_time": "2023-11-08T02:42:27.940397",
     "exception": false,
     "start_time": "2023-11-08T02:42:27.908751",
     "status": "completed"
    },
    "tags": []
   },
   "outputs": [],
   "source": [
    "#Mish 激活函数\n",
    "import torch.nn as nn\n",
    "class Mish(nn.Module):\n",
    "    def __init__(self):\n",
    "        super().__init__()\n",
    "        print(\"Mish activation loaded..\")\n",
    "    def forward(self,x):\n",
    "        x = x *(torch.tanh(nn.Softplus()(x)))\n",
    "        return x"
   ]
  },
  {
   "cell_type": "code",
   "execution_count": 44,
   "id": "284e4b87",
   "metadata": {
    "execution": {
     "iopub.execute_input": "2023-11-08T02:42:27.986760Z",
     "iopub.status.busy": "2023-11-08T02:42:27.986160Z",
     "iopub.status.idle": "2023-11-08T02:42:27.991845Z",
     "shell.execute_reply": "2023-11-08T02:42:27.991014Z"
    },
    "papermill": {
     "duration": 0.030668,
     "end_time": "2023-11-08T02:42:27.993923",
     "exception": false,
     "start_time": "2023-11-08T02:42:27.963255",
     "status": "completed"
    },
    "tags": []
   },
   "outputs": [
    {
     "data": {
      "text/plain": [
       "<torch._C.Generator at 0x7bf27122a770>"
      ]
     },
     "execution_count": 44,
     "metadata": {},
     "output_type": "execute_result"
    }
   ],
   "source": [
    "torch.manual_seed(0) #设置随机种子"
   ]
  },
  {
   "cell_type": "code",
   "execution_count": 45,
   "id": "c14cad60",
   "metadata": {
    "execution": {
     "iopub.execute_input": "2023-11-08T02:42:28.042359Z",
     "iopub.status.busy": "2023-11-08T02:42:28.041735Z",
     "iopub.status.idle": "2023-11-08T02:42:31.302601Z",
     "shell.execute_reply": "2023-11-08T02:42:31.301570Z"
    },
    "papermill": {
     "duration": 3.288124,
     "end_time": "2023-11-08T02:42:31.304860",
     "exception": false,
     "start_time": "2023-11-08T02:42:28.016736",
     "status": "completed"
    },
    "tags": []
   },
   "outputs": [
    {
     "name": "stdout",
     "output_type": "stream",
     "text": [
      "Mish activation loaded..\n",
      "Mish activation loaded..\n",
      "[[24.0 1 0 ... True False False]\n",
      " [28.0 0 0 ... False True False]\n",
      " [29.881137667304014 0 0 ... False False True]\n",
      " ...\n",
      " [29.881137667304014 0 2 ... False False True]\n",
      " [29.881137667304014 0 0 ... True False False]\n",
      " [29.881137667304014 1 0 ... False False True]]\n"
     ]
    },
    {
     "data": {
      "image/png": "[encoded data removed]",
      "text/plain": [
       "<Figure size 640x480 with 1 Axes>"
      ]
     },
     "metadata": {},
     "output_type": "display_data"
    }
   ],
   "source": [
    "class ThreelinearModel(nn.Module):\n",
    "    def __init__(self):\n",
    "        super().__init__()\n",
    "        self.linear1 = nn.Linear(12,12)\n",
    "        self.mish1 = Mish()\n",
    "        self.linear2 = nn.Linear(12, 8)\n",
    "        self.mish2 = Mish()\n",
    "        self.linear3 = nn.Linear(8,2)\n",
    "        self.softmax = nn.Softmax(dim=1)\n",
    "        self.criterion = nn.CrossEntropyLoss()\n",
    "    def forward(self,x):\n",
    "        lin1_out = self.linear1(x)\n",
    "        out1 = self.mish1(lin1_out)\n",
    "        out2 = self.mish2(self.linear2(out1))\n",
    "        return self.softmax(self.linear3(out2))\n",
    "    def getloss(self,x,y):\n",
    "        y_pred = self.forward(x)\n",
    "        loss = self.criterion(y_pred, y)\n",
    "        return loss\n",
    "device = torch.device('cuda') if torch.cuda.is_available() else torch.device('cpu')   \n",
    "net = ThreelinearModel().to(device)\n",
    "\n",
    "num_epochs = 200\n",
    "optimizer = torch.optim.Adam(net.parameters(),lr=0.04)\n",
    "print(train_features)\n",
    "train_features = train_features.astype(np.float64) \n",
    "input_tensor = torch.from_numpy(train_features).type(torch.FloatTensor).to(device)\n",
    "label_tensor = torch.from_numpy(train_labels).to(device)\n",
    "\n",
    "\n",
    "\n",
    "losses = []\n",
    "for epoch in range(num_epochs):\n",
    "    loss = net.getloss(input_tensor,label_tensor)\n",
    "    losses.append(loss.item())\n",
    "    optimizer.zero_grad()\n",
    "    loss.backward()\n",
    "    optimizer.step() #更新参数\n",
    "    #if epoch % 20 ==0:\n",
    "        #print('Epoch {}/{} => Loss: {:.2f}'.format(epoch+1, num_epochs, loss.item()))\n",
    "\n",
    "#torch.save(net.state_dict(),'model/titanic_model.pt')\n",
    "\n",
    "plot_losses(losses)"
   ]
  },
  {
   "cell_type": "code",
   "execution_count": 46,
   "id": "52a062cd",
   "metadata": {
    "execution": {
     "iopub.execute_input": "2023-11-08T02:42:31.352899Z",
     "iopub.status.busy": "2023-11-08T02:42:31.352534Z",
     "iopub.status.idle": "2023-11-08T02:42:31.360804Z",
     "shell.execute_reply": "2023-11-08T02:42:31.359696Z"
    },
    "papermill": {
     "duration": 0.034283,
     "end_time": "2023-11-08T02:42:31.362757",
     "exception": false,
     "start_time": "2023-11-08T02:42:31.328474",
     "status": "completed"
    },
    "tags": []
   },
   "outputs": [
    {
     "name": "stdout",
     "output_type": "stream",
     "text": [
      "Train Accuracy: 0.82\n"
     ]
    }
   ],
   "source": [
    "#输出训练结果\n",
    "out_prob = net(input_tensor).cpu().detach().numpy()\n",
    "out_class = np.argmax(out_prob, axis = 1)\n",
    "print('Train Accuracy: {:.2f}'.format(sum(train_labels == out_class) /len(train_labels)))\n"
   ]
  },
  {
   "cell_type": "code",
   "execution_count": 47,
   "id": "ded2d3e8",
   "metadata": {
    "execution": {
     "iopub.execute_input": "2023-11-08T02:42:31.413703Z",
     "iopub.status.busy": "2023-11-08T02:42:31.412837Z",
     "iopub.status.idle": "2023-11-08T02:42:31.423244Z",
     "shell.execute_reply": "2023-11-08T02:42:31.422261Z"
    },
    "papermill": {
     "duration": 0.038262,
     "end_time": "2023-11-08T02:42:31.425361",
     "exception": false,
     "start_time": "2023-11-08T02:42:31.387099",
     "status": "completed"
    },
    "tags": []
   },
   "outputs": [
    {
     "name": "stdout",
     "output_type": "stream",
     "text": [
      "Test Accuracy: 0.79\n"
     ]
    }
   ],
   "source": [
    "#测试模型\n",
    "test_features = test_features.astype(np.float64) \n",
    "test_tensor = torch.from_numpy(test_features).type(torch.FloatTensor).to(device)\n",
    "test_label_tensor = torch.from_numpy(test_labels).to(device)\n",
    "test_prob = net(test_tensor).cpu().detach().numpy()\n",
    "test_class =np.argmax(test_prob,axis=1)\n",
    "print('Test Accuracy: {:.2f}'.format(sum(test_labels == test_class) /len(test_labels)))"
   ]
  },
  {
   "cell_type": "code",
   "execution_count": null,
   "id": "f2df4c96",
   "metadata": {
    "papermill": {
     "duration": 0.022967,
     "end_time": "2023-11-08T02:42:31.472073",
     "exception": false,
     "start_time": "2023-11-08T02:42:31.449106",
     "status": "completed"
    },
    "tags": []
   },
   "outputs": [],
   "source": []
  },
  {
   "cell_type": "code",
   "execution_count": null,
   "id": "bc56b621",
   "metadata": {
    "papermill": {
     "duration": 0.022771,
     "end_time": "2023-11-08T02:42:31.517901",
     "exception": false,
     "start_time": "2023-11-08T02:42:31.495130",
     "status": "completed"
    },
    "tags": []
   },
   "outputs": [],
   "source": []
  },
  {
   "cell_type": "code",
   "execution_count": null,
   "id": "a6c7be4a",
   "metadata": {
    "papermill": {
     "duration": 0.023281,
     "end_time": "2023-11-08T02:42:31.564125",
     "exception": false,
     "start_time": "2023-11-08T02:42:31.540844",
     "status": "completed"
    },
    "tags": []
   },
   "outputs": [],
   "source": []
  },
  {
   "cell_type": "code",
   "execution_count": null,
   "id": "f5e3dda5",
   "metadata": {
    "papermill": {
     "duration": 0.02327,
     "end_time": "2023-11-08T02:42:31.610937",
     "exception": false,
     "start_time": "2023-11-08T02:42:31.587667",
     "status": "completed"
    },
    "tags": []
   },
   "outputs": [],
   "source": []
  },
  {
   "cell_type": "code",
   "execution_count": null,
   "id": "6b40e6e5",
   "metadata": {
    "papermill": {
     "duration": 0.023431,
     "end_time": "2023-11-08T02:42:31.657559",
     "exception": false,
     "start_time": "2023-11-08T02:42:31.634128",
     "status": "completed"
    },
    "tags": []
   },
   "outputs": [],
   "source": []
  },
  {
   "cell_type": "code",
   "execution_count": null,
   "id": "aafc5a17",
   "metadata": {
    "papermill": {
     "duration": 0.023227,
     "end_time": "2023-11-08T02:42:31.704011",
     "exception": false,
     "start_time": "2023-11-08T02:42:31.680784",
     "status": "completed"
    },
    "tags": []
   },
   "outputs": [],
   "source": []
  },
  {
   "cell_type": "code",
   "execution_count": null,
   "id": "e3075837",
   "metadata": {
    "papermill": {
     "duration": 0.023521,
     "end_time": "2023-11-08T02:42:31.750924",
     "exception": false,
     "start_time": "2023-11-08T02:42:31.727403",
     "status": "completed"
    },
    "tags": []
   },
   "outputs": [],
   "source": []
  },
  {
   "cell_type": "code",
   "execution_count": null,
   "id": "177cc167",
   "metadata": {
    "papermill": {
     "duration": 0.026106,
     "end_time": "2023-11-08T02:42:31.800322",
     "exception": false,
     "start_time": "2023-11-08T02:42:31.774216",
     "status": "completed"
    },
    "tags": []
   },
   "outputs": [],
   "source": []
  },
  {
   "cell_type": "code",
   "execution_count": null,
   "id": "6d8ea3e6",
   "metadata": {
    "papermill": {
     "duration": 0.02407,
     "end_time": "2023-11-08T02:42:31.848478",
     "exception": false,
     "start_time": "2023-11-08T02:42:31.824408",
     "status": "completed"
    },
    "tags": []
   },
   "outputs": [],
   "source": []
  },
  {
   "cell_type": "code",
   "execution_count": null,
   "id": "c01af8a2",
   "metadata": {
    "papermill": {
     "duration": 0.023713,
     "end_time": "2023-11-08T02:42:31.896208",
     "exception": false,
     "start_time": "2023-11-08T02:42:31.872495",
     "status": "completed"
    },
    "tags": []
   },
   "outputs": [],
   "source": []
  },
  {
   "cell_type": "code",
   "execution_count": null,
   "id": "8b8b190d",
   "metadata": {
    "papermill": {
     "duration": 0.024448,
     "end_time": "2023-11-08T02:42:31.944516",
     "exception": false,
     "start_time": "2023-11-08T02:42:31.920068",
     "status": "completed"
    },
    "tags": []
   },
   "outputs": [],
   "source": []
  },
  {
   "cell_type": "code",
   "execution_count": null,
   "id": "1c8da7a9",
   "metadata": {
    "papermill": {
     "duration": 0.023897,
     "end_time": "2023-11-08T02:42:31.992208",
     "exception": false,
     "start_time": "2023-11-08T02:42:31.968311",
     "status": "completed"
    },
    "tags": []
   },
   "outputs": [],
   "source": []
  },
  {
   "cell_type": "code",
   "execution_count": null,
   "id": "3ec8096b",
   "metadata": {
    "papermill": {
     "duration": 0.023222,
     "end_time": "2023-11-08T02:42:32.038931",
     "exception": false,
     "start_time": "2023-11-08T02:42:32.015709",
     "status": "completed"
    },
    "tags": []
   },
   "outputs": [],
   "source": []
  },
  {
   "cell_type": "code",
   "execution_count": null,
   "id": "8eed154a",
   "metadata": {
    "papermill": {
     "duration": 0.023697,
     "end_time": "2023-11-08T02:42:32.086465",
     "exception": false,
     "start_time": "2023-11-08T02:42:32.062768",
     "status": "completed"
    },
    "tags": []
   },
   "outputs": [],
   "source": []
  },
  {
   "cell_type": "code",
   "execution_count": null,
   "id": "0dc42b93",
   "metadata": {
    "papermill": {
     "duration": 0.024246,
     "end_time": "2023-11-08T02:42:32.135285",
     "exception": false,
     "start_time": "2023-11-08T02:42:32.111039",
     "status": "completed"
    },
    "tags": []
   },
   "outputs": [],
   "source": []
  },
  {
   "cell_type": "code",
   "execution_count": null,
   "id": "4cbfe94a",
   "metadata": {
    "papermill": {
     "duration": 0.02369,
     "end_time": "2023-11-08T02:42:32.183016",
     "exception": false,
     "start_time": "2023-11-08T02:42:32.159326",
     "status": "completed"
    },
    "tags": []
   },
   "outputs": [],
   "source": []
  },
  {
   "cell_type": "code",
   "execution_count": null,
   "id": "5ff0344b",
   "metadata": {
    "papermill": {
     "duration": 0.023969,
     "end_time": "2023-11-08T02:42:32.230381",
     "exception": false,
     "start_time": "2023-11-08T02:42:32.206412",
     "status": "completed"
    },
    "tags": []
   },
   "outputs": [],
   "source": []
  },
  {
   "cell_type": "code",
   "execution_count": null,
   "id": "ddd88b73",
   "metadata": {
    "papermill": {
     "duration": 0.023965,
     "end_time": "2023-11-08T02:42:32.278447",
     "exception": false,
     "start_time": "2023-11-08T02:42:32.254482",
     "status": "completed"
    },
    "tags": []
   },
   "outputs": [],
   "source": []
  },
  {
   "cell_type": "code",
   "execution_count": null,
   "id": "99243150",
   "metadata": {
    "papermill": {
     "duration": 0.024383,
     "end_time": "2023-11-08T02:42:32.327413",
     "exception": false,
     "start_time": "2023-11-08T02:42:32.303030",
     "status": "completed"
    },
    "tags": []
   },
   "outputs": [],
   "source": []
  },
  {
   "cell_type": "code",
   "execution_count": null,
   "id": "fdb2ff22",
   "metadata": {
    "papermill": {
     "duration": 0.023633,
     "end_time": "2023-11-08T02:42:32.374935",
     "exception": false,
     "start_time": "2023-11-08T02:42:32.351302",
     "status": "completed"
    },
    "tags": []
   },
   "outputs": [],
   "source": []
  },
  {
   "cell_type": "code",
   "execution_count": null,
   "id": "8e4211eb",
   "metadata": {
    "papermill": {
     "duration": 0.025205,
     "end_time": "2023-11-08T02:42:32.426097",
     "exception": false,
     "start_time": "2023-11-08T02:42:32.400892",
     "status": "completed"
    },
    "tags": []
   },
   "outputs": [],
   "source": []
  },
  {
   "cell_type": "code",
   "execution_count": null,
   "id": "7a7f8cec",
   "metadata": {
    "papermill": {
     "duration": 0.024775,
     "end_time": "2023-11-08T02:42:32.474817",
     "exception": false,
     "start_time": "2023-11-08T02:42:32.450042",
     "status": "completed"
    },
    "tags": []
   },
   "outputs": [],
   "source": []
  },
  {
   "cell_type": "code",
   "execution_count": null,
   "id": "db4c20ec",
   "metadata": {
    "papermill": {
     "duration": 0.023415,
     "end_time": "2023-11-08T02:42:32.521615",
     "exception": false,
     "start_time": "2023-11-08T02:42:32.498200",
     "status": "completed"
    },
    "tags": []
   },
   "outputs": [],
   "source": []
  },
  {
   "cell_type": "code",
   "execution_count": null,
   "id": "622965ae",
   "metadata": {
    "papermill": {
     "duration": 0.024027,
     "end_time": "2023-11-08T02:42:32.569274",
     "exception": false,
     "start_time": "2023-11-08T02:42:32.545247",
     "status": "completed"
    },
    "tags": []
   },
   "outputs": [],
   "source": []
  },
  {
   "cell_type": "code",
   "execution_count": null,
   "id": "d74ddd00",
   "metadata": {
    "papermill": {
     "duration": 0.023056,
     "end_time": "2023-11-08T02:42:32.616210",
     "exception": false,
     "start_time": "2023-11-08T02:42:32.593154",
     "status": "completed"
    },
    "tags": []
   },
   "outputs": [],
   "source": []
  },
  {
   "cell_type": "code",
   "execution_count": null,
   "id": "f69c8474",
   "metadata": {
    "papermill": {
     "duration": 0.024134,
     "end_time": "2023-11-08T02:42:32.663616",
     "exception": false,
     "start_time": "2023-11-08T02:42:32.639482",
     "status": "completed"
    },
    "tags": []
   },
   "outputs": [],
   "source": []
  },
  {
   "cell_type": "code",
   "execution_count": null,
   "id": "d85d5c35",
   "metadata": {
    "papermill": {
     "duration": 0.023677,
     "end_time": "2023-11-08T02:42:32.711221",
     "exception": false,
     "start_time": "2023-11-08T02:42:32.687544",
     "status": "completed"
    },
    "tags": []
   },
   "outputs": [],
   "source": []
  }
 ],
 "metadata": {
  "kernelspec": {
   "display_name": "Python 3",
   "language": "python",
   "name": "python3"
  },
  "language_info": {
   "codemirror_mode": {
    "name": "ipython",
    "version": 3
   },
   "file_extension": ".py",
   "mimetype": "text/x-python",
   "name": "python",
   "nbconvert_exporter": "python",
   "pygments_lexer": "ipython3",
   "version": "3.10.12"
  },
  "papermill": {
   "default_parameters": {},
   "duration": 27.834927,
   "end_time": "2023-11-08T02:42:34.888147",
   "environment_variables": {},
   "exception": null,
   "input_path": "__notebook__.ipynb",
   "output_path": "__notebook__.ipynb",
   "parameters": {},
   "start_time": "2023-11-08T02:42:07.053220",
   "version": "2.4.0"
  }
 },
 "nbformat": 4,
 "nbformat_minor": 5
}
