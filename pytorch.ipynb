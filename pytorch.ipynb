{
 "cells": [
  {
   "cell_type": "markdown",
   "id": "52a02fed",
   "metadata": {
    "papermill": {
     "duration": 0.0085,
     "end_time": "2023-10-24T08:29:03.907065",
     "exception": false,
     "start_time": "2023-10-24T08:29:03.898565",
     "status": "completed"
    },
    "tags": []
   },
   "source": [
    "# 第3章 Pytorch 基本开发步骤——用逻辑回归拟合二维数据"
   ]
  },
  {
   "cell_type": "code",
   "execution_count": 1,
   "id": "a5fb1213",
   "metadata": {
    "execution": {
     "iopub.execute_input": "2023-10-24T08:29:03.924705Z",
     "iopub.status.busy": "2023-10-24T08:29:03.924349Z",
     "iopub.status.idle": "2023-10-24T08:29:08.815481Z",
     "shell.execute_reply": "2023-10-24T08:29:08.814446Z"
    },
    "papermill": {
     "duration": 4.902921,
     "end_time": "2023-10-24T08:29:08.817982",
     "exception": false,
     "start_time": "2023-10-24T08:29:03.915061",
     "status": "completed"
    },
    "tags": []
   },
   "outputs": [
    {
     "name": "stderr",
     "output_type": "stream",
     "text": [
      "/opt/conda/lib/python3.10/site-packages/scipy/__init__.py:146: UserWarning: A NumPy version >=1.16.5 and <1.23.0 is required for this version of SciPy (detected version 1.23.5\n",
      "  warnings.warn(f\"A NumPy version >={np_minversion} and <{np_maxversion}\"\n"
     ]
    }
   ],
   "source": [
    "# P20 3.1 实例1：从一组看似混乱的数据中找出规律\n",
    "# 数据集生成\n",
    "#load the required library\n",
    "import sklearn.datasets\n",
    "import torch\n",
    "import numpy as np\n",
    "import matplotlib.pyplot as plt"
   ]
  },
  {
   "cell_type": "markdown",
   "id": "9f2fae2b",
   "metadata": {
    "papermill": {
     "duration": 0.008463,
     "end_time": "2023-10-24T08:29:08.834955",
     "exception": false,
     "start_time": "2023-10-24T08:29:08.826492",
     "status": "completed"
    },
    "tags": []
   },
   "source": []
  },
  {
   "cell_type": "code",
   "execution_count": 2,
   "id": "167b5ba5",
   "metadata": {
    "execution": {
     "iopub.execute_input": "2023-10-24T08:29:08.853125Z",
     "iopub.status.busy": "2023-10-24T08:29:08.852703Z",
     "iopub.status.idle": "2023-10-24T08:29:09.218926Z",
     "shell.execute_reply": "2023-10-24T08:29:09.217981Z"
    },
    "papermill": {
     "duration": 0.377917,
     "end_time": "2023-10-24T08:29:09.221181",
     "exception": false,
     "start_time": "2023-10-24T08:29:08.843264",
     "status": "completed"
    },
    "tags": []
   },
   "outputs": [
    {
     "data": {
      "image/png": "[encoded data removed]",
      "text/plain": [
       "<Figure size 640x480 with 1 Axes>"
      ]
     },
     "metadata": {},
     "output_type": "display_data"
    }
   ],
   "source": [
    "np.random.seed(0)\n",
    "X, Y = sklearn.datasets.make_moons(200, noise=0.2)\n",
    "# X为数据的二维特征，y为标签属性\n",
    "\n",
    "arg = np.squeeze(np.argwhere(Y==0), axis = 1) #获取第1组索引\n",
    "# np.squeeze 将其合并为一行向量\n",
    "arg2 = np.squeeze(np.argwhere(Y==1), axis = 1) #获取第二组索引\n",
    "\n",
    "plt.title(\"moons data\")\n",
    "plt.scatter(X[arg,0], X[arg, 1], s=100, c='b',marker='+',label='data1')\n",
    "plt.scatter(X[arg2,0],X[arg2,1],s=40,c='r',marker='o',label='data2')\n",
    "plt.legend()\n",
    "plt.show()"
   ]
  },
  {
   "cell_type": "code",
   "execution_count": 3,
   "id": "4e8ccb3c",
   "metadata": {
    "execution": {
     "iopub.execute_input": "2023-10-24T08:29:09.242260Z",
     "iopub.status.busy": "2023-10-24T08:29:09.241954Z",
     "iopub.status.idle": "2023-10-24T08:29:09.250782Z",
     "shell.execute_reply": "2023-10-24T08:29:09.249887Z"
    },
    "papermill": {
     "duration": 0.021835,
     "end_time": "2023-10-24T08:29:09.252829",
     "exception": false,
     "start_time": "2023-10-24T08:29:09.230994",
     "status": "completed"
    },
    "tags": []
   },
   "outputs": [],
   "source": [
    "# 定义网络模型 LogicNet\n",
    "import torch.nn as nn\n",
    "import torch\n",
    "import numpy as np\n",
    "import matplotlib.pyplot as plt\n",
    "class LogicNet(nn.Module): ##继承nn.Module类，构建网络模型\n",
    "    def __init__(self,inputdim,hiddendim,outputdim):\n",
    "        super(LogicNet,self).__init__()\n",
    "        self.Linear1 = nn.Linear(inputdim,hiddendim) #定义全连接层\n",
    "        self.Linear2 = nn.Linear(hiddendim, outputdim) #定义全连接层\n",
    "        self.criterion = nn.CrossEntropyLoss() #定义交叉熵函数\n",
    "    def forward(self, x):\n",
    "        x = self.Linear1(x) #输入送入到第一个全连接层\n",
    "        x = torch.tanh(x) #对第一个全连接层的结果进行非线性变换\n",
    "        x = self.Linear2(x)\n",
    "        return x\n",
    "    def predict(self, x): #模型的预测接口\n",
    "        pred = torch.softmax(self.forward(x), dim=1)\n",
    "        return torch.argmax(pred, dim=1)\n",
    "    def getloss(self,x,y):\n",
    "        y_pred = self.forward(x)\n",
    "        loss = self.criterion(y_pred,y)\n",
    "        return loss      "
   ]
  },
  {
   "cell_type": "code",
   "execution_count": 4,
   "id": "957f4d6a",
   "metadata": {
    "execution": {
     "iopub.execute_input": "2023-10-24T08:29:09.272122Z",
     "iopub.status.busy": "2023-10-24T08:29:09.271791Z",
     "iopub.status.idle": "2023-10-24T08:29:09.303350Z",
     "shell.execute_reply": "2023-10-24T08:29:09.302531Z"
    },
    "papermill": {
     "duration": 0.043529,
     "end_time": "2023-10-24T08:29:09.305482",
     "exception": false,
     "start_time": "2023-10-24T08:29:09.261953",
     "status": "completed"
    },
    "tags": []
   },
   "outputs": [],
   "source": [
    "model = LogicNet(inputdim=2,hiddendim=3,outputdim=2) #模型的最终结果有多少个分类，该参数就设置成多少\n",
    "optimizer = torch.optim.Adam(model.parameters(),lr=0.01)"
   ]
  },
  {
   "cell_type": "code",
   "execution_count": 5,
   "id": "45c5f364",
   "metadata": {
    "execution": {
     "iopub.execute_input": "2023-10-24T08:29:09.325191Z",
     "iopub.status.busy": "2023-10-24T08:29:09.324874Z",
     "iopub.status.idle": "2023-10-24T08:29:10.448168Z",
     "shell.execute_reply": "2023-10-24T08:29:10.447301Z"
    },
    "papermill": {
     "duration": 1.136065,
     "end_time": "2023-10-24T08:29:10.450704",
     "exception": false,
     "start_time": "2023-10-24T08:29:09.314639",
     "status": "completed"
    },
    "tags": []
   },
   "outputs": [],
   "source": [
    "#训练模型\n",
    "xt = torch.from_numpy(X).type(torch.FloatTensor) #将数据转换为张量\n",
    "yt = torch.from_numpy(Y).type(torch.LongTensor)\n",
    "epochs = 1000\n",
    "losses = []\n",
    "for i in range(epochs):\n",
    "    loss = model.getloss(xt, yt)\n",
    "    losses.append(loss.item())\n",
    "    optimizer.zero_grad() #清空之前的梯度\n",
    "    loss.backward() #反向传播损失值\n",
    "    optimizer.step() #更新参数"
   ]
  },
  {
   "cell_type": "code",
   "execution_count": 6,
   "id": "f113c8b5",
   "metadata": {
    "execution": {
     "iopub.execute_input": "2023-10-24T08:29:10.470202Z",
     "iopub.status.busy": "2023-10-24T08:29:10.469863Z",
     "iopub.status.idle": "2023-10-24T08:29:10.658042Z",
     "shell.execute_reply": "2023-10-24T08:29:10.657133Z"
    },
    "papermill": {
     "duration": 0.199778,
     "end_time": "2023-10-24T08:29:10.660279",
     "exception": false,
     "start_time": "2023-10-24T08:29:10.460501",
     "status": "completed"
    },
    "tags": []
   },
   "outputs": [
    {
     "data": {
      "image/png": "[encoded data removed]",
      "text/plain": [
       "<Figure size 640x480 with 1 Axes>"
      ]
     },
     "metadata": {},
     "output_type": "display_data"
    }
   ],
   "source": [
    "#求移动平均值， 不足w个数当前值作为平均值，之后每w个求该窗口内的平均值\n",
    "def moving_average(a, w=10):\n",
    "    if len(a) <w:\n",
    "       return a[:]\n",
    "    return [val if idx<w else sum(a[idx-w:idx])/w for idx,val in enumerate(a)]\n",
    "def plot_losses(losses):\n",
    "    avgloss = moving_average(losses) #获得损失值的移动平均值\n",
    "    plt.figure(1)\n",
    "    plt.subplot(211)\n",
    "    plt.plot(range(len(avgloss)), avgloss, 'b--')\n",
    "    plt.xlabel('step number')\n",
    "    plt.ylabel('Training loss')\n",
    "    plt.title('step number vs Training loss')\n",
    "    plt.show()\n",
    "plot_losses(losses)"
   ]
  },
  {
   "cell_type": "code",
   "execution_count": 7,
   "id": "f0e41848",
   "metadata": {
    "execution": {
     "iopub.execute_input": "2023-10-24T08:29:10.681054Z",
     "iopub.status.busy": "2023-10-24T08:29:10.680312Z",
     "iopub.status.idle": "2023-10-24T08:29:10.775382Z",
     "shell.execute_reply": "2023-10-24T08:29:10.774392Z"
    },
    "papermill": {
     "duration": 0.107745,
     "end_time": "2023-10-24T08:29:10.777415",
     "exception": false,
     "start_time": "2023-10-24T08:29:10.669670",
     "status": "completed"
    },
    "tags": []
   },
   "outputs": [
    {
     "name": "stdout",
     "output_type": "stream",
     "text": [
      "0.975\n"
     ]
    }
   ],
   "source": [
    "from sklearn.metrics import accuracy_score\n",
    "print(accuracy_score(model.predict(xt),yt))"
   ]
  },
  {
   "cell_type": "code",
   "execution_count": 8,
   "id": "8be60e53",
   "metadata": {
    "execution": {
     "iopub.execute_input": "2023-10-24T08:29:10.797143Z",
     "iopub.status.busy": "2023-10-24T08:29:10.796874Z",
     "iopub.status.idle": "2023-10-24T08:29:11.164978Z",
     "shell.execute_reply": "2023-10-24T08:29:11.164071Z"
    },
    "papermill": {
     "duration": 0.380655,
     "end_time": "2023-10-24T08:29:11.167428",
     "exception": false,
     "start_time": "2023-10-24T08:29:10.786773",
     "status": "completed"
    },
    "tags": []
   },
   "outputs": [
    {
     "data": {
      "image/png": "[encoded data removed]",
      "text/plain": [
       "<Figure size 640x480 with 1 Axes>"
      ]
     },
     "metadata": {},
     "output_type": "display_data"
    }
   ],
   "source": [
    "def predict(x):\n",
    "    x = torch.from_numpy(x).type(torch.FloatTensor)\n",
    "    ans = model.predict(x)\n",
    "    return ans.numpy()\n",
    "\n",
    "#可视化预测结果模型\n",
    "def plot_decision_boundary(pred_func, X, Y):\n",
    "    x_min, x_max = X[:, 0].min() - .5, X[:, 0].max() + .5\n",
    "    y_min, y_max = X[:, 1].min() - .5, X[:, 1].max() + .5\n",
    "    h = 0.01\n",
    "    #在坐标系中采用数据，生成网格矩阵，用于输入模型\n",
    "    xx,yy=np.meshgrid(np.arange(x_min, x_max, h), np.arange(y_min, y_max, h))\n",
    "    #将数据输入并进行预测\n",
    "    Z = pred_func(np.c_[xx.ravel(), yy.ravel()])\n",
    "\n",
    " \n",
    "    Z = Z.reshape(xx.shape)\n",
    "    #将预测的结果可视化\n",
    "    plt.contourf(xx, yy, Z, cmap=plt.cm.Spectral)\n",
    "    plt.title(\"Linear predict\")\n",
    "    arg = np.squeeze(np.argwhere(Y==0),axis = 1)\n",
    "    arg2 = np.squeeze(np.argwhere(Y==1),axis = 1)\n",
    "    plt.scatter(X[arg,0], X[arg,1], s=100,c='b',marker='+')\n",
    "    plt.scatter(X[arg2,0], X[arg2,1],s=40, c='r',marker='o')\n",
    "    plt.show()\n",
    "plot_decision_boundary(lambda x:predict(x), xt, yt)\n",
    "    "
   ]
  },
  {
   "cell_type": "markdown",
   "id": "1d84a0c8",
   "metadata": {
    "papermill": {
     "duration": 0.010218,
     "end_time": "2023-10-24T08:29:11.188573",
     "exception": false,
     "start_time": "2023-10-24T08:29:11.178355",
     "status": "completed"
    },
    "tags": []
   },
   "source": [
    "# 第4章 Pytorch基础  \n",
    "\n",
    "Pytorch是一个建立在Torch库上的Python包，内部主要是将数据封装成张量（Tensor）（由多个矩阵组成）来进行计算"
   ]
  },
  {
   "cell_type": "code",
   "execution_count": 9,
   "id": "9634452a",
   "metadata": {
    "execution": {
     "iopub.execute_input": "2023-10-24T08:29:11.209340Z",
     "iopub.status.busy": "2023-10-24T08:29:11.209036Z",
     "iopub.status.idle": "2023-10-24T08:29:11.216269Z",
     "shell.execute_reply": "2023-10-24T08:29:11.215178Z"
    },
    "papermill": {
     "duration": 0.020214,
     "end_time": "2023-10-24T08:29:11.218441",
     "exception": false,
     "start_time": "2023-10-24T08:29:11.198227",
     "status": "completed"
    },
    "tags": []
   },
   "outputs": [
    {
     "name": "stdout",
     "output_type": "stream",
     "text": [
      "tensor(5)\n",
      "tensor([4])\n"
     ]
    }
   ],
   "source": [
    "#将其他类型转化为Tensor类型\n",
    "import torch\n",
    "import numpy as np\n",
    "a = torch.tensor(5)\n",
    "print(a)\n",
    "\n",
    "b = np.asarray([4])\n",
    "a = torch.tensor(b)\n",
    "print(a)"
   ]
  },
  {
   "cell_type": "code",
   "execution_count": 10,
   "id": "6ec1ccbe",
   "metadata": {
    "execution": {
     "iopub.execute_input": "2023-10-24T08:29:11.239640Z",
     "iopub.status.busy": "2023-10-24T08:29:11.239365Z",
     "iopub.status.idle": "2023-10-24T08:29:11.256409Z",
     "shell.execute_reply": "2023-10-24T08:29:11.255371Z"
    },
    "papermill": {
     "duration": 0.029766,
     "end_time": "2023-10-24T08:29:11.258459",
     "exception": false,
     "start_time": "2023-10-24T08:29:11.228693",
     "status": "completed"
    },
    "tags": []
   },
   "outputs": [
    {
     "name": "stdout",
     "output_type": "stream",
     "text": [
      "tensor([1.0015e-11, 7.7199e-10])\n",
      "tensor([[-4.1868e+11,  3.2785e-41]])\n",
      "tensor([2.])\n",
      "tensor([1., 2.])\n",
      "tensor([[0.4817],\n",
      "        [0.5504]])\n"
     ]
    }
   ],
   "source": [
    "# torch 定义一个张量\n",
    "import torch\n",
    "\n",
    "#指定张量的形状（得到的张量是没有初始化的）\n",
    "a = torch.Tensor(2)\n",
    "print(a)\n",
    "\n",
    "b = torch.Tensor(1,2)\n",
    "print(b)\n",
    "\n",
    "#指定张量的内容\n",
    "c = torch.Tensor([2])\n",
    "print(c)\n",
    "\n",
    "d = torch.Tensor([1,2])\n",
    "print(d)\n",
    "\n",
    "x = torch.rand(2,1) #初始化\n",
    "print(x)"
   ]
  },
  {
   "cell_type": "code",
   "execution_count": 11,
   "id": "47703e50",
   "metadata": {
    "execution": {
     "iopub.execute_input": "2023-10-24T08:29:11.280630Z",
     "iopub.status.busy": "2023-10-24T08:29:11.280359Z",
     "iopub.status.idle": "2023-10-24T08:29:11.287078Z",
     "shell.execute_reply": "2023-10-24T08:29:11.285996Z"
    },
    "papermill": {
     "duration": 0.020132,
     "end_time": "2023-10-24T08:29:11.289161",
     "exception": false,
     "start_time": "2023-10-24T08:29:11.269029",
     "status": "completed"
    },
    "tags": []
   },
   "outputs": [
    {
     "name": "stdout",
     "output_type": "stream",
     "text": [
      "True\n",
      "2\n",
      "torch.float32\n",
      "torch.float32\n",
      "torch.float64\n",
      "torch.float32\n"
     ]
    }
   ],
   "source": [
    "#张量的判断、个数、类型\n",
    "print(torch.is_tensor(a))\n",
    "print(torch.numel(a))\n",
    "print(torch.get_default_dtype())\n",
    "print(torch.Tensor([1,3]).dtype)\n",
    "torch.set_default_dtype(torch.float64)\n",
    "print(torch.get_default_dtype())\n",
    "torch.set_default_dtype(torch.float32)\n",
    "print(torch.get_default_dtype())"
   ]
  },
  {
   "cell_type": "code",
   "execution_count": 12,
   "id": "81c9ed97",
   "metadata": {
    "execution": {
     "iopub.execute_input": "2023-10-24T08:29:11.310677Z",
     "iopub.status.busy": "2023-10-24T08:29:11.310402Z",
     "iopub.status.idle": "2023-10-24T08:29:11.316445Z",
     "shell.execute_reply": "2023-10-24T08:29:11.315461Z"
    },
    "papermill": {
     "duration": 0.019456,
     "end_time": "2023-10-24T08:29:11.318560",
     "exception": false,
     "start_time": "2023-10-24T08:29:11.299104",
     "status": "completed"
    },
    "tags": []
   },
   "outputs": [
    {
     "name": "stdout",
     "output_type": "stream",
     "text": [
      "tensor([4], dtype=torch.int32)\n"
     ]
    }
   ],
   "source": [
    "#指定类型\n",
    "a = torch.FloatTensor([4])\n",
    "print(a.type(torch.IntTensor))"
   ]
  },
  {
   "cell_type": "code",
   "execution_count": 13,
   "id": "8009e4a1",
   "metadata": {
    "execution": {
     "iopub.execute_input": "2023-10-24T08:29:11.341309Z",
     "iopub.status.busy": "2023-10-24T08:29:11.340735Z",
     "iopub.status.idle": "2023-10-24T08:29:11.349077Z",
     "shell.execute_reply": "2023-10-24T08:29:11.347992Z"
    },
    "papermill": {
     "duration": 0.022053,
     "end_time": "2023-10-24T08:29:11.351332",
     "exception": false,
     "start_time": "2023-10-24T08:29:11.329279",
     "status": "completed"
    },
    "tags": []
   },
   "outputs": [
    {
     "name": "stdout",
     "output_type": "stream",
     "text": [
      "[4.]\n",
      "tensor([4])\n",
      "tensor([4])\n",
      "(1,) 1\n",
      "torch.Size([1]) torch.Size([1])\n"
     ]
    }
   ],
   "source": [
    "#Tensor和numpy数据转换，shape与size的使用\n",
    "import numpy as np\n",
    "a =torch.FloatTensor([4])\n",
    "print(a.numpy())\n",
    "anp = np.asarray([4]) #定义numpy类型的对象\n",
    "print(torch.from_numpy(anp))\n",
    "print(torch.tensor(anp))\n",
    "\n",
    "a = a.numpy()\n",
    "anp = torch.tensor(anp)\n",
    "print(a.shape, a.size)\n",
    "print(anp.shape, anp.size())"
   ]
  },
  {
   "cell_type": "code",
   "execution_count": 14,
   "id": "63a89e77",
   "metadata": {
    "execution": {
     "iopub.execute_input": "2023-10-24T08:29:11.375005Z",
     "iopub.status.busy": "2023-10-24T08:29:11.374716Z",
     "iopub.status.idle": "2023-10-24T08:29:11.382086Z",
     "shell.execute_reply": "2023-10-24T08:29:11.381037Z"
    },
    "papermill": {
     "duration": 0.020908,
     "end_time": "2023-10-24T08:29:11.383968",
     "exception": false,
     "start_time": "2023-10-24T08:29:11.363060",
     "status": "completed"
    },
    "tags": []
   },
   "outputs": [
    {
     "name": "stdout",
     "output_type": "stream",
     "text": [
      "tensor([1, 1])\n",
      "tensor([2, 2])\n",
      "tensor([1, 1])\n",
      "tensor([1, 1])\n"
     ]
    }
   ],
   "source": [
    "#张量与Numpy类型数据相互转换间的陷阱\n",
    "nparray = np.array([1,1])\n",
    "x = torch.from_numpy(nparray)\n",
    "print(x)\n",
    "nparray+=1\n",
    "print(x)\n",
    "\n",
    "nparray = np.array([1,1])\n",
    "x = torch.from_numpy(nparray)\n",
    "print(x)\n",
    "nparray = nparray +1 #系统会额外复制一份内存赋值给nparray变量\n",
    "print(x)"
   ]
  },
  {
   "cell_type": "code",
   "execution_count": 15,
   "id": "2c16814e",
   "metadata": {
    "execution": {
     "iopub.execute_input": "2023-10-24T08:29:11.404231Z",
     "iopub.status.busy": "2023-10-24T08:29:11.403977Z",
     "iopub.status.idle": "2023-10-24T08:29:15.839981Z",
     "shell.execute_reply": "2023-10-24T08:29:15.838675Z"
    },
    "papermill": {
     "duration": 4.44869,
     "end_time": "2023-10-24T08:29:15.842304",
     "exception": false,
     "start_time": "2023-10-24T08:29:11.393614",
     "status": "completed"
    },
    "tags": []
   },
   "outputs": [
    {
     "name": "stdout",
     "output_type": "stream",
     "text": [
      "tensor([4.], device='cuda:0')\n",
      "tensor([4.])\n",
      "tensor([4], device='cuda:0')\n",
      "tensor([4], device='cuda:1')\n"
     ]
    }
   ],
   "source": [
    "#CPU内存转化到GPU中\n",
    "a = torch.FloatTensor([4])\n",
    "b = a.cuda()\n",
    "print(b)\n",
    "\n",
    "\n",
    "#GPU 内存转化到CPU中\n",
    "print(b.cpu())\n",
    "\n",
    "#直接在GPU中定义张量\n",
    "a = torch.tensor([4],device=\"cuda\")\n",
    "print(a)\n",
    "\n",
    "#指定设备\n",
    "print(a.to(\"cuda:1\"))"
   ]
  },
  {
   "cell_type": "code",
   "execution_count": 16,
   "id": "61548396",
   "metadata": {
    "execution": {
     "iopub.execute_input": "2023-10-24T08:29:15.865789Z",
     "iopub.status.busy": "2023-10-24T08:29:15.865150Z",
     "iopub.status.idle": "2023-10-24T08:29:15.869873Z",
     "shell.execute_reply": "2023-10-24T08:29:15.868842Z"
    },
    "papermill": {
     "duration": 0.018713,
     "end_time": "2023-10-24T08:29:15.872028",
     "exception": false,
     "start_time": "2023-10-24T08:29:15.853315",
     "status": "completed"
    },
    "tags": []
   },
   "outputs": [],
   "source": [
    "import os\n",
    "os.environ[\"CUDA_VISIBLE_DEVICES\"] = \"0\" #当前代码在第1个GPU上运行"
   ]
  },
  {
   "cell_type": "code",
   "execution_count": 17,
   "id": "d4edabcf",
   "metadata": {
    "execution": {
     "iopub.execute_input": "2023-10-24T08:29:15.895274Z",
     "iopub.status.busy": "2023-10-24T08:29:15.894710Z",
     "iopub.status.idle": "2023-10-24T08:29:15.902272Z",
     "shell.execute_reply": "2023-10-24T08:29:15.901219Z"
    },
    "papermill": {
     "duration": 0.021371,
     "end_time": "2023-10-24T08:29:15.904374",
     "exception": false,
     "start_time": "2023-10-24T08:29:15.883003",
     "status": "completed"
    },
    "tags": []
   },
   "outputs": [
    {
     "name": "stdout",
     "output_type": "stream",
     "text": [
      "5339665548983952197\n",
      "2\n"
     ]
    }
   ],
   "source": [
    "print(torch.initial_seed())\n",
    "torch.manual_seed(2)\n",
    "print(torch.initial_seed())"
   ]
  },
  {
   "cell_type": "code",
   "execution_count": 18,
   "id": "00719c93",
   "metadata": {
    "execution": {
     "iopub.execute_input": "2023-10-24T08:29:15.927311Z",
     "iopub.status.busy": "2023-10-24T08:29:15.927039Z",
     "iopub.status.idle": "2023-10-24T08:29:15.939312Z",
     "shell.execute_reply": "2023-10-24T08:29:15.938227Z"
    },
    "papermill": {
     "duration": 0.025583,
     "end_time": "2023-10-24T08:29:15.941145",
     "exception": false,
     "start_time": "2023-10-24T08:29:15.915562",
     "status": "completed"
    },
    "tags": []
   },
   "outputs": [
    {
     "name": "stdout",
     "output_type": "stream",
     "text": [
      "tensor([[ 0.3923, -0.2236, -0.3195],\n",
      "        [-1.2050,  1.0445, -0.6332]])\n",
      "tensor([1, 3, 5, 7, 9])\n",
      "tensor([1., 3., 5., 7., 9.])\n",
      "tensor([1.0000e+01, 1.0000e+03, 1.0000e+05, 1.0000e+07, 1.0000e+09])\n",
      "tensor([[4.2311e-21, 3.2786e-41]])\n"
     ]
    }
   ],
   "source": [
    "#生成数据\n",
    "print(torch.randn(2,3))\n",
    "print(torch.arange(1,10,step=2)) #步长为2\n",
    "print(torch.linspace(1,9,steps=5)) #均匀地取出5个数值\n",
    "print(torch.logspace(1,9,steps=5))\n",
    "print(torch.empty(1,2))#生成未初始化的矩阵"
   ]
  },
  {
   "cell_type": "code",
   "execution_count": 19,
   "id": "1faf4c5e",
   "metadata": {
    "execution": {
     "iopub.execute_input": "2023-10-24T08:29:15.962380Z",
     "iopub.status.busy": "2023-10-24T08:29:15.962087Z",
     "iopub.status.idle": "2023-10-24T08:29:15.968181Z",
     "shell.execute_reply": "2023-10-24T08:29:15.967300Z"
    },
    "papermill": {
     "duration": 0.019032,
     "end_time": "2023-10-24T08:29:15.970264",
     "exception": false,
     "start_time": "2023-10-24T08:29:15.951232",
     "status": "completed"
    },
    "tags": []
   },
   "outputs": [
    {
     "name": "stdout",
     "output_type": "stream",
     "text": [
      "tensor([8.])\n",
      "\n"
     ]
    }
   ],
   "source": [
    "#pytorch运算\n",
    "a = torch.FloatTensor([4])\n",
    "\n",
    "torch.add(a,a,out=c) #指定最后结果为b\n",
    "print(c)\n",
    "\n",
    "#自变化运算 即在变量本身基础上做运算\n",
    "a.add_(c)\n",
    "print()\n"
   ]
  },
  {
   "cell_type": "code",
   "execution_count": 20,
   "id": "7c836ff6",
   "metadata": {
    "execution": {
     "iopub.execute_input": "2023-10-24T08:29:15.992990Z",
     "iopub.status.busy": "2023-10-24T08:29:15.992663Z",
     "iopub.status.idle": "2023-10-24T08:29:16.003019Z",
     "shell.execute_reply": "2023-10-24T08:29:16.002119Z"
    },
    "papermill": {
     "duration": 0.024175,
     "end_time": "2023-10-24T08:29:16.004944",
     "exception": false,
     "start_time": "2023-10-24T08:29:15.980769",
     "status": "completed"
    },
    "tags": []
   },
   "outputs": [
    {
     "name": "stdout",
     "output_type": "stream",
     "text": [
      "tensor([[1, 2, 3, 4]])\n",
      "tensor([[1, 2, 3, 4]])\n",
      "tensor([1, 2, 3, 4])\n",
      "tensor([[1, 2, 3, 4]])\n"
     ]
    }
   ],
   "source": [
    "#张量的reshape方法和torch.reshape结果一致\n",
    "a = torch.tensor([[1,2],[3,4]])\n",
    "print(torch.reshape(a,(1,-1)))\n",
    "print(a.reshape(1,-1))\n",
    "\n",
    "#去掉值为1的维度\n",
    "print(torch.squeeze(torch.reshape(a,(1,-1))))\n",
    "\n",
    "#增加值为1的维度\n",
    "print(torch.unsqueeze(torch.squeeze(torch.reshape(a,(1,-1))),dim=0))"
   ]
  },
  {
   "cell_type": "code",
   "execution_count": 21,
   "id": "33deb137",
   "metadata": {
    "execution": {
     "iopub.execute_input": "2023-10-24T08:29:16.026602Z",
     "iopub.status.busy": "2023-10-24T08:29:16.026335Z",
     "iopub.status.idle": "2023-10-24T08:29:16.033424Z",
     "shell.execute_reply": "2023-10-24T08:29:16.032420Z"
    },
    "papermill": {
     "duration": 0.020101,
     "end_time": "2023-10-24T08:29:16.035359",
     "exception": false,
     "start_time": "2023-10-24T08:29:16.015258",
     "status": "completed"
    },
    "tags": []
   },
   "outputs": [
    {
     "name": "stdout",
     "output_type": "stream",
     "text": [
      "(tensor([[5],\n",
      "        [2]]), tensor([[6, 7],\n",
      "        [8, 0]]))\n",
      "(tensor([[5, 6],\n",
      "        [2, 8]]), tensor([[7],\n",
      "        [0]]))\n"
     ]
    }
   ],
   "source": [
    "#数据不均匀分割\n",
    "b = torch.tensor([[5,6,7],[2,8,0]])\n",
    "print(torch.split(b,split_size_or_sections = (1,2), dim=1)) #维度为1的两个部分，第一部分一个元素，第二部分两个元素\n",
    "print(torch.split(b,split_size_or_sections = 2, dim=1)) #每部分两个元素，最后不足两个元素单独列出来"
   ]
  },
  {
   "cell_type": "code",
   "execution_count": 22,
   "id": "6bf6c94b",
   "metadata": {
    "execution": {
     "iopub.execute_input": "2023-10-24T08:29:16.057100Z",
     "iopub.status.busy": "2023-10-24T08:29:16.056816Z",
     "iopub.status.idle": "2023-10-24T08:29:16.064758Z",
     "shell.execute_reply": "2023-10-24T08:29:16.063898Z"
    },
    "papermill": {
     "duration": 0.020734,
     "end_time": "2023-10-24T08:29:16.066825",
     "exception": false,
     "start_time": "2023-10-24T08:29:16.046091",
     "status": "completed"
    },
    "tags": []
   },
   "outputs": [
    {
     "name": "stdout",
     "output_type": "stream",
     "text": [
      "tensor([[False,  True],\n",
      "        [ True,  True]])\n"
     ]
    },
    {
     "data": {
      "text/plain": [
       "tensor([2, 3, 4])"
      ]
     },
     "execution_count": 22,
     "metadata": {},
     "output_type": "execute_result"
    }
   ],
   "source": [
    "a = torch.tensor([[1,2],[3,4]])\n",
    "mask = a.ge(2)\n",
    "print(mask)  \n",
    "torch.masked_select(a,mask)"
   ]
  },
  {
   "cell_type": "code",
   "execution_count": 23,
   "id": "8b0de507",
   "metadata": {
    "execution": {
     "iopub.execute_input": "2023-10-24T08:29:16.089382Z",
     "iopub.status.busy": "2023-10-24T08:29:16.089118Z",
     "iopub.status.idle": "2023-10-24T08:29:16.096315Z",
     "shell.execute_reply": "2023-10-24T08:29:16.095389Z"
    },
    "papermill": {
     "duration": 0.020696,
     "end_time": "2023-10-24T08:29:16.098205",
     "exception": false,
     "start_time": "2023-10-24T08:29:16.077509",
     "status": "completed"
    },
    "tags": []
   },
   "outputs": [
    {
     "data": {
      "text/plain": [
       "tensor([[[2, 2],\n",
       "         [3, 3]]])"
      ]
     },
     "execution_count": 23,
     "metadata": {},
     "output_type": "execute_result"
    }
   ],
   "source": [
    "#根据阈值进行数据截断\n",
    "a = torch.tensor([[[1,2],[3,4]]])\n",
    "torch.clamp(a, min=2,max=3)"
   ]
  },
  {
   "cell_type": "code",
   "execution_count": 24,
   "id": "e7a59ef8",
   "metadata": {
    "execution": {
     "iopub.execute_input": "2023-10-24T08:29:16.120681Z",
     "iopub.status.busy": "2023-10-24T08:29:16.120402Z",
     "iopub.status.idle": "2023-10-24T08:29:16.129699Z",
     "shell.execute_reply": "2023-10-24T08:29:16.128535Z"
    },
    "papermill": {
     "duration": 0.022969,
     "end_time": "2023-10-24T08:29:16.131851",
     "exception": false,
     "start_time": "2023-10-24T08:29:16.108882",
     "status": "completed"
    },
    "tags": []
   },
   "outputs": [
    {
     "name": "stdout",
     "output_type": "stream",
     "text": [
      "torch.return_types.max(\n",
      "values=tensor([2, 4]),\n",
      "indices=tensor([1, 1]))\n",
      "torch.return_types.min(\n",
      "values=tensor([1, 2]),\n",
      "indices=tensor([0, 0]))\n"
     ]
    }
   ],
   "source": [
    "#张量维度上的最大最小值\n",
    "a = torch.tensor([[1,2], [3,4]])\n",
    "print(torch.max(a, dim=1))\n",
    "print(torch.min(a, dim=0)) #维度0上其他维度上的最值"
   ]
  },
  {
   "cell_type": "code",
   "execution_count": 25,
   "id": "07eb3cca",
   "metadata": {
    "execution": {
     "iopub.execute_input": "2023-10-24T08:29:16.156123Z",
     "iopub.status.busy": "2023-10-24T08:29:16.155542Z",
     "iopub.status.idle": "2023-10-24T08:29:16.163956Z",
     "shell.execute_reply": "2023-10-24T08:29:16.162919Z"
    },
    "papermill": {
     "duration": 0.021733,
     "end_time": "2023-10-24T08:29:16.166020",
     "exception": false,
     "start_time": "2023-10-24T08:29:16.144287",
     "status": "completed"
    },
    "tags": []
   },
   "outputs": [
    {
     "name": "stdout",
     "output_type": "stream",
     "text": [
      "tensor([[1., 1.],\n",
      "        [1., 1.]], requires_grad=True) None\n",
      "<AddBackward0 object at 0x788197c75720>\n",
      "(tensor([[1., 1.],\n",
      "        [1., 1.]], requires_grad=True), None)\n"
     ]
    }
   ],
   "source": [
    "# Variable对象的 grad_fn属性\n",
    "from torch.autograd import Variable\n",
    "x = Variable(torch.ones(2,2), requires_grad=True)\n",
    "print(x, x.grad_fn) #未计算时Variable对象没有grad_fn属性\n",
    "\n",
    "m = x+2\n",
    "print(m.grad_fn)\n",
    "print(m.grad_fn(x))"
   ]
  },
  {
   "cell_type": "markdown",
   "id": "86305f86",
   "metadata": {
    "papermill": {
     "duration": 0.010984,
     "end_time": "2023-10-24T08:29:16.188256",
     "exception": false,
     "start_time": "2023-10-24T08:29:16.177272",
     "status": "completed"
    },
    "tags": []
   },
   "source": [
    "**Pytorch在模型的正向运行过程中记录每个张量的由来，最终在内存中形成一个树形结构，该结构可帮助神经网络在优化参数时进行反向链式求导，当反向链式求导遇到叶子节点时，终止递归循环**"
   ]
  },
  {
   "cell_type": "code",
   "execution_count": 26,
   "id": "898185b2",
   "metadata": {
    "execution": {
     "iopub.execute_input": "2023-10-24T08:29:16.211347Z",
     "iopub.status.busy": "2023-10-24T08:29:16.211083Z",
     "iopub.status.idle": "2023-10-24T08:29:16.219070Z",
     "shell.execute_reply": "2023-10-24T08:29:16.218092Z"
    },
    "papermill": {
     "duration": 0.021813,
     "end_time": "2023-10-24T08:29:16.221064",
     "exception": false,
     "start_time": "2023-10-24T08:29:16.199251",
     "status": "completed"
    },
    "tags": []
   },
   "outputs": [
    {
     "name": "stdout",
     "output_type": "stream",
     "text": [
      "True\n",
      "False\n",
      "tensor(3., grad_fn=<MeanBackward0>) tensor([[0.2500, 0.2500],\n",
      "        [0.2500, 0.2500]])\n"
     ]
    }
   ],
   "source": [
    "x = torch.ones(2,2,requires_grad=True)\n",
    "print(x.is_leaf) #自定义的为叶子节点\n",
    "m = x+2\n",
    "print(m.is_leaf) #非自定义的不为叶子节点\n",
    "\n",
    "\n",
    "#利用backward自动求导，该方法会自动调用每个需要求导变量的grad_fn()函数，并将结果放到该变量的grad属性中\n",
    "f = m.mean()\n",
    "f.backward() #backward方法一定要在当前变量内容为标量的情况下使用\n",
    "print(f,x.grad)"
   ]
  }
 ],
 "metadata": {
  "kernelspec": {
   "display_name": "Python 3",
   "language": "python",
   "name": "python3"
  },
  "language_info": {
   "codemirror_mode": {
    "name": "ipython",
    "version": 3
   },
   "file_extension": ".py",
   "mimetype": "text/x-python",
   "name": "python",
   "nbconvert_exporter": "python",
   "pygments_lexer": "ipython3",
   "version": "3.10.12"
  },
  "papermill": {
   "default_parameters": {},
   "duration": 17.458426,
   "end_time": "2023-10-24T08:29:17.754634",
   "environment_variables": {},
   "exception": null,
   "input_path": "__notebook__.ipynb",
   "output_path": "__notebook__.ipynb",
   "parameters": {},
   "start_time": "2023-10-24T08:29:00.296208",
   "version": "2.4.0"
  }
 },
 "nbformat": 4,
 "nbformat_minor": 5
}
